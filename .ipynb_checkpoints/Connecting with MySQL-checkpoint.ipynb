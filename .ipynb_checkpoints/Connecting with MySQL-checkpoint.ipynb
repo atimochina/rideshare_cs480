{
 "cells": [
  {
   "cell_type": "markdown",
   "metadata": {},
   "source": [
    "# Connecting MySQL Database to Jupyter Notebooks\n",
    "\n",
    "### Step 1. Download mysql-connector-python \n",
    "You can do this through commands such as: pip install mysql-connector-python \n",
    "\n",
    "### Step 2. Connect to your database\n",
    "Add your password and uncomment out the others"
   ]
  },
  {
   "cell_type": "code",
   "execution_count": 1,
   "metadata": {},
   "outputs": [],
   "source": [
    "import pandas as pd\n",
    "import mysql.connector\n",
    "\n",
    "db = mysql.connector.connect(\n",
    "    user=\"root\",\n",
    "    password=\"{Password}\", #angy, comment/un-comment for yours\n",
    "    #password = \"ilo5517WD\", \n",
    "    host=\"localhost\",\n",
    "    port = 3306,\n",
    "    database = 'rideshare'\n",
    ")"
   ]
  },
  {
   "cell_type": "markdown",
   "metadata": {},
   "source": [
    "#### Checking connection"
   ]
  },
  {
   "cell_type": "code",
   "execution_count": 2,
   "metadata": {
    "scrolled": true
   },
   "outputs": [
    {
     "name": "stdout",
     "output_type": "stream",
     "text": [
      "<mysql.connector.connection_cext.CMySQLConnection object at 0x0000020DA669DC40>\n"
     ]
    }
   ],
   "source": [
    "print(db)\n"
   ]
  },
  {
   "cell_type": "markdown",
   "metadata": {},
   "source": [
    "#### Setting cursor that will allow us to execute commands like in MySQL queries"
   ]
  },
  {
   "cell_type": "code",
   "execution_count": 3,
   "metadata": {},
   "outputs": [],
   "source": [
    "cursor = db.cursor() "
   ]
  },
  {
   "cell_type": "markdown",
   "metadata": {},
   "source": [
    "### Step 3. Import Tables "
   ]
  },
  {
   "cell_type": "markdown",
   "metadata": {},
   "source": [
    "### Listing all tables in current database = rideshare"
   ]
  },
  {
   "cell_type": "code",
   "execution_count": 4,
   "metadata": {},
   "outputs": [
    {
     "name": "stdout",
     "output_type": "stream",
     "text": [
      "april_green\n",
      "april_yellow\n",
      "feb_green_one_rider\n",
      "feb_green_two_rider\n",
      "february_green\n",
      "february_yellow\n",
      "jan_green_one_rider\n",
      "jan_green_two_rider\n",
      "january_green\n",
      "january_yellow\n",
      "june_green\n",
      "june_yellow\n",
      "mar_green_one_rider\n",
      "mar_green_two_rider\n",
      "march_green\n",
      "march_yellow\n",
      "may_green\n",
      "may_yellow\n"
     ]
    }
   ],
   "source": [
    "cursor.execute(\"SHOW TABLES\")\n",
    "for table in [tables[0] for tables in cursor.fetchall()]:\n",
    "    print(table)"
   ]
  },
  {
   "cell_type": "markdown",
   "metadata": {},
   "source": [
    "### Selecting the january green taxi data that was split with passenger count = 1"
   ]
  },
  {
   "cell_type": "code",
   "execution_count": 5,
   "metadata": {},
   "outputs": [],
   "source": [
    "jan_green_one_rider = pd.read_sql(\"select * from jan_green_one_rider\", db);"
   ]
  },
  {
   "cell_type": "code",
   "execution_count": 6,
   "metadata": {
    "scrolled": false
   },
   "outputs": [
    {
     "data": {
      "text/html": [
       "<div>\n",
       "<style scoped>\n",
       "    .dataframe tbody tr th:only-of-type {\n",
       "        vertical-align: middle;\n",
       "    }\n",
       "\n",
       "    .dataframe tbody tr th {\n",
       "        vertical-align: top;\n",
       "    }\n",
       "\n",
       "    .dataframe thead th {\n",
       "        text-align: right;\n",
       "    }\n",
       "</style>\n",
       "<table border=\"1\" class=\"dataframe\">\n",
       "  <thead>\n",
       "    <tr style=\"text-align: right;\">\n",
       "      <th></th>\n",
       "      <th>ride_id</th>\n",
       "      <th>pickup_datetime</th>\n",
       "      <th>dropoff_datetime</th>\n",
       "      <th>pickup_longitude</th>\n",
       "      <th>pickup_latitude</th>\n",
       "      <th>dropoff_longitude</th>\n",
       "      <th>dropoff_latitude</th>\n",
       "      <th>passenger_count</th>\n",
       "      <th>trip_distance</th>\n",
       "    </tr>\n",
       "  </thead>\n",
       "  <tbody>\n",
       "    <tr>\n",
       "      <th>0</th>\n",
       "      <td>14</td>\n",
       "      <td>2014-01-01 00:00:07</td>\n",
       "      <td>2014-01-01 00:08:28</td>\n",
       "      <td>-73.916992</td>\n",
       "      <td>40.771004</td>\n",
       "      <td>-73.888550</td>\n",
       "      <td>40.745453</td>\n",
       "      <td>1</td>\n",
       "      <td>2.52</td>\n",
       "    </tr>\n",
       "    <tr>\n",
       "      <th>1</th>\n",
       "      <td>16</td>\n",
       "      <td>2014-01-01 00:00:13</td>\n",
       "      <td>2014-01-01 00:07:26</td>\n",
       "      <td>-73.844109</td>\n",
       "      <td>40.721107</td>\n",
       "      <td>-73.816330</td>\n",
       "      <td>40.714375</td>\n",
       "      <td>1</td>\n",
       "      <td>1.66</td>\n",
       "    </tr>\n",
       "    <tr>\n",
       "      <th>2</th>\n",
       "      <td>17</td>\n",
       "      <td>2014-01-01 00:00:13</td>\n",
       "      <td>2014-01-01 00:18:35</td>\n",
       "      <td>-73.911644</td>\n",
       "      <td>40.767956</td>\n",
       "      <td>-73.946960</td>\n",
       "      <td>40.751373</td>\n",
       "      <td>1</td>\n",
       "      <td>2.66</td>\n",
       "    </tr>\n",
       "    <tr>\n",
       "      <th>3</th>\n",
       "      <td>18</td>\n",
       "      <td>2014-01-01 00:00:16</td>\n",
       "      <td>2014-01-01 00:04:05</td>\n",
       "      <td>-73.954727</td>\n",
       "      <td>40.800072</td>\n",
       "      <td>-73.946892</td>\n",
       "      <td>40.813335</td>\n",
       "      <td>1</td>\n",
       "      <td>1.02</td>\n",
       "    </tr>\n",
       "    <tr>\n",
       "      <th>4</th>\n",
       "      <td>19</td>\n",
       "      <td>2014-01-01 00:00:16</td>\n",
       "      <td>2014-01-01 00:08:32</td>\n",
       "      <td>-73.924431</td>\n",
       "      <td>40.743668</td>\n",
       "      <td>-73.934021</td>\n",
       "      <td>40.736256</td>\n",
       "      <td>1</td>\n",
       "      <td>1.10</td>\n",
       "    </tr>\n",
       "  </tbody>\n",
       "</table>\n",
       "</div>"
      ],
      "text/plain": [
       "   ride_id     pickup_datetime    dropoff_datetime  pickup_longitude  \\\n",
       "0       14 2014-01-01 00:00:07 2014-01-01 00:08:28        -73.916992   \n",
       "1       16 2014-01-01 00:00:13 2014-01-01 00:07:26        -73.844109   \n",
       "2       17 2014-01-01 00:00:13 2014-01-01 00:18:35        -73.911644   \n",
       "3       18 2014-01-01 00:00:16 2014-01-01 00:04:05        -73.954727   \n",
       "4       19 2014-01-01 00:00:16 2014-01-01 00:08:32        -73.924431   \n",
       "\n",
       "   pickup_latitude  dropoff_longitude  dropoff_latitude  passenger_count  \\\n",
       "0        40.771004         -73.888550         40.745453                1   \n",
       "1        40.721107         -73.816330         40.714375                1   \n",
       "2        40.767956         -73.946960         40.751373                1   \n",
       "3        40.800072         -73.946892         40.813335                1   \n",
       "4        40.743668         -73.934021         40.736256                1   \n",
       "\n",
       "   trip_distance  \n",
       "0           2.52  \n",
       "1           1.66  \n",
       "2           2.66  \n",
       "3           1.02  \n",
       "4           1.10  "
      ]
     },
     "execution_count": 6,
     "metadata": {},
     "output_type": "execute_result"
    }
   ],
   "source": [
    "jan_green_one_rider.head()"
   ]
  },
  {
   "cell_type": "code",
   "execution_count": 7,
   "metadata": {
    "scrolled": false
   },
   "outputs": [
    {
     "data": {
      "text/html": [
       "<div>\n",
       "<style scoped>\n",
       "    .dataframe tbody tr th:only-of-type {\n",
       "        vertical-align: middle;\n",
       "    }\n",
       "\n",
       "    .dataframe tbody tr th {\n",
       "        vertical-align: top;\n",
       "    }\n",
       "\n",
       "    .dataframe thead th {\n",
       "        text-align: right;\n",
       "    }\n",
       "</style>\n",
       "<table border=\"1\" class=\"dataframe\">\n",
       "  <thead>\n",
       "    <tr style=\"text-align: right;\">\n",
       "      <th></th>\n",
       "      <th>ride_id</th>\n",
       "      <th>pickup_longitude</th>\n",
       "      <th>pickup_latitude</th>\n",
       "      <th>dropoff_longitude</th>\n",
       "      <th>dropoff_latitude</th>\n",
       "      <th>passenger_count</th>\n",
       "      <th>trip_distance</th>\n",
       "    </tr>\n",
       "  </thead>\n",
       "  <tbody>\n",
       "    <tr>\n",
       "      <th>count</th>\n",
       "      <td>640964.000000</td>\n",
       "      <td>640964.000000</td>\n",
       "      <td>640964.000000</td>\n",
       "      <td>640964.000000</td>\n",
       "      <td>640964.000000</td>\n",
       "      <td>640964.0</td>\n",
       "      <td>640964.000000</td>\n",
       "    </tr>\n",
       "    <tr>\n",
       "      <th>mean</th>\n",
       "      <td>403753.981295</td>\n",
       "      <td>-73.929510</td>\n",
       "      <td>40.768245</td>\n",
       "      <td>-73.930421</td>\n",
       "      <td>40.764315</td>\n",
       "      <td>1.0</td>\n",
       "      <td>2.866513</td>\n",
       "    </tr>\n",
       "    <tr>\n",
       "      <th>std</th>\n",
       "      <td>232045.540272</td>\n",
       "      <td>0.041355</td>\n",
       "      <td>0.056710</td>\n",
       "      <td>0.049958</td>\n",
       "      <td>0.057734</td>\n",
       "      <td>0.0</td>\n",
       "      <td>2.828025</td>\n",
       "    </tr>\n",
       "    <tr>\n",
       "      <th>min</th>\n",
       "      <td>14.000000</td>\n",
       "      <td>-74.331802</td>\n",
       "      <td>40.552734</td>\n",
       "      <td>-74.478737</td>\n",
       "      <td>40.441864</td>\n",
       "      <td>1.0</td>\n",
       "      <td>0.010000</td>\n",
       "    </tr>\n",
       "    <tr>\n",
       "      <th>25%</th>\n",
       "      <td>202493.750000</td>\n",
       "      <td>-73.955269</td>\n",
       "      <td>40.721291</td>\n",
       "      <td>-73.963234</td>\n",
       "      <td>40.724201</td>\n",
       "      <td>1.0</td>\n",
       "      <td>1.090000</td>\n",
       "    </tr>\n",
       "    <tr>\n",
       "      <th>50%</th>\n",
       "      <td>403116.500000</td>\n",
       "      <td>-73.940575</td>\n",
       "      <td>40.766838</td>\n",
       "      <td>-73.941170</td>\n",
       "      <td>40.763699</td>\n",
       "      <td>1.0</td>\n",
       "      <td>1.900000</td>\n",
       "    </tr>\n",
       "    <tr>\n",
       "      <th>75%</th>\n",
       "      <td>604872.250000</td>\n",
       "      <td>-73.909353</td>\n",
       "      <td>40.810234</td>\n",
       "      <td>-73.903580</td>\n",
       "      <td>40.807499</td>\n",
       "      <td>1.0</td>\n",
       "      <td>3.660000</td>\n",
       "    </tr>\n",
       "    <tr>\n",
       "      <th>max</th>\n",
       "      <td>803852.000000</td>\n",
       "      <td>-72.633492</td>\n",
       "      <td>41.183037</td>\n",
       "      <td>-72.633492</td>\n",
       "      <td>41.367435</td>\n",
       "      <td>1.0</td>\n",
       "      <td>115.610000</td>\n",
       "    </tr>\n",
       "  </tbody>\n",
       "</table>\n",
       "</div>"
      ],
      "text/plain": [
       "             ride_id  pickup_longitude  pickup_latitude  dropoff_longitude  \\\n",
       "count  640964.000000     640964.000000    640964.000000      640964.000000   \n",
       "mean   403753.981295        -73.929510        40.768245         -73.930421   \n",
       "std    232045.540272          0.041355         0.056710           0.049958   \n",
       "min        14.000000        -74.331802        40.552734         -74.478737   \n",
       "25%    202493.750000        -73.955269        40.721291         -73.963234   \n",
       "50%    403116.500000        -73.940575        40.766838         -73.941170   \n",
       "75%    604872.250000        -73.909353        40.810234         -73.903580   \n",
       "max    803852.000000        -72.633492        41.183037         -72.633492   \n",
       "\n",
       "       dropoff_latitude  passenger_count  trip_distance  \n",
       "count     640964.000000         640964.0  640964.000000  \n",
       "mean          40.764315              1.0       2.866513  \n",
       "std            0.057734              0.0       2.828025  \n",
       "min           40.441864              1.0       0.010000  \n",
       "25%           40.724201              1.0       1.090000  \n",
       "50%           40.763699              1.0       1.900000  \n",
       "75%           40.807499              1.0       3.660000  \n",
       "max           41.367435              1.0     115.610000  "
      ]
     },
     "execution_count": 7,
     "metadata": {},
     "output_type": "execute_result"
    }
   ],
   "source": [
    "jan_green_one_rider.describe()"
   ]
  },
  {
   "cell_type": "code",
   "execution_count": 8,
   "metadata": {},
   "outputs": [
    {
     "data": {
      "text/plain": [
       "ride_id                       int64\n",
       "pickup_datetime      datetime64[ns]\n",
       "dropoff_datetime     datetime64[ns]\n",
       "pickup_longitude            float64\n",
       "pickup_latitude             float64\n",
       "dropoff_longitude           float64\n",
       "dropoff_latitude            float64\n",
       "passenger_count               int64\n",
       "trip_distance               float64\n",
       "dtype: object"
      ]
     },
     "execution_count": 8,
     "metadata": {},
     "output_type": "execute_result"
    }
   ],
   "source": [
    "jan_green_one_rider.dtypes"
   ]
  },
  {
   "cell_type": "code",
   "execution_count": 9,
   "metadata": {
    "scrolled": true
   },
   "outputs": [
    {
     "name": "stdout",
     "output_type": "stream",
     "text": [
      "1837331 total miles for ONE RIDER green taxi data in january 2014 from NYC\n"
     ]
    }
   ],
   "source": [
    "print(round(jan_green_one_rider['trip_distance'].sum()), \"total miles for ONE RIDER green taxi data in january 2014 from NYC\")"
   ]
  },
  {
   "cell_type": "markdown",
   "metadata": {},
   "source": [
    "### Selecting the january green taxi data that was split with passenger count = 2"
   ]
  },
  {
   "cell_type": "code",
   "execution_count": 10,
   "metadata": {},
   "outputs": [],
   "source": [
    "jan_green_two_rider = jan_green_two_rider = pd.read_sql(\"select * from jan_green_two_rider\", db);"
   ]
  },
  {
   "cell_type": "code",
   "execution_count": 11,
   "metadata": {},
   "outputs": [
    {
     "data": {
      "text/html": [
       "<div>\n",
       "<style scoped>\n",
       "    .dataframe tbody tr th:only-of-type {\n",
       "        vertical-align: middle;\n",
       "    }\n",
       "\n",
       "    .dataframe tbody tr th {\n",
       "        vertical-align: top;\n",
       "    }\n",
       "\n",
       "    .dataframe thead th {\n",
       "        text-align: right;\n",
       "    }\n",
       "</style>\n",
       "<table border=\"1\" class=\"dataframe\">\n",
       "  <thead>\n",
       "    <tr style=\"text-align: right;\">\n",
       "      <th></th>\n",
       "      <th>ride_id</th>\n",
       "      <th>pickup_datetime</th>\n",
       "      <th>dropoff_datetime</th>\n",
       "      <th>pickup_longitude</th>\n",
       "      <th>pickup_latitude</th>\n",
       "      <th>dropoff_longitude</th>\n",
       "      <th>dropoff_latitude</th>\n",
       "      <th>passenger_count</th>\n",
       "      <th>trip_distance</th>\n",
       "    </tr>\n",
       "  </thead>\n",
       "  <tbody>\n",
       "    <tr>\n",
       "      <th>0</th>\n",
       "      <td>24</td>\n",
       "      <td>2014-01-01 00:00:43</td>\n",
       "      <td>2014-01-01 00:07:44</td>\n",
       "      <td>-73.924568</td>\n",
       "      <td>40.861614</td>\n",
       "      <td>-73.942627</td>\n",
       "      <td>40.821888</td>\n",
       "      <td>2</td>\n",
       "      <td>3.10</td>\n",
       "    </tr>\n",
       "    <tr>\n",
       "      <th>1</th>\n",
       "      <td>34</td>\n",
       "      <td>2014-01-01 00:01:05</td>\n",
       "      <td>2014-01-01 00:14:43</td>\n",
       "      <td>-73.929337</td>\n",
       "      <td>40.703571</td>\n",
       "      <td>-73.957573</td>\n",
       "      <td>40.729713</td>\n",
       "      <td>2</td>\n",
       "      <td>3.30</td>\n",
       "    </tr>\n",
       "    <tr>\n",
       "      <th>2</th>\n",
       "      <td>36</td>\n",
       "      <td>2014-01-01 00:01:09</td>\n",
       "      <td>2014-01-01 00:03:59</td>\n",
       "      <td>-73.981842</td>\n",
       "      <td>40.666687</td>\n",
       "      <td>-73.985321</td>\n",
       "      <td>40.662525</td>\n",
       "      <td>2</td>\n",
       "      <td>0.30</td>\n",
       "    </tr>\n",
       "    <tr>\n",
       "      <th>3</th>\n",
       "      <td>44</td>\n",
       "      <td>2014-01-01 00:01:36</td>\n",
       "      <td>2014-01-01 00:12:24</td>\n",
       "      <td>-73.953888</td>\n",
       "      <td>40.806480</td>\n",
       "      <td>-73.937546</td>\n",
       "      <td>40.797661</td>\n",
       "      <td>2</td>\n",
       "      <td>1.21</td>\n",
       "    </tr>\n",
       "    <tr>\n",
       "      <th>4</th>\n",
       "      <td>67</td>\n",
       "      <td>2014-01-01 00:02:50</td>\n",
       "      <td>2014-01-01 00:05:51</td>\n",
       "      <td>-73.925217</td>\n",
       "      <td>40.761761</td>\n",
       "      <td>-73.917320</td>\n",
       "      <td>40.758137</td>\n",
       "      <td>2</td>\n",
       "      <td>0.51</td>\n",
       "    </tr>\n",
       "  </tbody>\n",
       "</table>\n",
       "</div>"
      ],
      "text/plain": [
       "   ride_id     pickup_datetime    dropoff_datetime  pickup_longitude  \\\n",
       "0       24 2014-01-01 00:00:43 2014-01-01 00:07:44        -73.924568   \n",
       "1       34 2014-01-01 00:01:05 2014-01-01 00:14:43        -73.929337   \n",
       "2       36 2014-01-01 00:01:09 2014-01-01 00:03:59        -73.981842   \n",
       "3       44 2014-01-01 00:01:36 2014-01-01 00:12:24        -73.953888   \n",
       "4       67 2014-01-01 00:02:50 2014-01-01 00:05:51        -73.925217   \n",
       "\n",
       "   pickup_latitude  dropoff_longitude  dropoff_latitude  passenger_count  \\\n",
       "0        40.861614         -73.942627         40.821888                2   \n",
       "1        40.703571         -73.957573         40.729713                2   \n",
       "2        40.666687         -73.985321         40.662525                2   \n",
       "3        40.806480         -73.937546         40.797661                2   \n",
       "4        40.761761         -73.917320         40.758137                2   \n",
       "\n",
       "   trip_distance  \n",
       "0           3.10  \n",
       "1           3.30  \n",
       "2           0.30  \n",
       "3           1.21  \n",
       "4           0.51  "
      ]
     },
     "execution_count": 11,
     "metadata": {},
     "output_type": "execute_result"
    }
   ],
   "source": [
    "jan_green_two_rider.head()"
   ]
  },
  {
   "cell_type": "code",
   "execution_count": 12,
   "metadata": {},
   "outputs": [
    {
     "data": {
      "text/html": [
       "<div>\n",
       "<style scoped>\n",
       "    .dataframe tbody tr th:only-of-type {\n",
       "        vertical-align: middle;\n",
       "    }\n",
       "\n",
       "    .dataframe tbody tr th {\n",
       "        vertical-align: top;\n",
       "    }\n",
       "\n",
       "    .dataframe thead th {\n",
       "        text-align: right;\n",
       "    }\n",
       "</style>\n",
       "<table border=\"1\" class=\"dataframe\">\n",
       "  <thead>\n",
       "    <tr style=\"text-align: right;\">\n",
       "      <th></th>\n",
       "      <th>ride_id</th>\n",
       "      <th>pickup_longitude</th>\n",
       "      <th>pickup_latitude</th>\n",
       "      <th>dropoff_longitude</th>\n",
       "      <th>dropoff_latitude</th>\n",
       "      <th>passenger_count</th>\n",
       "      <th>trip_distance</th>\n",
       "    </tr>\n",
       "  </thead>\n",
       "  <tbody>\n",
       "    <tr>\n",
       "      <th>count</th>\n",
       "      <td>56464.000000</td>\n",
       "      <td>56464.000000</td>\n",
       "      <td>56464.000000</td>\n",
       "      <td>56464.000000</td>\n",
       "      <td>56464.000000</td>\n",
       "      <td>56464.0</td>\n",
       "      <td>56464.000000</td>\n",
       "    </tr>\n",
       "    <tr>\n",
       "      <th>mean</th>\n",
       "      <td>391011.861717</td>\n",
       "      <td>-73.930385</td>\n",
       "      <td>40.754977</td>\n",
       "      <td>-73.930964</td>\n",
       "      <td>40.752764</td>\n",
       "      <td>2.0</td>\n",
       "      <td>3.011972</td>\n",
       "    </tr>\n",
       "    <tr>\n",
       "      <th>std</th>\n",
       "      <td>232746.447478</td>\n",
       "      <td>0.043352</td>\n",
       "      <td>0.055280</td>\n",
       "      <td>0.051819</td>\n",
       "      <td>0.056788</td>\n",
       "      <td>0.0</td>\n",
       "      <td>2.908302</td>\n",
       "    </tr>\n",
       "    <tr>\n",
       "      <th>min</th>\n",
       "      <td>24.000000</td>\n",
       "      <td>-74.079437</td>\n",
       "      <td>40.573067</td>\n",
       "      <td>-74.484711</td>\n",
       "      <td>40.324463</td>\n",
       "      <td>2.0</td>\n",
       "      <td>0.010000</td>\n",
       "    </tr>\n",
       "    <tr>\n",
       "      <th>25%</th>\n",
       "      <td>189143.750000</td>\n",
       "      <td>-73.957954</td>\n",
       "      <td>40.713748</td>\n",
       "      <td>-73.966669</td>\n",
       "      <td>40.712924</td>\n",
       "      <td>2.0</td>\n",
       "      <td>1.130000</td>\n",
       "    </tr>\n",
       "    <tr>\n",
       "      <th>50%</th>\n",
       "      <td>397935.500000</td>\n",
       "      <td>-73.942066</td>\n",
       "      <td>40.747704</td>\n",
       "      <td>-73.942165</td>\n",
       "      <td>40.750050</td>\n",
       "      <td>2.0</td>\n",
       "      <td>2.050000</td>\n",
       "    </tr>\n",
       "    <tr>\n",
       "      <th>75%</th>\n",
       "      <td>592494.250000</td>\n",
       "      <td>-73.904423</td>\n",
       "      <td>40.804214</td>\n",
       "      <td>-73.900877</td>\n",
       "      <td>40.792474</td>\n",
       "      <td>2.0</td>\n",
       "      <td>3.900000</td>\n",
       "    </tr>\n",
       "    <tr>\n",
       "      <th>max</th>\n",
       "      <td>803851.000000</td>\n",
       "      <td>-73.247894</td>\n",
       "      <td>40.972569</td>\n",
       "      <td>-73.192268</td>\n",
       "      <td>41.233383</td>\n",
       "      <td>2.0</td>\n",
       "      <td>59.800000</td>\n",
       "    </tr>\n",
       "  </tbody>\n",
       "</table>\n",
       "</div>"
      ],
      "text/plain": [
       "             ride_id  pickup_longitude  pickup_latitude  dropoff_longitude  \\\n",
       "count   56464.000000      56464.000000     56464.000000       56464.000000   \n",
       "mean   391011.861717        -73.930385        40.754977         -73.930964   \n",
       "std    232746.447478          0.043352         0.055280           0.051819   \n",
       "min        24.000000        -74.079437        40.573067         -74.484711   \n",
       "25%    189143.750000        -73.957954        40.713748         -73.966669   \n",
       "50%    397935.500000        -73.942066        40.747704         -73.942165   \n",
       "75%    592494.250000        -73.904423        40.804214         -73.900877   \n",
       "max    803851.000000        -73.247894        40.972569         -73.192268   \n",
       "\n",
       "       dropoff_latitude  passenger_count  trip_distance  \n",
       "count      56464.000000          56464.0   56464.000000  \n",
       "mean          40.752764              2.0       3.011972  \n",
       "std            0.056788              0.0       2.908302  \n",
       "min           40.324463              2.0       0.010000  \n",
       "25%           40.712924              2.0       1.130000  \n",
       "50%           40.750050              2.0       2.050000  \n",
       "75%           40.792474              2.0       3.900000  \n",
       "max           41.233383              2.0      59.800000  "
      ]
     },
     "execution_count": 12,
     "metadata": {},
     "output_type": "execute_result"
    }
   ],
   "source": [
    "jan_green_two_rider.describe()"
   ]
  },
  {
   "cell_type": "code",
   "execution_count": 13,
   "metadata": {},
   "outputs": [
    {
     "data": {
      "text/plain": [
       "ride_id                       int64\n",
       "pickup_datetime      datetime64[ns]\n",
       "dropoff_datetime     datetime64[ns]\n",
       "pickup_longitude            float64\n",
       "pickup_latitude             float64\n",
       "dropoff_longitude           float64\n",
       "dropoff_latitude            float64\n",
       "passenger_count               int64\n",
       "trip_distance               float64\n",
       "dtype: object"
      ]
     },
     "execution_count": 13,
     "metadata": {},
     "output_type": "execute_result"
    }
   ],
   "source": [
    "jan_green_two_rider.dtypes"
   ]
  },
  {
   "cell_type": "code",
   "execution_count": 14,
   "metadata": {},
   "outputs": [
    {
     "name": "stdout",
     "output_type": "stream",
     "text": [
      "170068 total miles for TWO RIDER green taxi data in january 2014 from NYC\n"
     ]
    }
   ],
   "source": [
    "print(round(jan_green_two_rider['trip_distance'].sum()), \"total miles for TWO RIDER green taxi data in january 2014 from NYC\")"
   ]
  },
  {
   "cell_type": "markdown",
   "metadata": {},
   "source": [
    "### Selecting the february green taxi data that was split with passenger count = 1"
   ]
  },
  {
   "cell_type": "code",
   "execution_count": 15,
   "metadata": {},
   "outputs": [],
   "source": [
    "feb_green_one_rider = pd.read_sql(\"select * from feb_green_one_rider\", db);"
   ]
  },
  {
   "cell_type": "code",
   "execution_count": 16,
   "metadata": {},
   "outputs": [
    {
     "data": {
      "text/html": [
       "<div>\n",
       "<style scoped>\n",
       "    .dataframe tbody tr th:only-of-type {\n",
       "        vertical-align: middle;\n",
       "    }\n",
       "\n",
       "    .dataframe tbody tr th {\n",
       "        vertical-align: top;\n",
       "    }\n",
       "\n",
       "    .dataframe thead th {\n",
       "        text-align: right;\n",
       "    }\n",
       "</style>\n",
       "<table border=\"1\" class=\"dataframe\">\n",
       "  <thead>\n",
       "    <tr style=\"text-align: right;\">\n",
       "      <th></th>\n",
       "      <th>ride_id</th>\n",
       "      <th>pickup_datetime</th>\n",
       "      <th>dropoff_datetime</th>\n",
       "      <th>pickup_longitude</th>\n",
       "      <th>pickup_latitude</th>\n",
       "      <th>dropoff_longitude</th>\n",
       "      <th>dropoff_latitude</th>\n",
       "      <th>passenger_count</th>\n",
       "      <th>trip_distance</th>\n",
       "    </tr>\n",
       "  </thead>\n",
       "  <tbody>\n",
       "    <tr>\n",
       "      <th>0</th>\n",
       "      <td>36</td>\n",
       "      <td>2014-02-01 00:00:02</td>\n",
       "      <td>2014-02-01 00:08:29</td>\n",
       "      <td>-73.959465</td>\n",
       "      <td>40.716217</td>\n",
       "      <td>-73.965782</td>\n",
       "      <td>40.710552</td>\n",
       "      <td>1</td>\n",
       "      <td>1.10</td>\n",
       "    </tr>\n",
       "    <tr>\n",
       "      <th>1</th>\n",
       "      <td>40</td>\n",
       "      <td>2014-02-01 00:00:08</td>\n",
       "      <td>2014-02-01 00:15:13</td>\n",
       "      <td>-73.990730</td>\n",
       "      <td>40.694611</td>\n",
       "      <td>-73.957352</td>\n",
       "      <td>40.714481</td>\n",
       "      <td>1</td>\n",
       "      <td>3.50</td>\n",
       "    </tr>\n",
       "    <tr>\n",
       "      <th>2</th>\n",
       "      <td>42</td>\n",
       "      <td>2014-02-01 00:00:13</td>\n",
       "      <td>2014-02-01 00:06:56</td>\n",
       "      <td>-73.953674</td>\n",
       "      <td>40.790752</td>\n",
       "      <td>-73.959160</td>\n",
       "      <td>40.780113</td>\n",
       "      <td>1</td>\n",
       "      <td>1.12</td>\n",
       "    </tr>\n",
       "    <tr>\n",
       "      <th>3</th>\n",
       "      <td>43</td>\n",
       "      <td>2014-02-01 00:00:24</td>\n",
       "      <td>2014-02-01 00:08:06</td>\n",
       "      <td>-73.944794</td>\n",
       "      <td>40.727329</td>\n",
       "      <td>-73.941681</td>\n",
       "      <td>40.708363</td>\n",
       "      <td>1</td>\n",
       "      <td>1.40</td>\n",
       "    </tr>\n",
       "    <tr>\n",
       "      <th>4</th>\n",
       "      <td>44</td>\n",
       "      <td>2014-02-01 00:00:27</td>\n",
       "      <td>2014-02-01 00:19:34</td>\n",
       "      <td>-73.977577</td>\n",
       "      <td>40.678616</td>\n",
       "      <td>-73.988533</td>\n",
       "      <td>40.718513</td>\n",
       "      <td>1</td>\n",
       "      <td>3.36</td>\n",
       "    </tr>\n",
       "  </tbody>\n",
       "</table>\n",
       "</div>"
      ],
      "text/plain": [
       "   ride_id     pickup_datetime    dropoff_datetime  pickup_longitude  \\\n",
       "0       36 2014-02-01 00:00:02 2014-02-01 00:08:29        -73.959465   \n",
       "1       40 2014-02-01 00:00:08 2014-02-01 00:15:13        -73.990730   \n",
       "2       42 2014-02-01 00:00:13 2014-02-01 00:06:56        -73.953674   \n",
       "3       43 2014-02-01 00:00:24 2014-02-01 00:08:06        -73.944794   \n",
       "4       44 2014-02-01 00:00:27 2014-02-01 00:19:34        -73.977577   \n",
       "\n",
       "   pickup_latitude  dropoff_longitude  dropoff_latitude  passenger_count  \\\n",
       "0        40.716217         -73.965782         40.710552                1   \n",
       "1        40.694611         -73.957352         40.714481                1   \n",
       "2        40.790752         -73.959160         40.780113                1   \n",
       "3        40.727329         -73.941681         40.708363                1   \n",
       "4        40.678616         -73.988533         40.718513                1   \n",
       "\n",
       "   trip_distance  \n",
       "0           1.10  \n",
       "1           3.50  \n",
       "2           1.12  \n",
       "3           1.40  \n",
       "4           3.36  "
      ]
     },
     "execution_count": 16,
     "metadata": {},
     "output_type": "execute_result"
    }
   ],
   "source": [
    "feb_green_one_rider.head()"
   ]
  },
  {
   "cell_type": "code",
   "execution_count": 17,
   "metadata": {},
   "outputs": [
    {
     "data": {
      "text/html": [
       "<div>\n",
       "<style scoped>\n",
       "    .dataframe tbody tr th:only-of-type {\n",
       "        vertical-align: middle;\n",
       "    }\n",
       "\n",
       "    .dataframe tbody tr th {\n",
       "        vertical-align: top;\n",
       "    }\n",
       "\n",
       "    .dataframe thead th {\n",
       "        text-align: right;\n",
       "    }\n",
       "</style>\n",
       "<table border=\"1\" class=\"dataframe\">\n",
       "  <thead>\n",
       "    <tr style=\"text-align: right;\">\n",
       "      <th></th>\n",
       "      <th>ride_id</th>\n",
       "      <th>pickup_longitude</th>\n",
       "      <th>pickup_latitude</th>\n",
       "      <th>dropoff_longitude</th>\n",
       "      <th>dropoff_latitude</th>\n",
       "      <th>passenger_count</th>\n",
       "      <th>trip_distance</th>\n",
       "    </tr>\n",
       "  </thead>\n",
       "  <tbody>\n",
       "    <tr>\n",
       "      <th>count</th>\n",
       "      <td>8.151410e+05</td>\n",
       "      <td>815141.000000</td>\n",
       "      <td>815141.000000</td>\n",
       "      <td>815141.000000</td>\n",
       "      <td>815141.000000</td>\n",
       "      <td>815141.0</td>\n",
       "      <td>815141.000000</td>\n",
       "    </tr>\n",
       "    <tr>\n",
       "      <th>mean</th>\n",
       "      <td>5.045571e+05</td>\n",
       "      <td>-73.929019</td>\n",
       "      <td>40.767307</td>\n",
       "      <td>-73.929428</td>\n",
       "      <td>40.764263</td>\n",
       "      <td>1.0</td>\n",
       "      <td>2.846441</td>\n",
       "    </tr>\n",
       "    <tr>\n",
       "      <th>std</th>\n",
       "      <td>2.904891e+05</td>\n",
       "      <td>0.041702</td>\n",
       "      <td>0.058114</td>\n",
       "      <td>0.049842</td>\n",
       "      <td>0.059347</td>\n",
       "      <td>0.0</td>\n",
       "      <td>2.776918</td>\n",
       "    </tr>\n",
       "    <tr>\n",
       "      <th>min</th>\n",
       "      <td>3.600000e+01</td>\n",
       "      <td>-74.728561</td>\n",
       "      <td>40.294209</td>\n",
       "      <td>-75.989021</td>\n",
       "      <td>39.357197</td>\n",
       "      <td>1.0</td>\n",
       "      <td>0.010000</td>\n",
       "    </tr>\n",
       "    <tr>\n",
       "      <th>25%</th>\n",
       "      <td>2.524790e+05</td>\n",
       "      <td>-73.955582</td>\n",
       "      <td>40.719196</td>\n",
       "      <td>-73.961983</td>\n",
       "      <td>40.721554</td>\n",
       "      <td>1.0</td>\n",
       "      <td>1.100000</td>\n",
       "    </tr>\n",
       "    <tr>\n",
       "      <th>50%</th>\n",
       "      <td>5.046100e+05</td>\n",
       "      <td>-73.940231</td>\n",
       "      <td>40.765774</td>\n",
       "      <td>-73.939995</td>\n",
       "      <td>40.763062</td>\n",
       "      <td>1.0</td>\n",
       "      <td>1.910000</td>\n",
       "    </tr>\n",
       "    <tr>\n",
       "      <th>75%</th>\n",
       "      <td>7.565040e+05</td>\n",
       "      <td>-73.906891</td>\n",
       "      <td>40.810978</td>\n",
       "      <td>-73.902313</td>\n",
       "      <td>40.810101</td>\n",
       "      <td>1.0</td>\n",
       "      <td>3.630000</td>\n",
       "    </tr>\n",
       "    <tr>\n",
       "      <th>max</th>\n",
       "      <td>1.005242e+06</td>\n",
       "      <td>-73.054497</td>\n",
       "      <td>41.584133</td>\n",
       "      <td>-72.091438</td>\n",
       "      <td>41.585518</td>\n",
       "      <td>1.0</td>\n",
       "      <td>135.240000</td>\n",
       "    </tr>\n",
       "  </tbody>\n",
       "</table>\n",
       "</div>"
      ],
      "text/plain": [
       "            ride_id  pickup_longitude  pickup_latitude  dropoff_longitude  \\\n",
       "count  8.151410e+05     815141.000000    815141.000000      815141.000000   \n",
       "mean   5.045571e+05        -73.929019        40.767307         -73.929428   \n",
       "std    2.904891e+05          0.041702         0.058114           0.049842   \n",
       "min    3.600000e+01        -74.728561        40.294209         -75.989021   \n",
       "25%    2.524790e+05        -73.955582        40.719196         -73.961983   \n",
       "50%    5.046100e+05        -73.940231        40.765774         -73.939995   \n",
       "75%    7.565040e+05        -73.906891        40.810978         -73.902313   \n",
       "max    1.005242e+06        -73.054497        41.584133         -72.091438   \n",
       "\n",
       "       dropoff_latitude  passenger_count  trip_distance  \n",
       "count     815141.000000         815141.0  815141.000000  \n",
       "mean          40.764263              1.0       2.846441  \n",
       "std            0.059347              0.0       2.776918  \n",
       "min           39.357197              1.0       0.010000  \n",
       "25%           40.721554              1.0       1.100000  \n",
       "50%           40.763062              1.0       1.910000  \n",
       "75%           40.810101              1.0       3.630000  \n",
       "max           41.585518              1.0     135.240000  "
      ]
     },
     "execution_count": 17,
     "metadata": {},
     "output_type": "execute_result"
    }
   ],
   "source": [
    "feb_green_one_rider.describe()"
   ]
  },
  {
   "cell_type": "code",
   "execution_count": 18,
   "metadata": {},
   "outputs": [
    {
     "data": {
      "text/plain": [
       "ride_id                       int64\n",
       "pickup_datetime      datetime64[ns]\n",
       "dropoff_datetime     datetime64[ns]\n",
       "pickup_longitude            float64\n",
       "pickup_latitude             float64\n",
       "dropoff_longitude           float64\n",
       "dropoff_latitude            float64\n",
       "passenger_count               int64\n",
       "trip_distance               float64\n",
       "dtype: object"
      ]
     },
     "execution_count": 18,
     "metadata": {},
     "output_type": "execute_result"
    }
   ],
   "source": [
    "feb_green_one_rider.dtypes"
   ]
  },
  {
   "cell_type": "code",
   "execution_count": 19,
   "metadata": {},
   "outputs": [
    {
     "name": "stdout",
     "output_type": "stream",
     "text": [
      "2320251 total miles for ONE RIDER green taxi data in february 2014 from NYC\n"
     ]
    }
   ],
   "source": [
    "print(round(feb_green_one_rider['trip_distance'].sum()), \"total miles for ONE RIDER green taxi data in february 2014 from NYC\")"
   ]
  },
  {
   "cell_type": "markdown",
   "metadata": {},
   "source": [
    "### Selecting the february green taxi data that was split with passenger count = 2"
   ]
  },
  {
   "cell_type": "code",
   "execution_count": 20,
   "metadata": {},
   "outputs": [],
   "source": [
    "feb_green_two_rider = pd.read_sql(\"select * from feb_green_two_rider\", db);"
   ]
  },
  {
   "cell_type": "code",
   "execution_count": 21,
   "metadata": {},
   "outputs": [
    {
     "data": {
      "text/html": [
       "<div>\n",
       "<style scoped>\n",
       "    .dataframe tbody tr th:only-of-type {\n",
       "        vertical-align: middle;\n",
       "    }\n",
       "\n",
       "    .dataframe tbody tr th {\n",
       "        vertical-align: top;\n",
       "    }\n",
       "\n",
       "    .dataframe thead th {\n",
       "        text-align: right;\n",
       "    }\n",
       "</style>\n",
       "<table border=\"1\" class=\"dataframe\">\n",
       "  <thead>\n",
       "    <tr style=\"text-align: right;\">\n",
       "      <th></th>\n",
       "      <th>ride_id</th>\n",
       "      <th>pickup_datetime</th>\n",
       "      <th>dropoff_datetime</th>\n",
       "      <th>pickup_longitude</th>\n",
       "      <th>pickup_latitude</th>\n",
       "      <th>dropoff_longitude</th>\n",
       "      <th>dropoff_latitude</th>\n",
       "      <th>passenger_count</th>\n",
       "      <th>trip_distance</th>\n",
       "    </tr>\n",
       "  </thead>\n",
       "  <tbody>\n",
       "    <tr>\n",
       "      <th>0</th>\n",
       "      <td>38</td>\n",
       "      <td>2014-02-01 00:00:08</td>\n",
       "      <td>2014-02-01 00:20:33</td>\n",
       "      <td>-73.961670</td>\n",
       "      <td>40.714012</td>\n",
       "      <td>-73.917099</td>\n",
       "      <td>40.746384</td>\n",
       "      <td>2</td>\n",
       "      <td>3.88</td>\n",
       "    </tr>\n",
       "    <tr>\n",
       "      <th>1</th>\n",
       "      <td>39</td>\n",
       "      <td>2014-02-01 00:00:08</td>\n",
       "      <td>2014-02-01 00:28:26</td>\n",
       "      <td>-73.951134</td>\n",
       "      <td>40.748909</td>\n",
       "      <td>-73.980003</td>\n",
       "      <td>40.657005</td>\n",
       "      <td>2</td>\n",
       "      <td>10.50</td>\n",
       "    </tr>\n",
       "    <tr>\n",
       "      <th>2</th>\n",
       "      <td>69</td>\n",
       "      <td>2014-02-01 00:00:59</td>\n",
       "      <td>2014-02-01 00:16:54</td>\n",
       "      <td>-73.960213</td>\n",
       "      <td>40.715313</td>\n",
       "      <td>-73.979050</td>\n",
       "      <td>40.678429</td>\n",
       "      <td>2</td>\n",
       "      <td>4.35</td>\n",
       "    </tr>\n",
       "    <tr>\n",
       "      <th>3</th>\n",
       "      <td>126</td>\n",
       "      <td>2014-02-01 00:02:28</td>\n",
       "      <td>2014-02-01 00:30:48</td>\n",
       "      <td>-73.983704</td>\n",
       "      <td>40.676292</td>\n",
       "      <td>-73.983566</td>\n",
       "      <td>40.722137</td>\n",
       "      <td>2</td>\n",
       "      <td>6.00</td>\n",
       "    </tr>\n",
       "    <tr>\n",
       "      <th>4</th>\n",
       "      <td>133</td>\n",
       "      <td>2014-02-01 00:02:36</td>\n",
       "      <td>2014-02-01 00:17:17</td>\n",
       "      <td>-73.935623</td>\n",
       "      <td>40.833282</td>\n",
       "      <td>-73.865150</td>\n",
       "      <td>40.920052</td>\n",
       "      <td>2</td>\n",
       "      <td>8.60</td>\n",
       "    </tr>\n",
       "  </tbody>\n",
       "</table>\n",
       "</div>"
      ],
      "text/plain": [
       "   ride_id     pickup_datetime    dropoff_datetime  pickup_longitude  \\\n",
       "0       38 2014-02-01 00:00:08 2014-02-01 00:20:33        -73.961670   \n",
       "1       39 2014-02-01 00:00:08 2014-02-01 00:28:26        -73.951134   \n",
       "2       69 2014-02-01 00:00:59 2014-02-01 00:16:54        -73.960213   \n",
       "3      126 2014-02-01 00:02:28 2014-02-01 00:30:48        -73.983704   \n",
       "4      133 2014-02-01 00:02:36 2014-02-01 00:17:17        -73.935623   \n",
       "\n",
       "   pickup_latitude  dropoff_longitude  dropoff_latitude  passenger_count  \\\n",
       "0        40.714012         -73.917099         40.746384                2   \n",
       "1        40.748909         -73.980003         40.657005                2   \n",
       "2        40.715313         -73.979050         40.678429                2   \n",
       "3        40.676292         -73.983566         40.722137                2   \n",
       "4        40.833282         -73.865150         40.920052                2   \n",
       "\n",
       "   trip_distance  \n",
       "0           3.88  \n",
       "1          10.50  \n",
       "2           4.35  \n",
       "3           6.00  \n",
       "4           8.60  "
      ]
     },
     "execution_count": 21,
     "metadata": {},
     "output_type": "execute_result"
    }
   ],
   "source": [
    "feb_green_two_rider.head()"
   ]
  },
  {
   "cell_type": "code",
   "execution_count": 22,
   "metadata": {},
   "outputs": [
    {
     "data": {
      "text/html": [
       "<div>\n",
       "<style scoped>\n",
       "    .dataframe tbody tr th:only-of-type {\n",
       "        vertical-align: middle;\n",
       "    }\n",
       "\n",
       "    .dataframe tbody tr th {\n",
       "        vertical-align: top;\n",
       "    }\n",
       "\n",
       "    .dataframe thead th {\n",
       "        text-align: right;\n",
       "    }\n",
       "</style>\n",
       "<table border=\"1\" class=\"dataframe\">\n",
       "  <thead>\n",
       "    <tr style=\"text-align: right;\">\n",
       "      <th></th>\n",
       "      <th>ride_id</th>\n",
       "      <th>pickup_longitude</th>\n",
       "      <th>pickup_latitude</th>\n",
       "      <th>dropoff_longitude</th>\n",
       "      <th>dropoff_latitude</th>\n",
       "      <th>passenger_count</th>\n",
       "      <th>trip_distance</th>\n",
       "    </tr>\n",
       "  </thead>\n",
       "  <tbody>\n",
       "    <tr>\n",
       "      <th>count</th>\n",
       "      <td>7.101700e+04</td>\n",
       "      <td>71017.000000</td>\n",
       "      <td>71017.000000</td>\n",
       "      <td>71017.000000</td>\n",
       "      <td>71017.000000</td>\n",
       "      <td>71017.0</td>\n",
       "      <td>71017.000000</td>\n",
       "    </tr>\n",
       "    <tr>\n",
       "      <th>mean</th>\n",
       "      <td>4.983607e+05</td>\n",
       "      <td>-73.930757</td>\n",
       "      <td>40.754266</td>\n",
       "      <td>-73.930883</td>\n",
       "      <td>40.752525</td>\n",
       "      <td>2.0</td>\n",
       "      <td>2.982883</td>\n",
       "    </tr>\n",
       "    <tr>\n",
       "      <th>std</th>\n",
       "      <td>2.871839e+05</td>\n",
       "      <td>0.043510</td>\n",
       "      <td>0.056829</td>\n",
       "      <td>0.051334</td>\n",
       "      <td>0.058684</td>\n",
       "      <td>0.0</td>\n",
       "      <td>2.849157</td>\n",
       "    </tr>\n",
       "    <tr>\n",
       "      <th>min</th>\n",
       "      <td>3.800000e+01</td>\n",
       "      <td>-74.177330</td>\n",
       "      <td>40.574635</td>\n",
       "      <td>-74.728554</td>\n",
       "      <td>39.346779</td>\n",
       "      <td>2.0</td>\n",
       "      <td>0.010000</td>\n",
       "    </tr>\n",
       "    <tr>\n",
       "      <th>25%</th>\n",
       "      <td>2.548690e+05</td>\n",
       "      <td>-73.958336</td>\n",
       "      <td>40.711933</td>\n",
       "      <td>-73.965775</td>\n",
       "      <td>40.710632</td>\n",
       "      <td>2.0</td>\n",
       "      <td>1.130000</td>\n",
       "    </tr>\n",
       "    <tr>\n",
       "      <th>50%</th>\n",
       "      <td>5.020950e+05</td>\n",
       "      <td>-73.942413</td>\n",
       "      <td>40.747322</td>\n",
       "      <td>-73.941162</td>\n",
       "      <td>40.749107</td>\n",
       "      <td>2.0</td>\n",
       "      <td>2.060000</td>\n",
       "    </tr>\n",
       "    <tr>\n",
       "      <th>75%</th>\n",
       "      <td>7.474800e+05</td>\n",
       "      <td>-73.904327</td>\n",
       "      <td>40.804947</td>\n",
       "      <td>-73.900833</td>\n",
       "      <td>40.796864</td>\n",
       "      <td>2.0</td>\n",
       "      <td>3.850000</td>\n",
       "    </tr>\n",
       "    <tr>\n",
       "      <th>max</th>\n",
       "      <td>1.005237e+06</td>\n",
       "      <td>-73.685745</td>\n",
       "      <td>40.983341</td>\n",
       "      <td>-73.306358</td>\n",
       "      <td>41.067734</td>\n",
       "      <td>2.0</td>\n",
       "      <td>76.380000</td>\n",
       "    </tr>\n",
       "  </tbody>\n",
       "</table>\n",
       "</div>"
      ],
      "text/plain": [
       "            ride_id  pickup_longitude  pickup_latitude  dropoff_longitude  \\\n",
       "count  7.101700e+04      71017.000000     71017.000000       71017.000000   \n",
       "mean   4.983607e+05        -73.930757        40.754266         -73.930883   \n",
       "std    2.871839e+05          0.043510         0.056829           0.051334   \n",
       "min    3.800000e+01        -74.177330        40.574635         -74.728554   \n",
       "25%    2.548690e+05        -73.958336        40.711933         -73.965775   \n",
       "50%    5.020950e+05        -73.942413        40.747322         -73.941162   \n",
       "75%    7.474800e+05        -73.904327        40.804947         -73.900833   \n",
       "max    1.005237e+06        -73.685745        40.983341         -73.306358   \n",
       "\n",
       "       dropoff_latitude  passenger_count  trip_distance  \n",
       "count      71017.000000          71017.0   71017.000000  \n",
       "mean          40.752525              2.0       2.982883  \n",
       "std            0.058684              0.0       2.849157  \n",
       "min           39.346779              2.0       0.010000  \n",
       "25%           40.710632              2.0       1.130000  \n",
       "50%           40.749107              2.0       2.060000  \n",
       "75%           40.796864              2.0       3.850000  \n",
       "max           41.067734              2.0      76.380000  "
      ]
     },
     "execution_count": 22,
     "metadata": {},
     "output_type": "execute_result"
    }
   ],
   "source": [
    "feb_green_two_rider.describe()"
   ]
  },
  {
   "cell_type": "code",
   "execution_count": 23,
   "metadata": {},
   "outputs": [
    {
     "data": {
      "text/plain": [
       "ride_id                       int64\n",
       "pickup_datetime      datetime64[ns]\n",
       "dropoff_datetime     datetime64[ns]\n",
       "pickup_longitude            float64\n",
       "pickup_latitude             float64\n",
       "dropoff_longitude           float64\n",
       "dropoff_latitude            float64\n",
       "passenger_count               int64\n",
       "trip_distance               float64\n",
       "dtype: object"
      ]
     },
     "execution_count": 23,
     "metadata": {},
     "output_type": "execute_result"
    }
   ],
   "source": [
    "feb_green_two_rider.dtypes"
   ]
  },
  {
   "cell_type": "code",
   "execution_count": 24,
   "metadata": {},
   "outputs": [
    {
     "name": "stdout",
     "output_type": "stream",
     "text": [
      "211835 total miles for TWO RIDER green taxi data in february 2014 from NYC\n"
     ]
    }
   ],
   "source": [
    "print(round(feb_green_two_rider['trip_distance'].sum()), \"total miles for TWO RIDER green taxi data in february 2014 from NYC\")"
   ]
  },
  {
   "cell_type": "markdown",
   "metadata": {},
   "source": [
    "### Selecting the march green taxi data that was split with passenger count = 1"
   ]
  },
  {
   "cell_type": "code",
   "execution_count": 25,
   "metadata": {},
   "outputs": [],
   "source": [
    "mar_green_one_rider = pd.read_sql(\"select * from mar_green_one_rider\", db);"
   ]
  },
  {
   "cell_type": "code",
   "execution_count": 26,
   "metadata": {},
   "outputs": [
    {
     "data": {
      "text/html": [
       "<div>\n",
       "<style scoped>\n",
       "    .dataframe tbody tr th:only-of-type {\n",
       "        vertical-align: middle;\n",
       "    }\n",
       "\n",
       "    .dataframe tbody tr th {\n",
       "        vertical-align: top;\n",
       "    }\n",
       "\n",
       "    .dataframe thead th {\n",
       "        text-align: right;\n",
       "    }\n",
       "</style>\n",
       "<table border=\"1\" class=\"dataframe\">\n",
       "  <thead>\n",
       "    <tr style=\"text-align: right;\">\n",
       "      <th></th>\n",
       "      <th>ride_id</th>\n",
       "      <th>pickup_datetime</th>\n",
       "      <th>dropoff_datetime</th>\n",
       "      <th>pickup_longitude</th>\n",
       "      <th>pickup_latitude</th>\n",
       "      <th>dropoff_longitude</th>\n",
       "      <th>dropoff_latitude</th>\n",
       "      <th>passenger_count</th>\n",
       "      <th>trip_distance</th>\n",
       "    </tr>\n",
       "  </thead>\n",
       "  <tbody>\n",
       "    <tr>\n",
       "      <th>0</th>\n",
       "      <td>15</td>\n",
       "      <td>2014-03-01 00:00:00</td>\n",
       "      <td>2014-03-01 00:11:44</td>\n",
       "      <td>-73.807571</td>\n",
       "      <td>40.700371</td>\n",
       "      <td>-73.759422</td>\n",
       "      <td>40.704967</td>\n",
       "      <td>1</td>\n",
       "      <td>3.14</td>\n",
       "    </tr>\n",
       "    <tr>\n",
       "      <th>1</th>\n",
       "      <td>34</td>\n",
       "      <td>2014-03-01 00:00:01</td>\n",
       "      <td>2014-03-01 00:04:27</td>\n",
       "      <td>-73.951355</td>\n",
       "      <td>40.809841</td>\n",
       "      <td>-73.937584</td>\n",
       "      <td>40.804348</td>\n",
       "      <td>1</td>\n",
       "      <td>0.89</td>\n",
       "    </tr>\n",
       "    <tr>\n",
       "      <th>2</th>\n",
       "      <td>35</td>\n",
       "      <td>2014-03-01 00:00:03</td>\n",
       "      <td>2014-03-01 00:39:11</td>\n",
       "      <td>-73.958801</td>\n",
       "      <td>40.716785</td>\n",
       "      <td>-73.908257</td>\n",
       "      <td>40.698792</td>\n",
       "      <td>1</td>\n",
       "      <td>7.05</td>\n",
       "    </tr>\n",
       "    <tr>\n",
       "      <th>3</th>\n",
       "      <td>36</td>\n",
       "      <td>2014-03-01 00:00:03</td>\n",
       "      <td>2014-03-01 00:14:32</td>\n",
       "      <td>-73.938881</td>\n",
       "      <td>40.681664</td>\n",
       "      <td>-73.956787</td>\n",
       "      <td>40.713566</td>\n",
       "      <td>1</td>\n",
       "      <td>3.30</td>\n",
       "    </tr>\n",
       "    <tr>\n",
       "      <th>4</th>\n",
       "      <td>37</td>\n",
       "      <td>2014-03-01 00:00:03</td>\n",
       "      <td>2014-03-01 00:08:42</td>\n",
       "      <td>-73.941376</td>\n",
       "      <td>40.818493</td>\n",
       "      <td>-73.935242</td>\n",
       "      <td>40.796005</td>\n",
       "      <td>1</td>\n",
       "      <td>2.38</td>\n",
       "    </tr>\n",
       "  </tbody>\n",
       "</table>\n",
       "</div>"
      ],
      "text/plain": [
       "   ride_id     pickup_datetime    dropoff_datetime  pickup_longitude  \\\n",
       "0       15 2014-03-01 00:00:00 2014-03-01 00:11:44        -73.807571   \n",
       "1       34 2014-03-01 00:00:01 2014-03-01 00:04:27        -73.951355   \n",
       "2       35 2014-03-01 00:00:03 2014-03-01 00:39:11        -73.958801   \n",
       "3       36 2014-03-01 00:00:03 2014-03-01 00:14:32        -73.938881   \n",
       "4       37 2014-03-01 00:00:03 2014-03-01 00:08:42        -73.941376   \n",
       "\n",
       "   pickup_latitude  dropoff_longitude  dropoff_latitude  passenger_count  \\\n",
       "0        40.700371         -73.759422         40.704967                1   \n",
       "1        40.809841         -73.937584         40.804348                1   \n",
       "2        40.716785         -73.908257         40.698792                1   \n",
       "3        40.681664         -73.956787         40.713566                1   \n",
       "4        40.818493         -73.935242         40.796005                1   \n",
       "\n",
       "   trip_distance  \n",
       "0           3.14  \n",
       "1           0.89  \n",
       "2           7.05  \n",
       "3           3.30  \n",
       "4           2.38  "
      ]
     },
     "execution_count": 26,
     "metadata": {},
     "output_type": "execute_result"
    }
   ],
   "source": [
    "mar_green_one_rider.head()"
   ]
  },
  {
   "cell_type": "code",
   "execution_count": 27,
   "metadata": {},
   "outputs": [
    {
     "data": {
      "text/html": [
       "<div>\n",
       "<style scoped>\n",
       "    .dataframe tbody tr th:only-of-type {\n",
       "        vertical-align: middle;\n",
       "    }\n",
       "\n",
       "    .dataframe tbody tr th {\n",
       "        vertical-align: top;\n",
       "    }\n",
       "\n",
       "    .dataframe thead th {\n",
       "        text-align: right;\n",
       "    }\n",
       "</style>\n",
       "<table border=\"1\" class=\"dataframe\">\n",
       "  <thead>\n",
       "    <tr style=\"text-align: right;\">\n",
       "      <th></th>\n",
       "      <th>ride_id</th>\n",
       "      <th>pickup_longitude</th>\n",
       "      <th>pickup_latitude</th>\n",
       "      <th>dropoff_longitude</th>\n",
       "      <th>dropoff_latitude</th>\n",
       "      <th>passenger_count</th>\n",
       "      <th>trip_distance</th>\n",
       "    </tr>\n",
       "  </thead>\n",
       "  <tbody>\n",
       "    <tr>\n",
       "      <th>count</th>\n",
       "      <td>1.058404e+06</td>\n",
       "      <td>1.058404e+06</td>\n",
       "      <td>1.058404e+06</td>\n",
       "      <td>1.058404e+06</td>\n",
       "      <td>1.058404e+06</td>\n",
       "      <td>1058404.0</td>\n",
       "      <td>1.058404e+06</td>\n",
       "    </tr>\n",
       "    <tr>\n",
       "      <th>mean</th>\n",
       "      <td>6.467195e+05</td>\n",
       "      <td>-7.393054e+01</td>\n",
       "      <td>4.076543e+01</td>\n",
       "      <td>-7.393090e+01</td>\n",
       "      <td>4.076220e+01</td>\n",
       "      <td>1.0</td>\n",
       "      <td>2.923363e+00</td>\n",
       "    </tr>\n",
       "    <tr>\n",
       "      <th>std</th>\n",
       "      <td>3.729006e+05</td>\n",
       "      <td>4.134149e-02</td>\n",
       "      <td>5.825813e-02</td>\n",
       "      <td>4.988082e-02</td>\n",
       "      <td>5.936801e-02</td>\n",
       "      <td>0.0</td>\n",
       "      <td>2.838458e+00</td>\n",
       "    </tr>\n",
       "    <tr>\n",
       "      <th>min</th>\n",
       "      <td>1.500000e+01</td>\n",
       "      <td>-7.436404e+01</td>\n",
       "      <td>4.031835e+01</td>\n",
       "      <td>-7.582375e+01</td>\n",
       "      <td>3.958759e+01</td>\n",
       "      <td>1.0</td>\n",
       "      <td>1.000000e-02</td>\n",
       "    </tr>\n",
       "    <tr>\n",
       "      <th>25%</th>\n",
       "      <td>3.236348e+05</td>\n",
       "      <td>-7.395638e+01</td>\n",
       "      <td>4.071749e+01</td>\n",
       "      <td>-7.396370e+01</td>\n",
       "      <td>4.071945e+01</td>\n",
       "      <td>1.0</td>\n",
       "      <td>1.100000e+00</td>\n",
       "    </tr>\n",
       "    <tr>\n",
       "      <th>50%</th>\n",
       "      <td>6.474105e+05</td>\n",
       "      <td>-7.394131e+01</td>\n",
       "      <td>4.076383e+01</td>\n",
       "      <td>-7.394112e+01</td>\n",
       "      <td>4.076123e+01</td>\n",
       "      <td>1.0</td>\n",
       "      <td>1.980000e+00</td>\n",
       "    </tr>\n",
       "    <tr>\n",
       "      <th>75%</th>\n",
       "      <td>9.706468e+05</td>\n",
       "      <td>-7.391082e+01</td>\n",
       "      <td>4.081035e+01</td>\n",
       "      <td>-7.390433e+01</td>\n",
       "      <td>4.080824e+01</td>\n",
       "      <td>1.0</td>\n",
       "      <td>3.740000e+00</td>\n",
       "    </tr>\n",
       "    <tr>\n",
       "      <th>max</th>\n",
       "      <td>1.293471e+06</td>\n",
       "      <td>-7.304129e+01</td>\n",
       "      <td>4.225634e+01</td>\n",
       "      <td>-7.241040e+01</td>\n",
       "      <td>4.225480e+01</td>\n",
       "      <td>1.0</td>\n",
       "      <td>1.012600e+02</td>\n",
       "    </tr>\n",
       "  </tbody>\n",
       "</table>\n",
       "</div>"
      ],
      "text/plain": [
       "            ride_id  pickup_longitude  pickup_latitude  dropoff_longitude  \\\n",
       "count  1.058404e+06      1.058404e+06     1.058404e+06       1.058404e+06   \n",
       "mean   6.467195e+05     -7.393054e+01     4.076543e+01      -7.393090e+01   \n",
       "std    3.729006e+05      4.134149e-02     5.825813e-02       4.988082e-02   \n",
       "min    1.500000e+01     -7.436404e+01     4.031835e+01      -7.582375e+01   \n",
       "25%    3.236348e+05     -7.395638e+01     4.071749e+01      -7.396370e+01   \n",
       "50%    6.474105e+05     -7.394131e+01     4.076383e+01      -7.394112e+01   \n",
       "75%    9.706468e+05     -7.391082e+01     4.081035e+01      -7.390433e+01   \n",
       "max    1.293471e+06     -7.304129e+01     4.225634e+01      -7.241040e+01   \n",
       "\n",
       "       dropoff_latitude  passenger_count  trip_distance  \n",
       "count      1.058404e+06        1058404.0   1.058404e+06  \n",
       "mean       4.076220e+01              1.0   2.923363e+00  \n",
       "std        5.936801e-02              0.0   2.838458e+00  \n",
       "min        3.958759e+01              1.0   1.000000e-02  \n",
       "25%        4.071945e+01              1.0   1.100000e+00  \n",
       "50%        4.076123e+01              1.0   1.980000e+00  \n",
       "75%        4.080824e+01              1.0   3.740000e+00  \n",
       "max        4.225480e+01              1.0   1.012600e+02  "
      ]
     },
     "execution_count": 27,
     "metadata": {},
     "output_type": "execute_result"
    }
   ],
   "source": [
    "mar_green_one_rider.describe()"
   ]
  },
  {
   "cell_type": "code",
   "execution_count": 28,
   "metadata": {},
   "outputs": [
    {
     "data": {
      "text/plain": [
       "ride_id                       int64\n",
       "pickup_datetime      datetime64[ns]\n",
       "dropoff_datetime     datetime64[ns]\n",
       "pickup_longitude            float64\n",
       "pickup_latitude             float64\n",
       "dropoff_longitude           float64\n",
       "dropoff_latitude            float64\n",
       "passenger_count               int64\n",
       "trip_distance               float64\n",
       "dtype: object"
      ]
     },
     "execution_count": 28,
     "metadata": {},
     "output_type": "execute_result"
    }
   ],
   "source": [
    "mar_green_one_rider.dtypes"
   ]
  },
  {
   "cell_type": "code",
   "execution_count": 29,
   "metadata": {},
   "outputs": [
    {
     "name": "stdout",
     "output_type": "stream",
     "text": [
      "3094100 total miles for ONE RIDER green taxi data in march 2014 from NYC\n"
     ]
    }
   ],
   "source": [
    "print(round(mar_green_one_rider['trip_distance'].sum()), \"total miles for ONE RIDER green taxi data in march 2014 from NYC\")"
   ]
  },
  {
   "cell_type": "markdown",
   "metadata": {},
   "source": [
    "### Selecting the march green taxi data that was split with passenger count = 2"
   ]
  },
  {
   "cell_type": "code",
   "execution_count": 30,
   "metadata": {},
   "outputs": [],
   "source": [
    "mar_green_two_rider = pd.read_sql(\"select * from mar_green_two_rider\", db);"
   ]
  },
  {
   "cell_type": "code",
   "execution_count": 31,
   "metadata": {},
   "outputs": [
    {
     "data": {
      "text/html": [
       "<div>\n",
       "<style scoped>\n",
       "    .dataframe tbody tr th:only-of-type {\n",
       "        vertical-align: middle;\n",
       "    }\n",
       "\n",
       "    .dataframe tbody tr th {\n",
       "        vertical-align: top;\n",
       "    }\n",
       "\n",
       "    .dataframe thead th {\n",
       "        text-align: right;\n",
       "    }\n",
       "</style>\n",
       "<table border=\"1\" class=\"dataframe\">\n",
       "  <thead>\n",
       "    <tr style=\"text-align: right;\">\n",
       "      <th></th>\n",
       "      <th>ride_id</th>\n",
       "      <th>pickup_datetime</th>\n",
       "      <th>dropoff_datetime</th>\n",
       "      <th>pickup_longitude</th>\n",
       "      <th>pickup_latitude</th>\n",
       "      <th>dropoff_longitude</th>\n",
       "      <th>dropoff_latitude</th>\n",
       "      <th>passenger_count</th>\n",
       "      <th>trip_distance</th>\n",
       "    </tr>\n",
       "  </thead>\n",
       "  <tbody>\n",
       "    <tr>\n",
       "      <th>0</th>\n",
       "      <td>41</td>\n",
       "      <td>2014-03-01 00:00:07</td>\n",
       "      <td>2014-03-01 00:11:19</td>\n",
       "      <td>-73.964630</td>\n",
       "      <td>40.712296</td>\n",
       "      <td>-73.947220</td>\n",
       "      <td>40.721889</td>\n",
       "      <td>2</td>\n",
       "      <td>1.50</td>\n",
       "    </tr>\n",
       "    <tr>\n",
       "      <th>1</th>\n",
       "      <td>53</td>\n",
       "      <td>2014-03-01 00:00:16</td>\n",
       "      <td>2014-03-01 00:18:50</td>\n",
       "      <td>-73.917015</td>\n",
       "      <td>40.761211</td>\n",
       "      <td>-73.850166</td>\n",
       "      <td>40.725178</td>\n",
       "      <td>2</td>\n",
       "      <td>7.17</td>\n",
       "    </tr>\n",
       "    <tr>\n",
       "      <th>2</th>\n",
       "      <td>62</td>\n",
       "      <td>2014-03-01 00:00:25</td>\n",
       "      <td>2014-03-01 00:05:02</td>\n",
       "      <td>-73.941803</td>\n",
       "      <td>40.798351</td>\n",
       "      <td>-73.941078</td>\n",
       "      <td>40.790031</td>\n",
       "      <td>2</td>\n",
       "      <td>0.77</td>\n",
       "    </tr>\n",
       "    <tr>\n",
       "      <th>3</th>\n",
       "      <td>66</td>\n",
       "      <td>2014-03-01 00:00:28</td>\n",
       "      <td>2014-03-01 00:04:31</td>\n",
       "      <td>-73.962364</td>\n",
       "      <td>40.682636</td>\n",
       "      <td>-73.961952</td>\n",
       "      <td>40.689232</td>\n",
       "      <td>2</td>\n",
       "      <td>0.70</td>\n",
       "    </tr>\n",
       "    <tr>\n",
       "      <th>4</th>\n",
       "      <td>92</td>\n",
       "      <td>2014-03-01 00:01:05</td>\n",
       "      <td>2014-03-01 00:04:24</td>\n",
       "      <td>-73.925407</td>\n",
       "      <td>40.761841</td>\n",
       "      <td>-73.935768</td>\n",
       "      <td>40.768932</td>\n",
       "      <td>2</td>\n",
       "      <td>0.90</td>\n",
       "    </tr>\n",
       "  </tbody>\n",
       "</table>\n",
       "</div>"
      ],
      "text/plain": [
       "   ride_id     pickup_datetime    dropoff_datetime  pickup_longitude  \\\n",
       "0       41 2014-03-01 00:00:07 2014-03-01 00:11:19        -73.964630   \n",
       "1       53 2014-03-01 00:00:16 2014-03-01 00:18:50        -73.917015   \n",
       "2       62 2014-03-01 00:00:25 2014-03-01 00:05:02        -73.941803   \n",
       "3       66 2014-03-01 00:00:28 2014-03-01 00:04:31        -73.962364   \n",
       "4       92 2014-03-01 00:01:05 2014-03-01 00:04:24        -73.925407   \n",
       "\n",
       "   pickup_latitude  dropoff_longitude  dropoff_latitude  passenger_count  \\\n",
       "0        40.712296         -73.947220         40.721889                2   \n",
       "1        40.761211         -73.850166         40.725178                2   \n",
       "2        40.798351         -73.941078         40.790031                2   \n",
       "3        40.682636         -73.961952         40.689232                2   \n",
       "4        40.761841         -73.935768         40.768932                2   \n",
       "\n",
       "   trip_distance  \n",
       "0           1.50  \n",
       "1           7.17  \n",
       "2           0.77  \n",
       "3           0.70  \n",
       "4           0.90  "
      ]
     },
     "execution_count": 31,
     "metadata": {},
     "output_type": "execute_result"
    }
   ],
   "source": [
    "mar_green_two_rider.head()"
   ]
  },
  {
   "cell_type": "code",
   "execution_count": 32,
   "metadata": {
    "scrolled": true
   },
   "outputs": [
    {
     "data": {
      "text/html": [
       "<div>\n",
       "<style scoped>\n",
       "    .dataframe tbody tr th:only-of-type {\n",
       "        vertical-align: middle;\n",
       "    }\n",
       "\n",
       "    .dataframe tbody tr th {\n",
       "        vertical-align: top;\n",
       "    }\n",
       "\n",
       "    .dataframe thead th {\n",
       "        text-align: right;\n",
       "    }\n",
       "</style>\n",
       "<table border=\"1\" class=\"dataframe\">\n",
       "  <thead>\n",
       "    <tr style=\"text-align: right;\">\n",
       "      <th></th>\n",
       "      <th>ride_id</th>\n",
       "      <th>pickup_longitude</th>\n",
       "      <th>pickup_latitude</th>\n",
       "      <th>dropoff_longitude</th>\n",
       "      <th>dropoff_latitude</th>\n",
       "      <th>passenger_count</th>\n",
       "      <th>trip_distance</th>\n",
       "    </tr>\n",
       "  </thead>\n",
       "  <tbody>\n",
       "    <tr>\n",
       "      <th>count</th>\n",
       "      <td>9.111900e+04</td>\n",
       "      <td>91119.000000</td>\n",
       "      <td>91119.000000</td>\n",
       "      <td>91119.000000</td>\n",
       "      <td>91119.000000</td>\n",
       "      <td>91119.0</td>\n",
       "      <td>91119.000000</td>\n",
       "    </tr>\n",
       "    <tr>\n",
       "      <th>mean</th>\n",
       "      <td>6.524365e+05</td>\n",
       "      <td>-73.932978</td>\n",
       "      <td>40.752387</td>\n",
       "      <td>-73.933037</td>\n",
       "      <td>40.750524</td>\n",
       "      <td>2.0</td>\n",
       "      <td>3.088483</td>\n",
       "    </tr>\n",
       "    <tr>\n",
       "      <th>std</th>\n",
       "      <td>3.772053e+05</td>\n",
       "      <td>0.042651</td>\n",
       "      <td>0.056229</td>\n",
       "      <td>0.051104</td>\n",
       "      <td>0.057751</td>\n",
       "      <td>0.0</td>\n",
       "      <td>2.969012</td>\n",
       "    </tr>\n",
       "    <tr>\n",
       "      <th>min</th>\n",
       "      <td>4.100000e+01</td>\n",
       "      <td>-74.438080</td>\n",
       "      <td>40.366768</td>\n",
       "      <td>-74.656998</td>\n",
       "      <td>40.354107</td>\n",
       "      <td>2.0</td>\n",
       "      <td>0.010000</td>\n",
       "    </tr>\n",
       "    <tr>\n",
       "      <th>25%</th>\n",
       "      <td>3.275905e+05</td>\n",
       "      <td>-73.959290</td>\n",
       "      <td>40.709984</td>\n",
       "      <td>-73.968376</td>\n",
       "      <td>40.708351</td>\n",
       "      <td>2.0</td>\n",
       "      <td>1.170000</td>\n",
       "    </tr>\n",
       "    <tr>\n",
       "      <th>50%</th>\n",
       "      <td>6.512600e+05</td>\n",
       "      <td>-73.944229</td>\n",
       "      <td>40.746983</td>\n",
       "      <td>-73.943207</td>\n",
       "      <td>40.748341</td>\n",
       "      <td>2.0</td>\n",
       "      <td>2.100000</td>\n",
       "    </tr>\n",
       "    <tr>\n",
       "      <th>75%</th>\n",
       "      <td>9.737920e+05</td>\n",
       "      <td>-73.911263</td>\n",
       "      <td>40.803995</td>\n",
       "      <td>-73.904236</td>\n",
       "      <td>40.792187</td>\n",
       "      <td>2.0</td>\n",
       "      <td>4.000000</td>\n",
       "    </tr>\n",
       "    <tr>\n",
       "      <th>max</th>\n",
       "      <td>1.293468e+06</td>\n",
       "      <td>-73.559784</td>\n",
       "      <td>41.034164</td>\n",
       "      <td>-73.040619</td>\n",
       "      <td>41.056427</td>\n",
       "      <td>2.0</td>\n",
       "      <td>87.660000</td>\n",
       "    </tr>\n",
       "  </tbody>\n",
       "</table>\n",
       "</div>"
      ],
      "text/plain": [
       "            ride_id  pickup_longitude  pickup_latitude  dropoff_longitude  \\\n",
       "count  9.111900e+04      91119.000000     91119.000000       91119.000000   \n",
       "mean   6.524365e+05        -73.932978        40.752387         -73.933037   \n",
       "std    3.772053e+05          0.042651         0.056229           0.051104   \n",
       "min    4.100000e+01        -74.438080        40.366768         -74.656998   \n",
       "25%    3.275905e+05        -73.959290        40.709984         -73.968376   \n",
       "50%    6.512600e+05        -73.944229        40.746983         -73.943207   \n",
       "75%    9.737920e+05        -73.911263        40.803995         -73.904236   \n",
       "max    1.293468e+06        -73.559784        41.034164         -73.040619   \n",
       "\n",
       "       dropoff_latitude  passenger_count  trip_distance  \n",
       "count      91119.000000          91119.0   91119.000000  \n",
       "mean          40.750524              2.0       3.088483  \n",
       "std            0.057751              0.0       2.969012  \n",
       "min           40.354107              2.0       0.010000  \n",
       "25%           40.708351              2.0       1.170000  \n",
       "50%           40.748341              2.0       2.100000  \n",
       "75%           40.792187              2.0       4.000000  \n",
       "max           41.056427              2.0      87.660000  "
      ]
     },
     "execution_count": 32,
     "metadata": {},
     "output_type": "execute_result"
    }
   ],
   "source": [
    "mar_green_two_rider.describe()"
   ]
  },
  {
   "cell_type": "code",
   "execution_count": 33,
   "metadata": {},
   "outputs": [
    {
     "data": {
      "text/plain": [
       "ride_id                       int64\n",
       "pickup_datetime      datetime64[ns]\n",
       "dropoff_datetime     datetime64[ns]\n",
       "pickup_longitude            float64\n",
       "pickup_latitude             float64\n",
       "dropoff_longitude           float64\n",
       "dropoff_latitude            float64\n",
       "passenger_count               int64\n",
       "trip_distance               float64\n",
       "dtype: object"
      ]
     },
     "execution_count": 33,
     "metadata": {},
     "output_type": "execute_result"
    }
   ],
   "source": [
    "mar_green_two_rider.dtypes"
   ]
  },
  {
   "cell_type": "code",
   "execution_count": 34,
   "metadata": {},
   "outputs": [
    {
     "name": "stdout",
     "output_type": "stream",
     "text": [
      "281419 total miles for TWO RIDER green taxi data in march 2014 from NYC\n"
     ]
    }
   ],
   "source": [
    "print(round(mar_green_two_rider['trip_distance'].sum()), \"total miles for TWO RIDER green taxi data in march 2014 from NYC\")"
   ]
  },
  {
   "cell_type": "markdown",
   "metadata": {},
   "source": [
    "# Algorithm with single and double riders"
   ]
  },
  {
   "cell_type": "markdown",
   "metadata": {},
   "source": [
    "#### Function to get distance between coordinates"
   ]
  },
  {
   "cell_type": "code",
   "execution_count": 35,
   "metadata": {},
   "outputs": [
    {
     "data": {
      "text/plain": [
       "173.5818455248231"
      ]
     },
     "execution_count": 35,
     "metadata": {},
     "output_type": "execute_result"
    }
   ],
   "source": [
    "import geopy.distance\n",
    "\n",
    "def get_distance(lat_origin, lon_origin, lat_end, lon_end):\n",
    "    coords_1 = (lat_origin, lon_origin)\n",
    "    coords_2 = (lat_end, lon_end)\n",
    "    \n",
    "    distance = geopy.distance.distance(coords_1, coords_2).mi\n",
    "    #print(\"Distance: \", distance, \" mi\")\n",
    "    return distance\n",
    "\n",
    "get_distance(52.2296756, 21.0122287,52.406374, 16.9251681)"
   ]
  },
  {
   "cell_type": "code",
   "execution_count": 36,
   "metadata": {},
   "outputs": [
    {
     "name": "stdout",
     "output_type": "stream",
     "text": [
      "time difference from jan one riders : 501.0\n",
      "time difference from jan two riders : 421.0\n",
      "time difference from feb one riders : -2677894.0\n",
      "time difference from feb two riders : -2677944.0\n",
      "time difference from mar one riders : -5097092.0\n",
      "time difference from mar two riders : -5097143.0\n"
     ]
    }
   ],
   "source": [
    "def time_difference(time_1, time_2):\n",
    "    elapsedTime = time_2 - time_1\n",
    "    #print(\"Elapsed time: \", elapsedTime)\n",
    "    #print(\"Total seconds: \", elapsedTime.total_seconds())\n",
    "    \n",
    "    return (elapsedTime.total_seconds())\n",
    "\n",
    "print(\"time difference from jan one riders : \" + str(time_difference(jan_green_one_rider['pickup_datetime'][0], jan_green_one_rider['dropoff_datetime'][0])))\n",
    "print(\"time difference from jan two riders : \" + str(time_difference(jan_green_two_rider['pickup_datetime'][0], jan_green_two_rider['dropoff_datetime'][0])))\n",
    "\n",
    "print(\"time difference from feb one riders : \" + str(time_difference(feb_green_one_rider['pickup_datetime'][0], jan_green_one_rider['dropoff_datetime'][0])))\n",
    "print(\"time difference from feb two riders : \" + str(time_difference(feb_green_two_rider['pickup_datetime'][0], jan_green_two_rider['dropoff_datetime'][0])))\n",
    "\n",
    "print(\"time difference from mar one riders : \" + str(time_difference(mar_green_one_rider['pickup_datetime'][0], jan_green_one_rider['dropoff_datetime'][0])))\n",
    "print(\"time difference from mar two riders : \" + str(time_difference(mar_green_two_rider['pickup_datetime'][0], jan_green_two_rider['dropoff_datetime'][0])))\n",
    "\n",
    "    "
   ]
  },
  {
   "cell_type": "code",
   "execution_count": 37,
   "metadata": {},
   "outputs": [],
   "source": [
    "def add_speed_to_trip(trip):\n",
    "    time_1 = trip['pickup_datetime']\n",
    "    time_2 = trip['dropoff_datetime']\n",
    "\n",
    "    distance = trip['trip_distance']\n",
    "    time = time_difference(time_1, time_2)/3600\n",
    "    speed = distance/time\n",
    "    \n",
    "    #print(\"Speed: \", speed, \"mi/hr\")\n",
    "    return speed"
   ]
  },
  {
   "cell_type": "code",
   "execution_count": 38,
   "metadata": {
    "scrolled": true
   },
   "outputs": [],
   "source": [
    "jan_green_one_rider['speed'] = jan_green_one_rider.apply(add_speed_to_trip, axis = 1)\n",
    "jan_green_two_rider['speed'] = jan_green_two_rider.apply(add_speed_to_trip, axis = 1)\n",
    "\n",
    "feb_green_one_rider['speed'] = feb_green_one_rider.apply(add_speed_to_trip, axis = 1)\n",
    "feb_green_two_rider['speed'] = feb_green_two_rider.apply(add_speed_to_trip, axis = 1)\n",
    "\n",
    "mar_green_one_rider['speed'] = mar_green_one_rider.apply(add_speed_to_trip, axis = 1)\n",
    "mar_green_two_rider['speed'] = mar_green_two_rider.apply(add_speed_to_trip, axis = 1)\n"
   ]
  },
  {
   "cell_type": "code",
   "execution_count": 39,
   "metadata": {},
   "outputs": [],
   "source": [
    "def calcSequence(p1_lat, p1_long, p2_lat, p2_long, p3_lat, p3_long, p4_lat, p4_long, speed, trip1_pu_time, trip2_pu_time, \n",
    "                 trip1_do_time, trip2_do_time, delay):\n",
    "  \n",
    "    ## p1 - p2 - p3 - p4 / point1 - point2 - point3 - point4\n",
    "    #within 5 minutes before -2 pickup, and withing 5minutes of after p3 and p4 dropoff\n",
    "    \n",
    "    #Keeps track of the total distance everytime distance is added\n",
    "    totalDistance = 0\n",
    "    \n",
    "    # distance between o1 and o2  \n",
    "    distance = get_distance(p1_lat,p1_long,p2_lat,p2_long)            \n",
    "    # time it will take to go from o1 to o2\n",
    "    time = speed/distance            \n",
    "    # time is in hours so convert to minutes to seconds\n",
    "    time_seconds = time * 60 * 60                       \n",
    "    # delay in seconds\n",
    "    delay_seconds = delay * 60            \n",
    "    # trip 2 pickupd time range edge\n",
    "                   \n",
    "    # [trip2_pickup_edge, trip2_pickup]  \n",
    "    # [12:55 pm, 1:00 pm]\n",
    "    # trip1_pickup + time seconds = some time that needs to fall in this range            \n",
    "    if (trip1_pu_time + time_seconds >= (trip2_pu_time - delay_seconds)) or (trip1_pu_time + time_seconds <= trip2_pu_time):\n",
    "        # Get the trip1 drop off edge\n",
    "        # p2 - p3\n",
    "        totalDistance += distance\n",
    "        distance = get_distance(p2_lat,p2_long,p3_lat,p3_long)\n",
    "       \n",
    "        # time it will take to go from o1 to o2\n",
    "        time = speed/distance            \n",
    "        # time is in hours so convert to minutes to seconds\n",
    "        time_seconds = time * 60 * 60  \n",
    "        if (trip2_pickup + time_seconds >= (trip1_do_time)) or (trip2_pu_time + time_seconds <= trip1_do_time + delay_seconds):\n",
    "            totalDistance += distance\n",
    "            distance = get_distance(p3_lat,p3_long,p4_lat,p4_long)   \n",
    "            # time it will take to go from o1 to o2\n",
    "            time = speed/distance            \n",
    "            # time is in hours so convert to minutes to seconds\n",
    "            time_seconds = time * 60 * 60  \n",
    "            if (trip1_do_time + time_seconds >= (trip2_do_time)) or (trip1_do_time + time_seconds <= trip2_do_time  + delay_seconds):\n",
    "                totalDistance += distance\n",
    "                return totalDistance\n",
    "    return -1\n",
    "        \n",
    "\n",
    "\n",
    "    # get time range permissible for each origin and dropoff\n",
    "    # start at o1 check if taxi can make it to o2 within delay\n",
    "\n",
    "    # i.e. if 5 minute delay then make it within 5 min before o2\n",
    "    # then have to make it within 5 min after d1 and d2 drop off\n",
    "\n",
    "    # calculate savings if trip is permissible\n",
    "    # savings = [distance(trip1) + distance(trip2)] - distance(combined trip1 & trip2)\n",
    "\n",
    "    # o1 - o2 - d2 - d1\n",
    "\n",
    "    # o2 - o1 - d1 - d2\n",
    "\n",
    "    # o2 - o1 - d2 - d1\n",
    "    \n",
    "\n",
    "\n",
    "def prototype_algorithm(single_trips, double_trips, delay):\n",
    "    # columns- 'ride_id', 'pickup_datetime', 'dropoff_datetime', 'pickup_longitude',\n",
    "    #          'pickup_latitude', 'dropoff_longitude', 'dropoff_latitude',\n",
    "    #          'passenger_count', 'trip_distance', 'speed'\n",
    "    combined_trips = {}\n",
    "\n",
    "    for index, trip1 in single_trips.iterrows():  \n",
    "\n",
    "        for index, trip2 in double_trips.iterrows():\n",
    "            # average speed of two trips\n",
    "            speed3 = (trip1['speed'] + trip2['speed'])/2\n",
    "                        \n",
    "            # possible sequences:\n",
    "            \n",
    "            # o1 - o2 - d1 - d2\n",
    "            \n",
    "            # o1 - o2 - d2 - d1\n",
    "            \n",
    "            # o2 - o1 - d1 - d2\n",
    "            \n",
    "            # o2 - o1 - d2 - d1\n",
    "            o1_lon = trip1['pickup_longitude']\n",
    "            o1_lat = trip1['pickup_latitude']\n",
    "            o2_lon = trip2['pickup_longitude']\n",
    "            o2_lat = trip2['pickup_latitude']\n",
    "            \n",
    "            d1_lon = trip1['pickup_longitude']\n",
    "            d1_lat = trip1['pickup_latitude']\n",
    "            d2_lon = trip2['pickup_longitude']\n",
    "            d2_lat = trip2['pickup_latitude']\n",
    "            \n",
    "            \n",
    "            pu1 = trip1['pickup_datetime'].total_seconds()  \n",
    "            pu2 = trip2['pickup_datetime'].total_seconds() \n",
    "            \n",
    "            \n",
    "            do1 = trip1['dropoff_datetime'].total_seconds()\n",
    "            do2 = trip2['dropoff_datetime'].total_seconds() \n",
    "            \n",
    "            \n",
    "            # o1 - o2 - d1 - d2\n",
    "            seq1 = calcSequence(o1_lat, o1_long, o2_lat, o2_long, d1_lat, d1_long, d2_lat, d2_long, speed3, pu1, pu2, du1, du2, delay)\n",
    "            \n",
    "            # o1 - o2 - d2 - d1\n",
    "            seq2 = calcSequence(o1_lat, o1_long, o2_lat, o2_long, d2_lat, d2_long, d1_lat, d1_long, speed3, pu1, pu2, du1, du2, delay)\n",
    "            \n",
    "            # o2 - o1 - d2 - d1\n",
    "            seq3 = calcSequence( o2_lat, o2_long, o1_lat, o1_long, d2_lat, d2_long, d1_lat, d1_long, speed3, pu1, pu2, du1, du2, delay)\n",
    "            \n",
    "            # o2 - o1 - d1 - d2\n",
    "            seq4 = calcSequence( o2_lat, o2_long, o1_lat, o1_long, d1_lat, d1_long, d2_lat, d2_long, speed3, pu1, pu2, du1, du2, delay)\n",
    "            \n",
    "            totalDistance = trip1['trip_distance'] + trip2['trip_distance']\n",
    "            \n",
    "            \n",
    "            if seq1 < seq2 and seq1 < seq3 and seq1 < seq4 and seq1 != -1:\n",
    "                combined_trips[(trip1['ride_id'], trip2['ride_id'])] = totalDistance - seq1\n",
    "            elif seq2 < seq1 and seq2 < seq3 and seq2 < seq4 and seq2 != -1:\n",
    "                combined_trips[(trip1['ride_id'], trip2['ride_id'])] = totalDistance - seq2   \n",
    "            elif seq3 < seq1 and seq3 < seq4 and seq3 < seq2 and seq3 != -1:\n",
    "                combined_trips[(trip1['ride_id'], trip2['ride_id'])] = totalDistance - seq3 \n",
    "            elif seq4 < seq1 and seq4 < seq2 and seq4 < seq3 and seq4 != -1:\n",
    "                combined_trips[(trip1['ride_id'], trip2['ride_id'])] = totalDistance - seq4     \n",
    "            \n",
    "    return combined_trips\n"
   ]
  },
  {
   "cell_type": "markdown",
   "metadata": {},
   "source": [
    "##### Perhaps Limit the Longitude and Latitude ranges to make algorithm faster\n",
    "These values are chosen based on the 25% to 50% quartile ranges for the latitude and longitude to get 25% of the data isntead of 100%\n",
    "\n",
    "-73.959290\t< pu_lon < -73.944229 \n",
    "\n",
    "40.709984\t< pu_lat < 40.746983\t\n",
    "\n",
    "-73.968376\t< do_lon < -73.943207\t\n",
    "\n",
    "40.708351\t< do_lat < 40.748341\t\n"
   ]
  },
  {
   "cell_type": "code",
   "execution_count": 40,
   "metadata": {},
   "outputs": [],
   "source": [
    "jan_one = jan_green_one_rider\n",
    "jan_two = jan_green_two_rider"
   ]
  },
  {
   "cell_type": "code",
   "execution_count": 41,
   "metadata": {
    "scrolled": true
   },
   "outputs": [
    {
     "data": {
      "text/plain": [
       "(640964, 10)"
      ]
     },
     "execution_count": 41,
     "metadata": {},
     "output_type": "execute_result"
    }
   ],
   "source": [
    "jan_one.shape"
   ]
  },
  {
   "cell_type": "code",
   "execution_count": 42,
   "metadata": {},
   "outputs": [
    {
     "data": {
      "text/plain": [
       "(56464, 10)"
      ]
     },
     "execution_count": 42,
     "metadata": {},
     "output_type": "execute_result"
    }
   ],
   "source": [
    "jan_two.shape"
   ]
  },
  {
   "cell_type": "code",
   "execution_count": 43,
   "metadata": {},
   "outputs": [],
   "source": [
    "jan_one = jan_one[(jan_one['pickup_latitude'] > 40.709984) & (jan_one['pickup_latitude'] < 40.746983) &\n",
    "                  (jan_one['pickup_longitude'] > -73.959290) & (jan_one['pickup_longitude'] < -73.944229) &\n",
    "                  (jan_one['dropoff_latitude'] > 40.708351) & (jan_one['dropoff_latitude'] < 40.748341) &\n",
    "                  (jan_one['dropoff_longitude'] > -73.968376) & (jan_one['dropoff_longitude'] < -73.943207)\n",
    "                 ]"
   ]
  },
  {
   "cell_type": "code",
   "execution_count": 44,
   "metadata": {},
   "outputs": [],
   "source": [
    "jan_two = jan_two[(jan_two['pickup_latitude'] > 40.709984) & (jan_two['pickup_latitude'] < 40.746983) &\n",
    "                  (jan_two['pickup_longitude'] > -73.959290) & (jan_two['pickup_longitude'] < -73.944229) &\n",
    "                  (jan_two['dropoff_latitude'] > 40.708351) & (jan_two['dropoff_latitude'] < 40.748341) &\n",
    "                  (jan_two['dropoff_longitude'] > -73.968376) & (jan_two['dropoff_longitude'] < -73.943207)\n",
    "                 ]"
   ]
  },
  {
   "cell_type": "code",
   "execution_count": 45,
   "metadata": {},
   "outputs": [
    {
     "data": {
      "text/plain": [
       "(13676, 10)"
      ]
     },
     "execution_count": 45,
     "metadata": {},
     "output_type": "execute_result"
    }
   ],
   "source": [
    "jan_one.shape"
   ]
  },
  {
   "cell_type": "code",
   "execution_count": 46,
   "metadata": {},
   "outputs": [
    {
     "data": {
      "text/plain": [
       "(1813, 10)"
      ]
     },
     "execution_count": 46,
     "metadata": {},
     "output_type": "execute_result"
    }
   ],
   "source": [
    "jan_two.shape"
   ]
  },
  {
   "cell_type": "code",
   "execution_count": 47,
   "metadata": {},
   "outputs": [
    {
     "data": {
      "text/html": [
       "<div>\n",
       "<style scoped>\n",
       "    .dataframe tbody tr th:only-of-type {\n",
       "        vertical-align: middle;\n",
       "    }\n",
       "\n",
       "    .dataframe tbody tr th {\n",
       "        vertical-align: top;\n",
       "    }\n",
       "\n",
       "    .dataframe thead th {\n",
       "        text-align: right;\n",
       "    }\n",
       "</style>\n",
       "<table border=\"1\" class=\"dataframe\">\n",
       "  <thead>\n",
       "    <tr style=\"text-align: right;\">\n",
       "      <th></th>\n",
       "      <th>ride_id</th>\n",
       "      <th>pickup_datetime</th>\n",
       "      <th>dropoff_datetime</th>\n",
       "      <th>pickup_longitude</th>\n",
       "      <th>pickup_latitude</th>\n",
       "      <th>dropoff_longitude</th>\n",
       "      <th>dropoff_latitude</th>\n",
       "      <th>passenger_count</th>\n",
       "      <th>trip_distance</th>\n",
       "      <th>speed</th>\n",
       "    </tr>\n",
       "  </thead>\n",
       "  <tbody>\n",
       "    <tr>\n",
       "      <th>0</th>\n",
       "      <td>38</td>\n",
       "      <td>2014-01-01 00:01:16</td>\n",
       "      <td>2014-01-01 00:07:05</td>\n",
       "      <td>-73.949501</td>\n",
       "      <td>40.714016</td>\n",
       "      <td>-73.947380</td>\n",
       "      <td>40.710068</td>\n",
       "      <td>1</td>\n",
       "      <td>0.88</td>\n",
       "      <td>9.077364</td>\n",
       "    </tr>\n",
       "    <tr>\n",
       "      <th>1</th>\n",
       "      <td>59</td>\n",
       "      <td>2014-01-01 00:02:10</td>\n",
       "      <td>2014-01-01 00:04:54</td>\n",
       "      <td>-73.951622</td>\n",
       "      <td>40.714329</td>\n",
       "      <td>-73.950470</td>\n",
       "      <td>40.711063</td>\n",
       "      <td>1</td>\n",
       "      <td>0.47</td>\n",
       "      <td>10.317073</td>\n",
       "    </tr>\n",
       "    <tr>\n",
       "      <th>2</th>\n",
       "      <td>60</td>\n",
       "      <td>2014-01-01 00:02:11</td>\n",
       "      <td>2014-01-01 00:06:53</td>\n",
       "      <td>-73.957886</td>\n",
       "      <td>40.717773</td>\n",
       "      <td>-73.957207</td>\n",
       "      <td>40.727459</td>\n",
       "      <td>1</td>\n",
       "      <td>0.89</td>\n",
       "      <td>11.361702</td>\n",
       "    </tr>\n",
       "    <tr>\n",
       "      <th>3</th>\n",
       "      <td>64</td>\n",
       "      <td>2014-01-01 00:02:39</td>\n",
       "      <td>2014-01-01 00:06:04</td>\n",
       "      <td>-73.952599</td>\n",
       "      <td>40.726860</td>\n",
       "      <td>-73.945587</td>\n",
       "      <td>40.725471</td>\n",
       "      <td>1</td>\n",
       "      <td>0.90</td>\n",
       "      <td>15.804878</td>\n",
       "    </tr>\n",
       "    <tr>\n",
       "      <th>4</th>\n",
       "      <td>76</td>\n",
       "      <td>2014-01-01 00:03:16</td>\n",
       "      <td>2014-01-01 00:13:14</td>\n",
       "      <td>-73.951637</td>\n",
       "      <td>40.713833</td>\n",
       "      <td>-73.957687</td>\n",
       "      <td>40.732048</td>\n",
       "      <td>1</td>\n",
       "      <td>1.80</td>\n",
       "      <td>10.836120</td>\n",
       "    </tr>\n",
       "  </tbody>\n",
       "</table>\n",
       "</div>"
      ],
      "text/plain": [
       "   ride_id     pickup_datetime    dropoff_datetime  pickup_longitude  \\\n",
       "0       38 2014-01-01 00:01:16 2014-01-01 00:07:05        -73.949501   \n",
       "1       59 2014-01-01 00:02:10 2014-01-01 00:04:54        -73.951622   \n",
       "2       60 2014-01-01 00:02:11 2014-01-01 00:06:53        -73.957886   \n",
       "3       64 2014-01-01 00:02:39 2014-01-01 00:06:04        -73.952599   \n",
       "4       76 2014-01-01 00:03:16 2014-01-01 00:13:14        -73.951637   \n",
       "\n",
       "   pickup_latitude  dropoff_longitude  dropoff_latitude  passenger_count  \\\n",
       "0        40.714016         -73.947380         40.710068                1   \n",
       "1        40.714329         -73.950470         40.711063                1   \n",
       "2        40.717773         -73.957207         40.727459                1   \n",
       "3        40.726860         -73.945587         40.725471                1   \n",
       "4        40.713833         -73.957687         40.732048                1   \n",
       "\n",
       "   trip_distance      speed  \n",
       "0           0.88   9.077364  \n",
       "1           0.47  10.317073  \n",
       "2           0.89  11.361702  \n",
       "3           0.90  15.804878  \n",
       "4           1.80  10.836120  "
      ]
     },
     "execution_count": 47,
     "metadata": {},
     "output_type": "execute_result"
    }
   ],
   "source": [
    "jan_one = jan_one.sort_values(by = ['pickup_datetime', 'pickup_latitude', 'pickup_longitude']).reset_index().drop(columns=['index'])\n",
    "jan_one.head()"
   ]
  },
  {
   "cell_type": "code",
   "execution_count": 48,
   "metadata": {},
   "outputs": [
    {
     "data": {
      "text/html": [
       "<div>\n",
       "<style scoped>\n",
       "    .dataframe tbody tr th:only-of-type {\n",
       "        vertical-align: middle;\n",
       "    }\n",
       "\n",
       "    .dataframe tbody tr th {\n",
       "        vertical-align: top;\n",
       "    }\n",
       "\n",
       "    .dataframe thead th {\n",
       "        text-align: right;\n",
       "    }\n",
       "</style>\n",
       "<table border=\"1\" class=\"dataframe\">\n",
       "  <thead>\n",
       "    <tr style=\"text-align: right;\">\n",
       "      <th></th>\n",
       "      <th>ride_id</th>\n",
       "      <th>pickup_datetime</th>\n",
       "      <th>dropoff_datetime</th>\n",
       "      <th>pickup_longitude</th>\n",
       "      <th>pickup_latitude</th>\n",
       "      <th>dropoff_longitude</th>\n",
       "      <th>dropoff_latitude</th>\n",
       "      <th>passenger_count</th>\n",
       "      <th>trip_distance</th>\n",
       "      <th>speed</th>\n",
       "    </tr>\n",
       "  </thead>\n",
       "  <tbody>\n",
       "    <tr>\n",
       "      <th>0</th>\n",
       "      <td>86</td>\n",
       "      <td>2014-01-01 00:03:43</td>\n",
       "      <td>2014-01-01 00:11:39</td>\n",
       "      <td>-73.957870</td>\n",
       "      <td>40.721825</td>\n",
       "      <td>-73.943550</td>\n",
       "      <td>40.708923</td>\n",
       "      <td>2</td>\n",
       "      <td>1.47</td>\n",
       "      <td>11.117647</td>\n",
       "    </tr>\n",
       "    <tr>\n",
       "      <th>1</th>\n",
       "      <td>568</td>\n",
       "      <td>2014-01-01 00:16:16</td>\n",
       "      <td>2014-01-01 00:24:40</td>\n",
       "      <td>-73.957764</td>\n",
       "      <td>40.722015</td>\n",
       "      <td>-73.946861</td>\n",
       "      <td>40.708637</td>\n",
       "      <td>2</td>\n",
       "      <td>1.60</td>\n",
       "      <td>11.428571</td>\n",
       "    </tr>\n",
       "    <tr>\n",
       "      <th>2</th>\n",
       "      <td>954</td>\n",
       "      <td>2014-01-01 00:24:27</td>\n",
       "      <td>2014-01-01 00:32:28</td>\n",
       "      <td>-73.950150</td>\n",
       "      <td>40.718609</td>\n",
       "      <td>-73.955276</td>\n",
       "      <td>40.736778</td>\n",
       "      <td>2</td>\n",
       "      <td>1.67</td>\n",
       "      <td>12.498960</td>\n",
       "    </tr>\n",
       "    <tr>\n",
       "      <th>3</th>\n",
       "      <td>1117</td>\n",
       "      <td>2014-01-01 00:28:14</td>\n",
       "      <td>2014-01-01 00:32:58</td>\n",
       "      <td>-73.945168</td>\n",
       "      <td>40.719082</td>\n",
       "      <td>-73.954559</td>\n",
       "      <td>40.732052</td>\n",
       "      <td>2</td>\n",
       "      <td>1.10</td>\n",
       "      <td>13.943662</td>\n",
       "    </tr>\n",
       "    <tr>\n",
       "      <th>4</th>\n",
       "      <td>1373</td>\n",
       "      <td>2014-01-01 00:33:45</td>\n",
       "      <td>2014-01-01 00:39:54</td>\n",
       "      <td>-73.955292</td>\n",
       "      <td>40.736786</td>\n",
       "      <td>-73.956200</td>\n",
       "      <td>40.719257</td>\n",
       "      <td>2</td>\n",
       "      <td>1.58</td>\n",
       "      <td>15.414634</td>\n",
       "    </tr>\n",
       "  </tbody>\n",
       "</table>\n",
       "</div>"
      ],
      "text/plain": [
       "   ride_id     pickup_datetime    dropoff_datetime  pickup_longitude  \\\n",
       "0       86 2014-01-01 00:03:43 2014-01-01 00:11:39        -73.957870   \n",
       "1      568 2014-01-01 00:16:16 2014-01-01 00:24:40        -73.957764   \n",
       "2      954 2014-01-01 00:24:27 2014-01-01 00:32:28        -73.950150   \n",
       "3     1117 2014-01-01 00:28:14 2014-01-01 00:32:58        -73.945168   \n",
       "4     1373 2014-01-01 00:33:45 2014-01-01 00:39:54        -73.955292   \n",
       "\n",
       "   pickup_latitude  dropoff_longitude  dropoff_latitude  passenger_count  \\\n",
       "0        40.721825         -73.943550         40.708923                2   \n",
       "1        40.722015         -73.946861         40.708637                2   \n",
       "2        40.718609         -73.955276         40.736778                2   \n",
       "3        40.719082         -73.954559         40.732052                2   \n",
       "4        40.736786         -73.956200         40.719257                2   \n",
       "\n",
       "   trip_distance      speed  \n",
       "0           1.47  11.117647  \n",
       "1           1.60  11.428571  \n",
       "2           1.67  12.498960  \n",
       "3           1.10  13.943662  \n",
       "4           1.58  15.414634  "
      ]
     },
     "execution_count": 48,
     "metadata": {},
     "output_type": "execute_result"
    }
   ],
   "source": [
    "jan_two = jan_two.sort_values(by = ['pickup_datetime', 'pickup_latitude', 'pickup_longitude']).reset_index().drop(columns=['index'])\n",
    "jan_two.head()"
   ]
  },
  {
   "cell_type": "markdown",
   "metadata": {},
   "source": [
    "## Algorithm"
   ]
  },
  {
   "cell_type": "markdown",
   "metadata": {},
   "source": [
    "### Select one rider"
   ]
  },
  {
   "cell_type": "code",
   "execution_count": 49,
   "metadata": {},
   "outputs": [
    {
     "data": {
      "text/html": [
       "<div>\n",
       "<style scoped>\n",
       "    .dataframe tbody tr th:only-of-type {\n",
       "        vertical-align: middle;\n",
       "    }\n",
       "\n",
       "    .dataframe tbody tr th {\n",
       "        vertical-align: top;\n",
       "    }\n",
       "\n",
       "    .dataframe thead th {\n",
       "        text-align: right;\n",
       "    }\n",
       "</style>\n",
       "<table border=\"1\" class=\"dataframe\">\n",
       "  <thead>\n",
       "    <tr style=\"text-align: right;\">\n",
       "      <th></th>\n",
       "      <th>ride_id</th>\n",
       "      <th>pickup_datetime</th>\n",
       "      <th>dropoff_datetime</th>\n",
       "      <th>pickup_longitude</th>\n",
       "      <th>pickup_latitude</th>\n",
       "      <th>dropoff_longitude</th>\n",
       "      <th>dropoff_latitude</th>\n",
       "      <th>passenger_count</th>\n",
       "      <th>trip_distance</th>\n",
       "      <th>speed</th>\n",
       "    </tr>\n",
       "  </thead>\n",
       "  <tbody>\n",
       "    <tr>\n",
       "      <th>0</th>\n",
       "      <td>38</td>\n",
       "      <td>2014-01-01 00:01:16</td>\n",
       "      <td>2014-01-01 00:07:05</td>\n",
       "      <td>-73.949501</td>\n",
       "      <td>40.714016</td>\n",
       "      <td>-73.94738</td>\n",
       "      <td>40.710068</td>\n",
       "      <td>1</td>\n",
       "      <td>0.88</td>\n",
       "      <td>9.077364</td>\n",
       "    </tr>\n",
       "  </tbody>\n",
       "</table>\n",
       "</div>"
      ],
      "text/plain": [
       "   ride_id     pickup_datetime    dropoff_datetime  pickup_longitude  \\\n",
       "0       38 2014-01-01 00:01:16 2014-01-01 00:07:05        -73.949501   \n",
       "\n",
       "   pickup_latitude  dropoff_longitude  dropoff_latitude  passenger_count  \\\n",
       "0        40.714016          -73.94738         40.710068                1   \n",
       "\n",
       "   trip_distance     speed  \n",
       "0           0.88  9.077364  "
      ]
     },
     "execution_count": 49,
     "metadata": {},
     "output_type": "execute_result"
    }
   ],
   "source": [
    "# Algorithm\n",
    "# select one ride\n",
    "ride_one = jan_one.loc[[0]]\n",
    "ride_one"
   ]
  },
  {
   "cell_type": "markdown",
   "metadata": {},
   "source": [
    "### Select two rider"
   ]
  },
  {
   "cell_type": "code",
   "execution_count": 50,
   "metadata": {},
   "outputs": [
    {
     "data": {
      "text/html": [
       "<div>\n",
       "<style scoped>\n",
       "    .dataframe tbody tr th:only-of-type {\n",
       "        vertical-align: middle;\n",
       "    }\n",
       "\n",
       "    .dataframe tbody tr th {\n",
       "        vertical-align: top;\n",
       "    }\n",
       "\n",
       "    .dataframe thead th {\n",
       "        text-align: right;\n",
       "    }\n",
       "</style>\n",
       "<table border=\"1\" class=\"dataframe\">\n",
       "  <thead>\n",
       "    <tr style=\"text-align: right;\">\n",
       "      <th></th>\n",
       "      <th>ride_id</th>\n",
       "      <th>pickup_datetime</th>\n",
       "      <th>dropoff_datetime</th>\n",
       "      <th>pickup_longitude</th>\n",
       "      <th>pickup_latitude</th>\n",
       "      <th>dropoff_longitude</th>\n",
       "      <th>dropoff_latitude</th>\n",
       "      <th>passenger_count</th>\n",
       "      <th>trip_distance</th>\n",
       "      <th>speed</th>\n",
       "    </tr>\n",
       "  </thead>\n",
       "  <tbody>\n",
       "    <tr>\n",
       "      <th>0</th>\n",
       "      <td>86</td>\n",
       "      <td>2014-01-01 00:03:43</td>\n",
       "      <td>2014-01-01 00:11:39</td>\n",
       "      <td>-73.95787</td>\n",
       "      <td>40.721825</td>\n",
       "      <td>-73.94355</td>\n",
       "      <td>40.708923</td>\n",
       "      <td>2</td>\n",
       "      <td>1.47</td>\n",
       "      <td>11.117647</td>\n",
       "    </tr>\n",
       "  </tbody>\n",
       "</table>\n",
       "</div>"
      ],
      "text/plain": [
       "   ride_id     pickup_datetime    dropoff_datetime  pickup_longitude  \\\n",
       "0       86 2014-01-01 00:03:43 2014-01-01 00:11:39         -73.95787   \n",
       "\n",
       "   pickup_latitude  dropoff_longitude  dropoff_latitude  passenger_count  \\\n",
       "0        40.721825          -73.94355         40.708923                2   \n",
       "\n",
       "   trip_distance      speed  \n",
       "0           1.47  11.117647  "
      ]
     },
     "execution_count": 50,
     "metadata": {},
     "output_type": "execute_result"
    }
   ],
   "source": [
    "ride_two = jan_two.loc[[0]]\n",
    "ride_two"
   ]
  },
  {
   "cell_type": "markdown",
   "metadata": {},
   "source": [
    "### Check if combinable with delay 5 minutes"
   ]
  },
  {
   "cell_type": "code",
   "execution_count": 51,
   "metadata": {},
   "outputs": [
    {
     "name": "stdout",
     "output_type": "stream",
     "text": [
      "Delay: 5 minutes\n"
     ]
    }
   ],
   "source": [
    "delay = 5\n",
    "print(\"Delay:\", delay, \"minutes\")"
   ]
  },
  {
   "cell_type": "markdown",
   "metadata": {},
   "source": [
    "#### 1. get speed of combined trips"
   ]
  },
  {
   "cell_type": "code",
   "execution_count": 52,
   "metadata": {},
   "outputs": [
    {
     "name": "stdout",
     "output_type": "stream",
     "text": [
      "10.097505477835835 mi/hr\n"
     ]
    }
   ],
   "source": [
    "speed = (ride_one['speed'][0] + ride_two['speed'][0])/2\n",
    "print(speed, \"mi/hr\")"
   ]
  },
  {
   "cell_type": "markdown",
   "metadata": {},
   "source": [
    "#### 2a. get distance between  pickup points"
   ]
  },
  {
   "cell_type": "code",
   "execution_count": 53,
   "metadata": {},
   "outputs": [
    {
     "name": "stdout",
     "output_type": "stream",
     "text": [
      "0.6952721673692104 mi\n"
     ]
    }
   ],
   "source": [
    "pu_distance = get_distance(ride_one['pickup_latitude'][0], ride_one['pickup_longitude'][0],\n",
    "                           ride_two['pickup_latitude'][0], ride_two['pickup_longitude'][0])\n",
    "print(pu_distance, \"mi\")"
   ]
  },
  {
   "cell_type": "markdown",
   "metadata": {},
   "source": [
    "#### 2b. get distance between dropoff points"
   ]
  },
  {
   "cell_type": "code",
   "execution_count": 54,
   "metadata": {},
   "outputs": [
    {
     "name": "stdout",
     "output_type": "stream",
     "text": [
      "0.2160517717605075 mi\n"
     ]
    }
   ],
   "source": [
    "do_distance = get_distance(ride_one['dropoff_latitude'][0], ride_one['dropoff_longitude'][0],\n",
    "                           ride_two['dropoff_latitude'][0], ride_two['dropoff_longitude'][0])\n",
    "print(do_distance, \"mi\")"
   ]
  },
  {
   "cell_type": "markdown",
   "metadata": {},
   "source": [
    "#### 3a. get time it will take to travel distance between PU points"
   ]
  },
  {
   "cell_type": "code",
   "execution_count": 55,
   "metadata": {},
   "outputs": [
    {
     "name": "stdout",
     "output_type": "stream",
     "text": [
      "4.131350077870277 minutes\n"
     ]
    }
   ],
   "source": [
    "pu_travel_time = (pu_distance/speed) * 60 # in hours, change to minute by multiplying 60\n",
    "print(pu_travel_time, \"minutes\")"
   ]
  },
  {
   "cell_type": "markdown",
   "metadata": {},
   "source": [
    "#### 3b. get time it will take to travel distance between DO points"
   ]
  },
  {
   "cell_type": "code",
   "execution_count": 56,
   "metadata": {},
   "outputs": [
    {
     "name": "stdout",
     "output_type": "stream",
     "text": [
      "1.28379294609789 minutes\n"
     ]
    }
   ],
   "source": [
    "do_travel_time = (do_distance/speed) * 60 # in hours, change to minute by multiplying 60\n",
    "print(do_travel_time, \"minutes\")"
   ]
  },
  {
   "cell_type": "markdown",
   "metadata": {},
   "source": [
    "#### 4a. compare PU times to delay + time from 3a to see if trip is likely valid"
   ]
  },
  {
   "cell_type": "code",
   "execution_count": 57,
   "metadata": {},
   "outputs": [],
   "source": [
    "from datetime import datetime as dt\n",
    "import pandas as pandas"
   ]
  },
  {
   "cell_type": "code",
   "execution_count": 58,
   "metadata": {},
   "outputs": [
    {
     "name": "stdout",
     "output_type": "stream",
     "text": [
      "Ride 1 id:  38\n",
      "Ride 2 id:  86\n",
      "\n",
      "Trip combinable for pickup segment with distance 0.6952721673692104\n",
      "Combinable sequence is:  (38, 86)\n"
     ]
    }
   ],
   "source": [
    "# get pickup times for both rides\n",
    "\n",
    "ride_one_pu_time = (pandas.to_datetime(ride_one['pickup_datetime'][0]).second +\n",
    "                    pandas.to_datetime(ride_one['pickup_datetime'][0]).minute*60 +\n",
    "                    pandas.to_datetime(ride_one['pickup_datetime'][0]).hour*60*60)\n",
    "\n",
    "ride_two_pu_time = (pandas.to_datetime(ride_two['pickup_datetime'][0]).second +\n",
    "                    pandas.to_datetime(ride_two['pickup_datetime'][0]).minute*60 +\n",
    "                    pandas.to_datetime(ride_two['pickup_datetime'][0]).hour*60*60)\n",
    "\n",
    "distance = -1\n",
    "trip_sequence = []\n",
    "# combo: o1 -> o2\n",
    "# have to make it by 5 minutes before pickup 2\n",
    "if (ride_one_pu_time + pu_travel_time) < (ride_two_pu_time - delay): \n",
    "    distance = pu_distance\n",
    "    combo = (ride_one['ride_id'][0], ride_two['ride_id'][0])\n",
    "# combo: o2 -> o1\n",
    "# have to make it by 5 minutes before pickup 1\n",
    "if (ride_two_pu_time + pu_travel_time) < (ride_one_pu_time - delay): \n",
    "    distance = pu_distance\n",
    "    combo = (ride_two['ride_id'][0], ride_one['ride_id'][0])\n",
    "    \n",
    "if distance == -1:\n",
    "    print(\"FAIL\")\n",
    "else:\n",
    "    print(\"Ride 1 id: \", ride_one['ride_id'][0])\n",
    "    print(\"Ride 2 id: \", ride_two['ride_id'][0])\n",
    "    print()\n",
    "    print(\"Trip combinable for pickup segment with distance\", distance)\n",
    "    print(\"Combinable sequence is: \", combo)"
   ]
  },
  {
   "cell_type": "markdown",
   "metadata": {},
   "source": [
    "#### 4b.  compare DO times to delay + time from 3b to see if trip is likely valid"
   ]
  },
  {
   "cell_type": "code",
   "execution_count": 59,
   "metadata": {},
   "outputs": [
    {
     "name": "stdout",
     "output_type": "stream",
     "text": [
      "274.0 seconds\n"
     ]
    }
   ],
   "source": [
    "do_time_difference = time_difference(ride_one['dropoff_datetime'][0], ride_two['dropoff_datetime'][0])\n",
    "print(do_time_difference, \"seconds\")"
   ]
  },
  {
   "cell_type": "code",
   "execution_count": 60,
   "metadata": {},
   "outputs": [
    {
     "name": "stdout",
     "output_type": "stream",
     "text": [
      "Ride 1 id:  38\n",
      "Ride 2 id:  86\n",
      "\n",
      "Trip combinable for pickup segment with distance 0.2160517717605075\n",
      "Combinable sequence is:  (38, 86)\n"
     ]
    }
   ],
   "source": [
    "# get dropoff times for both rides\n",
    "\n",
    "ride_one_do_time = (pandas.to_datetime(ride_one['dropoff_datetime'][0]).second +\n",
    "                    pandas.to_datetime(ride_one['dropoff_datetime'][0]).minute*60 +\n",
    "                    pandas.to_datetime(ride_one['dropoff_datetime'][0]).hour*60*60)\n",
    "\n",
    "ride_two_do_time = (pandas.to_datetime(ride_two['dropoff_datetime'][0]).second +\n",
    "                    pandas.to_datetime(ride_two['dropoff_datetime'][0]).minute*60 +\n",
    "                    pandas.to_datetime(ride_two['dropoff_datetime'][0]).hour*60*60)\n",
    "\n",
    "distance = -1\n",
    "trip_sequence = []\n",
    "# combo: d1 -> d2\n",
    "# have to make it by 5 minutes before pickup 2\n",
    "if (ride_one_do_time + do_travel_time) < (ride_two_do_time + delay): \n",
    "    distance = do_distance\n",
    "    combo = (ride_one['ride_id'][0], ride_two['ride_id'][0])\n",
    "\n",
    "# combo: d2 -> d1\n",
    "# have to make it by 5 minutes before pickup 1\n",
    "if (ride_two_do_time + do_travel_time) < (ride_one_do_time + delay): \n",
    "    distance = do_distance\n",
    "    combo = (ride_two['ride_id'][0], ride_one['ride_id'][0])\n",
    "    \n",
    "if distance == -1:\n",
    "    print(\"FAIL\")\n",
    "else:\n",
    "    print(\"Ride 1 id: \", ride_one['ride_id'][0])\n",
    "    print(\"Ride 2 id: \", ride_two['ride_id'][0])\n",
    "    print()\n",
    "    print(\"Trip combinable for pickup segment with distance\", distance)\n",
    "    print(\"Combinable sequence is: \", combo)"
   ]
  },
  {
   "cell_type": "markdown",
   "metadata": {},
   "source": [
    "##### Analyzing results"
   ]
  },
  {
   "cell_type": "markdown",
   "metadata": {},
   "source": [
    "For combining trip in the pickup segment the order of trips (ride_one id, ride_two id) = (38, 86) also can be said to be (o1, o2) is a valid order for delay given \n",
    "\n",
    "For combining tip in the dropoff segment the order of trips (ride_one id, ride_two id) = (38, 86) also can be said to be (d1, d2) is a valid order for delay given \n",
    "\n",
    "##### Hypothesis:\n",
    "If the pickup segment and dropoff segment of ridesharing is valid then the center part of the trip that varies in distance should be valid\n",
    "\n",
    "If a valid solution is found then there is an optimal combination for the rideshare."
   ]
  },
  {
   "cell_type": "markdown",
   "metadata": {},
   "source": [
    "#### 5.  Checking if sequence will result in saved distance for combining ride"
   ]
  },
  {
   "cell_type": "code",
   "execution_count": 61,
   "metadata": {},
   "outputs": [
    {
     "name": "stdout",
     "output_type": "stream",
     "text": [
      "Distance between o2, d1:  0.9805547868624445 mi\n",
      "Rideshare total trip distance:  1.8918787259921623 mi\n"
     ]
    }
   ],
   "source": [
    "# Sequence is o1, o2, d1, d2\n",
    "\n",
    "# get distance between o2, d1\n",
    "distance = get_distance(ride_two['pickup_latitude'][0], ride_two['pickup_longitude'][0],\n",
    "                        ride_one['dropoff_latitude'][0], ride_one['dropoff_longitude'][0])\n",
    "print(\"Distance between o2, d1: \", distance, \"mi\")\n",
    "\n",
    "# get the time it will take to travel in the center part of the trip from o2 to d1\n",
    "center_travel_time = distance/speed\n",
    "\n",
    "# check if will make it within delay\n",
    "if (ride_two_pu_time + center_travel_time) < (ride_one_do_time + delay):\n",
    "    rideshare_distance = pu_distance + distance + do_distance\n",
    "\n",
    "    print(\"Rideshare total trip distance: \", rideshare_distance, \"mi\")\n"
   ]
  },
  {
   "cell_type": "markdown",
   "metadata": {},
   "source": [
    "#### 6.  Seeing if there was a saving in distance"
   ]
  },
  {
   "cell_type": "code",
   "execution_count": 62,
   "metadata": {},
   "outputs": [
    {
     "name": "stdout",
     "output_type": "stream",
     "text": [
      "Original total distance of the individual trips:  2.35 mi\n"
     ]
    }
   ],
   "source": [
    "original_distance = ride_one['trip_distance'][0] + ride_two['trip_distance'][0]\n",
    "print(\"Original total distance of the individual trips: \", original_distance, \"mi\")"
   ]
  },
  {
   "cell_type": "markdown",
   "metadata": {},
   "source": [
    "##### Results:\n",
    "The combined rideshare trip was about 1.89 mi\n",
    "\n",
    "The total of the individual rides is 2.35 mi\n"
   ]
  },
  {
   "cell_type": "markdown",
   "metadata": {},
   "source": [
    "#### 7.  Getting distance savings"
   ]
  },
  {
   "cell_type": "code",
   "execution_count": 63,
   "metadata": {},
   "outputs": [
    {
     "name": "stdout",
     "output_type": "stream",
     "text": [
      "The distance saved by combining ride 1 with id 38 and combining ride 2 with id 86 is 0.45812127400783775 mi \n",
      "within a delay of 5 minutes and a total of 3 passengers\n"
     ]
    }
   ],
   "source": [
    "distance_savings = original_distance - rideshare_distance\n",
    "passenger_count = ride_one['passenger_count'][0] + ride_two['passenger_count'][0]\n",
    "\n",
    "print(\"The distance saved by combining ride 1 with id\", ride_one['ride_id'][0], \n",
    "      \"and combining ride 2 with id\", ride_two['ride_id'][0], \"is\", \n",
    "      distance_savings, \"mi\", \"\\nwithin a delay of\", delay, \"minutes and a total of\",\n",
    "      passenger_count, \"passengers\"\n",
    "     )"
   ]
  },
  {
   "cell_type": "markdown",
   "metadata": {},
   "source": [
    "#### 8.  Storing the ride combos and information such as distance, savings, and passenger count in a dictionary"
   ]
  },
  {
   "cell_type": "code",
   "execution_count": 68,
   "metadata": {},
   "outputs": [
    {
     "name": "stdout",
     "output_type": "stream",
     "text": [
      "{38: [86, 1.8918787259921623, 0.45812127400783775, 19.49452229820586, 3], 86: [38, 1.8918787259921623, 0.45812127400783775, 19.49452229820586, 3]}\n"
     ]
    }
   ],
   "source": [
    "# Combined rides list is \"ride one id, ride two id, distance of combined trip, saved milage, percent milage saved, passenger count for combined trip\"\n",
    "combined_rides_dict = {}\n",
    "\n",
    "combined_rides_dict[ride_one['ride_id'][0]] = [ride_two['ride_id'][0], rideshare_distance, distance_savings, distance_savings/original_distance*100, passenger_count]\n",
    "combined_rides_dict[ride_two['ride_id'][0]] = [ride_one['ride_id'][0], rideshare_distance, distance_savings, distance_savings/original_distance*100, passenger_count]\n",
    "\n",
    "print(combined_rides_dict)"
   ]
  },
  {
   "cell_type": "markdown",
   "metadata": {},
   "source": [
    "##### Function to check if ride has already been combined"
   ]
  },
  {
   "cell_type": "code",
   "execution_count": 65,
   "metadata": {},
   "outputs": [],
   "source": [
    "def check_if_combined(ride_id):\n",
    "    return(ride_id in combined_rides_dict)"
   ]
  },
  {
   "cell_type": "code",
   "execution_count": 66,
   "metadata": {},
   "outputs": [
    {
     "name": "stdout",
     "output_type": "stream",
     "text": [
      "True\n"
     ]
    }
   ],
   "source": [
    "# Ride id 38 already combined with a trip from before so function should return true\n",
    "print(check_if_combined(38))"
   ]
  },
  {
   "cell_type": "code",
   "execution_count": 67,
   "metadata": {},
   "outputs": [
    {
     "name": "stdout",
     "output_type": "stream",
     "text": [
      "False\n"
     ]
    }
   ],
   "source": [
    "# Ride id 3 has not been combined with a trip so function should return false\n",
    "print(check_if_combined(3))"
   ]
  },
  {
   "cell_type": "code",
   "execution_count": null,
   "metadata": {},
   "outputs": [],
   "source": []
  }
 ],
 "metadata": {
  "kernelspec": {
   "display_name": "Python 3",
   "language": "python",
   "name": "python3"
  },
  "language_info": {
   "codemirror_mode": {
    "name": "ipython",
    "version": 3
   },
   "file_extension": ".py",
   "mimetype": "text/x-python",
   "name": "python",
   "nbconvert_exporter": "python",
   "pygments_lexer": "ipython3",
   "version": "3.8.5"
  }
 },
 "nbformat": 4,
 "nbformat_minor": 4
}
