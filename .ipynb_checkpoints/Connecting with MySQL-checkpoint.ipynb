{
 "cells": [
  {
   "cell_type": "markdown",
   "metadata": {},
   "source": [
    "# Connecting MySQL Database to Jupyter Notebooks\n",
    "\n",
    "### Step 1. Download mysql-connector-python \n",
    "You can do this through commands such as: pip install mysql-connector-python \n",
    "\n",
    "### Step 2. Connect to your database\n",
    "Add your password and uncomment out the others"
   ]
  },
  {
   "cell_type": "code",
   "execution_count": 1,
   "metadata": {},
   "outputs": [],
   "source": [
    "import pandas as pd\n",
    "import mysql.connector\n",
    "\n",
    "db = mysql.connector.connect(\n",
    "    user=\"root\",\n",
    "    #password=\"{Password}\", #angy, comment/un-comment for yours\n",
    "    password = \"6041\",\n",
    "    host=\"localhost\",\n",
    "    port = 3306,\n",
    "    database = 'rideshare'\n",
    ")"
   ]
  },
  {
   "cell_type": "markdown",
   "metadata": {},
   "source": [
    "#### Checking connection"
   ]
  },
  {
   "cell_type": "code",
   "execution_count": 2,
   "metadata": {
    "scrolled": true
   },
   "outputs": [
    {
     "name": "stdout",
     "output_type": "stream",
     "text": [
      "<mysql.connector.connection.MySQLConnection object at 0x000001F364BB6490>\n"
     ]
    }
   ],
   "source": [
    "print(db)\n"
   ]
  },
  {
   "cell_type": "markdown",
   "metadata": {},
   "source": [
    "#### Setting cursor that will allow us to execute commands like in MySQL queries"
   ]
  },
  {
   "cell_type": "code",
   "execution_count": 3,
   "metadata": {},
   "outputs": [],
   "source": [
    "cursor = db.cursor() "
   ]
  },
  {
   "cell_type": "markdown",
   "metadata": {},
   "source": [
    "### Step 3. Import Tables "
   ]
  },
  {
   "cell_type": "markdown",
   "metadata": {},
   "source": [
    "#### Listing all tables in current database = rideshare"
   ]
  },
  {
   "cell_type": "code",
   "execution_count": 4,
   "metadata": {},
   "outputs": [
    {
     "name": "stdout",
     "output_type": "stream",
     "text": [
      "april_green\n",
      "february_green\n",
      "jan_green_one_rider\n",
      "jan_green_two_rider\n",
      "january_green\n",
      "june_green\n",
      "march_green\n",
      "may_green\n"
     ]
    }
   ],
   "source": [
    "cursor.execute(\"SHOW TABLES\")\n",
    "for table in [tables[0] for tables in cursor.fetchall()]:\n",
    "    print(table)"
   ]
  },
  {
   "cell_type": "markdown",
   "metadata": {},
   "source": [
    "#### Selecting the january green taxi data that was split with passenger count = 1"
   ]
  },
  {
   "cell_type": "code",
   "execution_count": null,
   "metadata": {},
   "outputs": [],
   "source": [
    "jan_green_one_rider = pd.read_sql(\"select * from jan_green_one_rider\", db);"
   ]
  },
  {
   "cell_type": "code",
   "execution_count": null,
   "metadata": {
    "scrolled": true
   },
   "outputs": [],
   "source": [
    "jan_green_one_rider.head()"
   ]
  },
  {
   "cell_type": "code",
   "execution_count": null,
   "metadata": {
    "scrolled": true
   },
   "outputs": [],
   "source": [
    "jan_green_one_rider.describe()"
   ]
  },
  {
   "cell_type": "code",
   "execution_count": null,
   "metadata": {},
   "outputs": [],
   "source": [
    "jan_green_one_rider.dtypes"
   ]
  },
  {
   "cell_type": "markdown",
   "metadata": {},
   "source": [
    "##### Total distance"
   ]
  },
  {
   "cell_type": "code",
   "execution_count": null,
   "metadata": {
    "scrolled": true
   },
   "outputs": [],
   "source": [
    "print(round(jan_green_one_rider['trip_distance'].sum()), \"total miles for ONE RIDER green taxi data in january 2014 from NYC\")"
   ]
  },
  {
   "cell_type": "markdown",
   "metadata": {},
   "source": [
    "#### Selecting the january green taxi data that was split with passenger count = 2"
   ]
  },
  {
   "cell_type": "code",
   "execution_count": null,
   "metadata": {},
   "outputs": [],
   "source": [
    "jan_green_two_rider = pd.read_sql(\"select * from jan_green_two_rider\", db);"
   ]
  },
  {
   "cell_type": "code",
   "execution_count": null,
   "metadata": {},
   "outputs": [],
   "source": [
    "jan_green_two_rider.head()"
   ]
  },
  {
   "cell_type": "code",
   "execution_count": null,
   "metadata": {},
   "outputs": [],
   "source": [
    "jan_green_two_rider.describe()"
   ]
  },
  {
   "cell_type": "code",
   "execution_count": null,
   "metadata": {},
   "outputs": [],
   "source": [
    "jan_green_two_rider.dtypes"
   ]
  },
  {
   "cell_type": "markdown",
   "metadata": {},
   "source": [
    "##### Total distance"
   ]
  },
  {
   "cell_type": "code",
   "execution_count": null,
   "metadata": {},
   "outputs": [],
   "source": [
    "print(round(jan_green_two_rider['trip_distance'].sum()), \"total miles for TWO RIDER green taxi data in january 2014 from NYC\")"
   ]
  },
  {
   "cell_type": "markdown",
   "metadata": {},
   "source": [
    "### Algorithm?"
   ]
  },
  {
   "cell_type": "markdown",
   "metadata": {},
   "source": [
    "#### Function to get distance between coordinates"
   ]
  },
  {
   "cell_type": "code",
   "execution_count": null,
   "metadata": {},
   "outputs": [],
   "source": [
    "import geopy.distance\n",
    "\n",
    "def get_distance(lat_origin, lon_origin, lat_end, lon_end):\n",
    "    coords_1 = (lat_origin, lon_origin)\n",
    "    coords_2 = (lat_end, lon_end)\n",
    "    \n",
    "    distance = geopy.distance.distance(coords_1, coords_2).mi\n",
    "    #print(\"Distance: \", distance, \" mi\")\n",
    "    return distance\n",
    "\n",
    "get_distance(52.2296756, 21.0122287,52.406374, 16.9251681)"
   ]
  },
  {
   "cell_type": "code",
   "execution_count": null,
   "metadata": {},
   "outputs": [],
   "source": [
    "def time_difference(time_1, time_2):\n",
    "    elapsedTime = time_2 - time_1\n",
    "    #print(\"Elapsed time: \", elapsedTime)\n",
    "    #print(\"Total seconds: \", elapsedTime.total_seconds())\n",
    "    \n",
    "    return (elapsedTime.total_seconds())\n",
    "\n",
    "time_difference(jan_green_two_rider['pickup_datetime'][0], jan_green_two_rider['dropoff_datetime'][0])\n",
    "    \n",
    "    "
   ]
  },
  {
   "cell_type": "code",
   "execution_count": null,
   "metadata": {},
   "outputs": [],
   "source": [
    "def add_speed_to_trip(trip):\n",
    "    time_1 = trip['pickup_datetime']\n",
    "    time_2 = trip['dropoff_datetime']\n",
    "\n",
    "    distance = trip['trip_distance']\n",
    "    time = time_difference(time_1, time_2)/3600\n",
    "    speed = distance/time\n",
    "    \n",
    "    #print(\"Speed: \", speed, \"mi/hr\")\n",
    "    return speed"
   ]
  },
  {
   "cell_type": "code",
   "execution_count": null,
   "metadata": {
    "scrolled": true
   },
   "outputs": [],
   "source": [
    "jan_green_two_rider['speed'] = jan_green_two_rider.apply(add_speed_to_trip, axis = 1)"
   ]
  },
  {
   "cell_type": "code",
   "execution_count": null,
   "metadata": {},
   "outputs": [],
   "source": [
    "jan_green_two_rider.head()"
   ]
  },
  {
   "cell_type": "code",
   "execution_count": null,
   "metadata": {},
   "outputs": [],
   "source": [
    "jan_green_one_rider['speed'] = jan_green_one_rider.apply(add_speed_to_trip, axis = 1)"
   ]
  },
  {
   "cell_type": "code",
   "execution_count": null,
   "metadata": {},
   "outputs": [],
   "source": [
    "jan_green_one_rider.head()"
   ]
  },
  {
   "cell_type": "code",
   "execution_count": null,
   "metadata": {},
   "outputs": [],
   "source": [
    "list_tuples = [(23,12), (1,3)]\n",
    "\n",
    "def add_tuple(trip_combo):\n",
    "    \n",
    "    x, y = trip_combo\n",
    "    print(x)\n",
    "    print(y)\n",
    "    print(list_tuples)\n",
    "    \n",
    "    for pair in list_tuples:\n",
    "        print(pair)\n",
    "        if x in pair:\n",
    "            return True\n",
    "        if y in pair:\n",
    "            return True\n",
    "    \n",
    "    return False\n",
    "\n",
    "\n",
    "print(add_tuple((14,23)))"
   ]
  },
  {
   "cell_type": "code",
   "execution_count": 1,
   "metadata": {},
   "outputs": [],
   "source": [
    "def calcSequence(p1_lat, p1_long, p2_lat, p2_long, p3_lat, p3_long, p4_lat, p4_long, speed, trip1_pu_time, trip2_pu_time, \n",
    "trip1_do_time, trip2_do_time, delay):\n",
    "\n",
    "    ## p1 - p2 - p3 - p4 / point1 - point2 - point3 - point4\n",
    "    #within 5 minutes before -2 pickup, and withing 5minutes of after p3 and p4 dropoff\n",
    "\n",
    "    #Keeps track of the total distance everytime distance is added\n",
    "    totalDistance = 0\n",
    "\n",
    "    # distance between o1 and o2  \n",
    "    distance = get_distance(p1_lat,p1_long,p2_lat,p2_long)            \n",
    "    # time it will take to go from o1 to o2\n",
    "    time = speed/distance            \n",
    "    # time is in hours so convert to minutes to seconds\n",
    "    time_seconds = time * 60 * 60                       \n",
    "    # delay in seconds\n",
    "    delay_seconds = delay * 60            \n",
    "    # trip 2 pickupd time range edge\n",
    "\n",
    "    # [trip2_pickup_edge, trip2_pickup]  \n",
    "    # [12:55 pm, 1:00 pm]\n",
    "    # trip1_pickup + time seconds = some time that needs to fall in this range            \n",
    "    if (trip1_pu_time + time_seconds >= (trip2_pu_time - delay_seconds)) or (trip1_pu_time + time_seconds <= trip2_pu_time):\n",
    "        # Get the trip1 drop off edge\n",
    "        # p2 - p3\n",
    "        totalDistance += distance\n",
    "        distance = get_distance(p2_lat,p2_long,p3_lat,p3_long)\n",
    "\n",
    "        # time it will take to go from o1 to o2\n",
    "        time = speed/distance            \n",
    "        # time is in hours so convert to minutes to seconds\n",
    "        time_seconds = time * 60 * 60  \n",
    "        if (trip2_pickup + time_seconds >= (trip1_do_time)) or (trip2_pu_time + time_seconds <= trip1_do_time + delay_seconds):\n",
    "            totalDistance += distance\n",
    "            distance = get_distance(p3_lat,p3_long,p4_lat,p4_long)   \n",
    "            # time it will take to go from o1 to o2\n",
    "            time = speed/distance            \n",
    "            # time is in hours so convert to minutes to seconds\n",
    "            time_seconds = time * 60 * 60  \n",
    "            if (trip1_do_time + time_seconds >= (trip2_do_time)) or (trip1_do_time + time_seconds <= trip2_do_time  + delay_seconds):\n",
    "                totalDistance += distance\n",
    "                return totalDistance\n",
    "    return -1\n",
    "\n",
    "# get time range permissible for each origin and dropoff\n",
    "# start at o1 check if taxi can make it to o2 within delay\n",
    "\n",
    "# i.e. if 5 minute delay then make it within 5 min before o2\n",
    "# then have to make it within 5 min after d1 and d2 drop off\n",
    "\n",
    "# calculate savings if trip is permissible\n",
    "# savings = [distance(trip1) + distance(trip2)] - distance(combined trip1 & trip2)\n",
    "\n",
    "def prototype_algorithm(single_trips, double_trips, delay):\n",
    "    # columns- 'ride_id', 'pickup_datetime', 'dropoff_datetime', 'pickup_longitude',\n",
    "    #          'pickup_latitude', 'dropoff_longitude', 'dropoff_latitude',\n",
    "    #          'passenger_count', 'trip_distance', 'speed'\n",
    "    combined_trips = {}\n",
    "\n",
    "    for trip1 in single_trips:   \n",
    "        \n",
    "        for trip2 in double_trips:\n",
    "            # average speed of two trips\n",
    "            speed3 = (trip1['speed'] + trip2['speed'])/2\n",
    "\n",
    "            o1_lon = trip1['pickup_longitude']\n",
    "            o1_lat = trip1['pickup_latitude']\n",
    "            o2_lon = trip2['pickup_longitude']\n",
    "            o2_lat = trip2['pickup_latitude']\n",
    "\n",
    "            d1_lon = trip1['pickup_longitude']\n",
    "            d1_lat = trip1['pickup_latitude']\n",
    "            d2_lon = trip2['pickup_longitude']\n",
    "            d2_lat = trip2['pickup_latitude']\n",
    "\n",
    "\n",
    "            pu1 = trip1['pickup_datetime'].total_seconds()  \n",
    "            pu2 = trip2['pickup_datetime'].total_seconds() \n",
    "\n",
    "\n",
    "            do1 = trip1['dropoff_datetime'].total_seconds()\n",
    "            do2 = trip2['dropoff_datetime'].total_seconds() \n",
    "\n",
    "\n",
    "            # o1 - o2 - d1 - d2\n",
    "            seq1 = calcSequence(o1_lat, o1_long, o2_lat, o2_long, d1_lat, d1_long, d2_lat, d2_long, speed3, pu1, pu2, du1, du2, delay)\n",
    "\n",
    "            # o1 - o2 - d2 - d1\n",
    "            seq2 = calcSequence(o1_lat, o1_long, o2_lat, o2_long, d2_lat, d2_long, d1_lat, d1_long, speed3, pu1, pu2, du1, du2, delay)\n",
    "\n",
    "            # o2 - o1 - d2 - d1\n",
    "            seq3 = calcSequence( o2_lat, o2_long, o1_lat, o1_long, d2_lat, d2_long, d1_lat, d1_long, speed3, pu1, pu2, du1, du2, delay)\n",
    "\n",
    "            # o2 - o1 - d1 - d2\n",
    "            seq4 = calcSequence( o2_lat, o2_long, o1_lat, o1_long, d1_lat, d1_long, d2_lat, d2_long, speed3, pu1, pu2, du1, du2, delay)\n",
    "\n",
    "            totalDistance = trip1['trip_distance'] + trip2['trip_distance']\n",
    "\n",
    "            if seq1 < seq2 and seq1 < seq3 and seq1 < seq4 and seq1 != -1:\n",
    "                combined_trips[(trip1['ride_id'], trip2['ride_id'])] = totalDistance - seq1\n",
    "            elif seq2 < seq1 and seq2 < seq3 and seq2 < seq4 and seq2 != -1:\n",
    "                combined_trips[(trip1['ride_id'], trip2['ride_id'])] = totalDistance - seq2   \n",
    "            elif seq3 < seq1 and seq3 < seq4 and seq3 < seq2 and seq3 != -1:\n",
    "                combined_trips[(trip1['ride_id'], trip2['ride_id'])] = totalDistance - seq3 \n",
    "            elif seq4 < seq1 and seq4 < seq2 and seq4 < seq3 and seq4 != -1:\n",
    "                combined_trips[(trip1['ride_id'], trip2['ride_id'])] = totalDistance - seq4     \n",
    "\n",
    "    return combined_trips\n"
   ]
  },
  {
   "cell_type": "code",
   "execution_count": null,
   "metadata": {},
   "outputs": [],
   "source": []
  }
 ],
 "metadata": {
  "kernelspec": {
   "display_name": "Python 3",
   "language": "python",
   "name": "python3"
  },
  "language_info": {
   "codemirror_mode": {
    "name": "ipython",
    "version": 3
   },
   "file_extension": ".py",
   "mimetype": "text/x-python",
   "name": "python",
   "nbconvert_exporter": "python",
   "pygments_lexer": "ipython3",
   "version": "3.8.5"
  }
 },
 "nbformat": 4,
 "nbformat_minor": 4
}
