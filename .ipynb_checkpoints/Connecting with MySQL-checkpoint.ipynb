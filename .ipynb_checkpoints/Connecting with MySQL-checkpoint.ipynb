{
 "cells": [
  {
   "cell_type": "markdown",
   "metadata": {},
   "source": [
    "# Connecting MySQL Database to Jupyter Notebooks\n",
    "\n",
    "### Step 1. Download mysql-connector-python \n",
    "You can do this through commands such as: pip install mysql-connector-python \n",
    "\n",
    "### Step 2. Connect to your database\n",
    "Add your password and uncomment out the others"
   ]
  },
  {
   "cell_type": "code",
   "execution_count": 1,
   "metadata": {},
   "outputs": [
    {
     "ename": "ProgrammingError",
     "evalue": "1045 (28000): Access denied for user 'root'@'localhost' (using password: YES)",
     "output_type": "error",
     "traceback": [
      "\u001b[1;31m---------------------------------------------------------------------------\u001b[0m",
      "\u001b[1;31mMySQLInterfaceError\u001b[0m                       Traceback (most recent call last)",
      "\u001b[1;32m~\\anaconda3\\lib\\site-packages\\mysql\\connector\\connection_cext.py\u001b[0m in \u001b[0;36m_open_connection\u001b[1;34m(self)\u001b[0m\n\u001b[0;32m    232\u001b[0m         \u001b[1;32mtry\u001b[0m\u001b[1;33m:\u001b[0m\u001b[1;33m\u001b[0m\u001b[1;33m\u001b[0m\u001b[0m\n\u001b[1;32m--> 233\u001b[1;33m             \u001b[0mself\u001b[0m\u001b[1;33m.\u001b[0m\u001b[0m_cmysql\u001b[0m\u001b[1;33m.\u001b[0m\u001b[0mconnect\u001b[0m\u001b[1;33m(\u001b[0m\u001b[1;33m**\u001b[0m\u001b[0mcnx_kwargs\u001b[0m\u001b[1;33m)\u001b[0m\u001b[1;33m\u001b[0m\u001b[1;33m\u001b[0m\u001b[0m\n\u001b[0m\u001b[0;32m    234\u001b[0m         \u001b[1;32mexcept\u001b[0m \u001b[0mMySQLInterfaceError\u001b[0m \u001b[1;32mas\u001b[0m \u001b[0mexc\u001b[0m\u001b[1;33m:\u001b[0m\u001b[1;33m\u001b[0m\u001b[1;33m\u001b[0m\u001b[0m\n",
      "\u001b[1;31mMySQLInterfaceError\u001b[0m: Access denied for user 'root'@'localhost' (using password: YES)",
      "\nDuring handling of the above exception, another exception occurred:\n",
      "\u001b[1;31mProgrammingError\u001b[0m                          Traceback (most recent call last)",
      "\u001b[1;32m<ipython-input-1-cf3fab3b23a3>\u001b[0m in \u001b[0;36m<module>\u001b[1;34m\u001b[0m\n\u001b[0;32m      2\u001b[0m \u001b[1;32mimport\u001b[0m \u001b[0mmysql\u001b[0m\u001b[1;33m.\u001b[0m\u001b[0mconnector\u001b[0m\u001b[1;33m\u001b[0m\u001b[1;33m\u001b[0m\u001b[0m\n\u001b[0;32m      3\u001b[0m \u001b[1;33m\u001b[0m\u001b[0m\n\u001b[1;32m----> 4\u001b[1;33m db = mysql.connector.connect(\n\u001b[0m\u001b[0;32m      5\u001b[0m     \u001b[0muser\u001b[0m\u001b[1;33m=\u001b[0m\u001b[1;34m\"root\"\u001b[0m\u001b[1;33m,\u001b[0m\u001b[1;33m\u001b[0m\u001b[1;33m\u001b[0m\u001b[0m\n\u001b[0;32m      6\u001b[0m     \u001b[1;31m#password=\"{Password}\", #angy, comment/un-comment for yours\u001b[0m\u001b[1;33m\u001b[0m\u001b[1;33m\u001b[0m\u001b[1;33m\u001b[0m\u001b[0m\n",
      "\u001b[1;32m~\\anaconda3\\lib\\site-packages\\mysql\\connector\\__init__.py\u001b[0m in \u001b[0;36mconnect\u001b[1;34m(*args, **kwargs)\u001b[0m\n\u001b[0;32m    268\u001b[0m \u001b[1;33m\u001b[0m\u001b[0m\n\u001b[0;32m    269\u001b[0m     \u001b[1;32mif\u001b[0m \u001b[0mHAVE_CEXT\u001b[0m \u001b[1;32mand\u001b[0m \u001b[1;32mnot\u001b[0m \u001b[0muse_pure\u001b[0m\u001b[1;33m:\u001b[0m\u001b[1;33m\u001b[0m\u001b[1;33m\u001b[0m\u001b[0m\n\u001b[1;32m--> 270\u001b[1;33m         \u001b[1;32mreturn\u001b[0m \u001b[0mCMySQLConnection\u001b[0m\u001b[1;33m(\u001b[0m\u001b[1;33m*\u001b[0m\u001b[0margs\u001b[0m\u001b[1;33m,\u001b[0m \u001b[1;33m**\u001b[0m\u001b[0mkwargs\u001b[0m\u001b[1;33m)\u001b[0m\u001b[1;33m\u001b[0m\u001b[1;33m\u001b[0m\u001b[0m\n\u001b[0m\u001b[0;32m    271\u001b[0m     \u001b[1;32mreturn\u001b[0m \u001b[0mMySQLConnection\u001b[0m\u001b[1;33m(\u001b[0m\u001b[1;33m*\u001b[0m\u001b[0margs\u001b[0m\u001b[1;33m,\u001b[0m \u001b[1;33m**\u001b[0m\u001b[0mkwargs\u001b[0m\u001b[1;33m)\u001b[0m\u001b[1;33m\u001b[0m\u001b[1;33m\u001b[0m\u001b[0m\n\u001b[0;32m    272\u001b[0m \u001b[0mConnect\u001b[0m \u001b[1;33m=\u001b[0m \u001b[0mconnect\u001b[0m  \u001b[1;31m# pylint: disable=C0103\u001b[0m\u001b[1;33m\u001b[0m\u001b[1;33m\u001b[0m\u001b[0m\n",
      "\u001b[1;32m~\\anaconda3\\lib\\site-packages\\mysql\\connector\\connection_cext.py\u001b[0m in \u001b[0;36m__init__\u001b[1;34m(self, **kwargs)\u001b[0m\n\u001b[0;32m     84\u001b[0m \u001b[1;33m\u001b[0m\u001b[0m\n\u001b[0;32m     85\u001b[0m         \u001b[1;32mif\u001b[0m \u001b[0mkwargs\u001b[0m\u001b[1;33m:\u001b[0m\u001b[1;33m\u001b[0m\u001b[1;33m\u001b[0m\u001b[0m\n\u001b[1;32m---> 86\u001b[1;33m             \u001b[0mself\u001b[0m\u001b[1;33m.\u001b[0m\u001b[0mconnect\u001b[0m\u001b[1;33m(\u001b[0m\u001b[1;33m**\u001b[0m\u001b[0mkwargs\u001b[0m\u001b[1;33m)\u001b[0m\u001b[1;33m\u001b[0m\u001b[1;33m\u001b[0m\u001b[0m\n\u001b[0m\u001b[0;32m     87\u001b[0m \u001b[1;33m\u001b[0m\u001b[0m\n\u001b[0;32m     88\u001b[0m     \u001b[1;32mdef\u001b[0m \u001b[0m_add_default_conn_attrs\u001b[0m\u001b[1;33m(\u001b[0m\u001b[0mself\u001b[0m\u001b[1;33m)\u001b[0m\u001b[1;33m:\u001b[0m\u001b[1;33m\u001b[0m\u001b[1;33m\u001b[0m\u001b[0m\n",
      "\u001b[1;32m~\\anaconda3\\lib\\site-packages\\mysql\\connector\\abstracts.py\u001b[0m in \u001b[0;36mconnect\u001b[1;34m(self, **kwargs)\u001b[0m\n\u001b[0;32m    983\u001b[0m \u001b[1;33m\u001b[0m\u001b[0m\n\u001b[0;32m    984\u001b[0m         \u001b[0mself\u001b[0m\u001b[1;33m.\u001b[0m\u001b[0mdisconnect\u001b[0m\u001b[1;33m(\u001b[0m\u001b[1;33m)\u001b[0m\u001b[1;33m\u001b[0m\u001b[1;33m\u001b[0m\u001b[0m\n\u001b[1;32m--> 985\u001b[1;33m         \u001b[0mself\u001b[0m\u001b[1;33m.\u001b[0m\u001b[0m_open_connection\u001b[0m\u001b[1;33m(\u001b[0m\u001b[1;33m)\u001b[0m\u001b[1;33m\u001b[0m\u001b[1;33m\u001b[0m\u001b[0m\n\u001b[0m\u001b[0;32m    986\u001b[0m         \u001b[1;31m# Server does not allow to run any other statement different from ALTER\u001b[0m\u001b[1;33m\u001b[0m\u001b[1;33m\u001b[0m\u001b[1;33m\u001b[0m\u001b[0m\n\u001b[0;32m    987\u001b[0m         \u001b[1;31m# when user's password has been expired.\u001b[0m\u001b[1;33m\u001b[0m\u001b[1;33m\u001b[0m\u001b[1;33m\u001b[0m\u001b[0m\n",
      "\u001b[1;32m~\\anaconda3\\lib\\site-packages\\mysql\\connector\\connection_cext.py\u001b[0m in \u001b[0;36m_open_connection\u001b[1;34m(self)\u001b[0m\n\u001b[0;32m    233\u001b[0m             \u001b[0mself\u001b[0m\u001b[1;33m.\u001b[0m\u001b[0m_cmysql\u001b[0m\u001b[1;33m.\u001b[0m\u001b[0mconnect\u001b[0m\u001b[1;33m(\u001b[0m\u001b[1;33m**\u001b[0m\u001b[0mcnx_kwargs\u001b[0m\u001b[1;33m)\u001b[0m\u001b[1;33m\u001b[0m\u001b[1;33m\u001b[0m\u001b[0m\n\u001b[0;32m    234\u001b[0m         \u001b[1;32mexcept\u001b[0m \u001b[0mMySQLInterfaceError\u001b[0m \u001b[1;32mas\u001b[0m \u001b[0mexc\u001b[0m\u001b[1;33m:\u001b[0m\u001b[1;33m\u001b[0m\u001b[1;33m\u001b[0m\u001b[0m\n\u001b[1;32m--> 235\u001b[1;33m             raise errors.get_mysql_exception(msg=exc.msg, errno=exc.errno,\n\u001b[0m\u001b[0;32m    236\u001b[0m                                              sqlstate=exc.sqlstate)\n\u001b[0;32m    237\u001b[0m \u001b[1;33m\u001b[0m\u001b[0m\n",
      "\u001b[1;31mProgrammingError\u001b[0m: 1045 (28000): Access denied for user 'root'@'localhost' (using password: YES)"
     ]
    }
   ],
   "source": [
    "import pandas as pd\n",
    "import mysql.connector\n",
    "\n",
    "db = mysql.connector.connect(\n",
    "    user=\"root\",\n",
    "    #password=\"{Password}\", #angy, comment/un-comment for yours\n",
    "    password = \"ilo5517WD\",\n",
    "    host=\"localhost\",\n",
    "    port = 3306,\n",
    "    database = 'rideshare'\n",
    ")"
   ]
  },
  {
   "cell_type": "markdown",
   "metadata": {},
   "source": [
    "#### Checking connection"
   ]
  },
  {
   "cell_type": "code",
   "execution_count": null,
   "metadata": {
    "scrolled": true
   },
   "outputs": [],
   "source": [
    "print(db)\n"
   ]
  },
  {
   "cell_type": "markdown",
   "metadata": {},
   "source": [
    "#### Setting cursor that will allow us to execute commands like in MySQL queries"
   ]
  },
  {
   "cell_type": "code",
   "execution_count": null,
   "metadata": {},
   "outputs": [],
   "source": [
    "cursor = db.cursor() "
   ]
  },
  {
   "cell_type": "markdown",
   "metadata": {},
   "source": [
    "### Step 3. Import Tables "
   ]
  },
  {
   "cell_type": "markdown",
   "metadata": {},
   "source": [
    "#### Listing all tables in current database = rideshare"
   ]
  },
  {
   "cell_type": "code",
   "execution_count": null,
   "metadata": {},
   "outputs": [],
   "source": [
    "cursor.execute(\"SHOW TABLES\")\n",
    "for table in [tables[0] for tables in cursor.fetchall()]:\n",
    "    print(table)"
   ]
  },
  {
   "cell_type": "markdown",
   "metadata": {},
   "source": [
    "#### Selecting the january green taxi data that was split with passenger count = 1"
   ]
  },
  {
   "cell_type": "code",
   "execution_count": null,
   "metadata": {},
   "outputs": [],
   "source": [
    "jan_green_one_rider = pd.read_sql(\"select * from jan_green_one_rider\", db);"
   ]
  },
  {
   "cell_type": "code",
   "execution_count": null,
   "metadata": {
    "scrolled": true
   },
   "outputs": [],
   "source": [
    "jan_green_one_rider.head()"
   ]
  },
  {
   "cell_type": "code",
   "execution_count": null,
   "metadata": {
    "scrolled": true
   },
   "outputs": [],
   "source": [
    "jan_green_one_rider.describe()"
   ]
  },
  {
   "cell_type": "code",
   "execution_count": null,
   "metadata": {},
   "outputs": [],
   "source": [
    "jan_green_one_rider.dtypes"
   ]
  },
  {
   "cell_type": "markdown",
   "metadata": {},
   "source": [
    "##### Total distance"
   ]
  },
  {
   "cell_type": "code",
   "execution_count": null,
   "metadata": {
    "scrolled": true
   },
   "outputs": [],
   "source": [
    "print(round(jan_green_one_rider['trip_distance'].sum()), \"total miles for ONE RIDER green taxi data in january 2014 from NYC\")"
   ]
  },
  {
   "cell_type": "markdown",
   "metadata": {},
   "source": [
    "#### Selecting the january green taxi data that was split with passenger count = 2"
   ]
  },
  {
   "cell_type": "code",
   "execution_count": null,
   "metadata": {},
   "outputs": [],
   "source": [
    "jan_green_two_rider = pd.read_sql(\"select * from jan_green_two_rider\", db);"
   ]
  },
  {
   "cell_type": "code",
   "execution_count": null,
   "metadata": {},
   "outputs": [],
   "source": [
    "jan_green_two_rider.head()"
   ]
  },
  {
   "cell_type": "code",
   "execution_count": null,
   "metadata": {},
   "outputs": [],
   "source": [
    "jan_green_two_rider.describe()"
   ]
  },
  {
   "cell_type": "code",
   "execution_count": null,
   "metadata": {},
   "outputs": [],
   "source": [
    "jan_green_two_rider.dtypes"
   ]
  },
  {
   "cell_type": "markdown",
   "metadata": {},
   "source": [
    "##### Total distance"
   ]
  },
  {
   "cell_type": "code",
   "execution_count": null,
   "metadata": {},
   "outputs": [],
   "source": [
    "print(round(jan_green_two_rider['trip_distance'].sum()), \"total miles for TWO RIDER green taxi data in january 2014 from NYC\")"
   ]
  },
  {
   "cell_type": "markdown",
   "metadata": {},
   "source": [
    "### Algorithm?"
   ]
  },
  {
   "cell_type": "markdown",
   "metadata": {},
   "source": [
    "#### Function to get distance between coordinates"
   ]
  },
  {
   "cell_type": "code",
   "execution_count": null,
   "metadata": {},
   "outputs": [],
   "source": [
    "import geopy.distance\n",
    "\n",
    "def get_distance(lat_origin, lon_origin, lat_end, lon_end):\n",
    "    coords_1 = (lat_origin, lon_origin)\n",
    "    coords_2 = (lat_end, lon_end)\n",
    "    \n",
    "    distance = geopy.distance.distance(coords_1, coords_2).mi\n",
    "    #print(\"Distance: \", distance, \" mi\")\n",
    "    return distance\n",
    "\n",
    "get_distance(52.2296756, 21.0122287,52.406374, 16.9251681)"
   ]
  },
  {
   "cell_type": "code",
   "execution_count": null,
   "metadata": {},
   "outputs": [],
   "source": [
    "def time_difference(time_1, time_2):\n",
    "    elapsedTime = time_2 - time_1\n",
    "    #print(\"Elapsed time: \", elapsedTime)\n",
    "    #print(\"Total seconds: \", elapsedTime.total_seconds())\n",
    "    \n",
    "    return (elapsedTime.total_seconds())\n",
    "\n",
    "time_difference(jan_green_two_rider['pickup_datetime'][0], jan_green_two_rider['dropoff_datetime'][0])\n",
    "    \n",
    "    "
   ]
  },
  {
   "cell_type": "code",
   "execution_count": null,
   "metadata": {},
   "outputs": [],
   "source": [
    "def add_speed_to_trip(trip):\n",
    "    time_1 = trip['pickup_datetime']\n",
    "    time_2 = trip['dropoff_datetime']\n",
    "\n",
    "    distance = trip['trip_distance']\n",
    "    time = time_difference(time_1, time_2)/3600\n",
    "    speed = distance/time\n",
    "    \n",
    "    #print(\"Speed: \", speed, \"mi/hr\")\n",
    "    return speed"
   ]
  },
  {
   "cell_type": "code",
   "execution_count": null,
   "metadata": {
    "scrolled": true
   },
   "outputs": [],
   "source": [
    "jan_green_two_rider['speed'] = jan_green_two_rider.apply(add_speed_to_trip, axis = 1)"
   ]
  },
  {
   "cell_type": "code",
   "execution_count": null,
   "metadata": {},
   "outputs": [],
   "source": [
    "jan_green_two_rider.head()"
   ]
  },
  {
   "cell_type": "code",
   "execution_count": null,
   "metadata": {},
   "outputs": [],
   "source": [
    "jan_green_one_rider['speed'] = jan_green_one_rider.apply(add_speed_to_trip, axis = 1)"
   ]
  },
  {
   "cell_type": "code",
   "execution_count": null,
   "metadata": {},
   "outputs": [],
   "source": [
    "jan_green_one_rider.head()"
   ]
  },
  {
   "cell_type": "code",
   "execution_count": null,
   "metadata": {},
   "outputs": [],
   "source": [
    "list_tuples = [(23,12), (1,3)]\n",
    "\n",
    "def add_tuple(trip_combo):\n",
    "    \n",
    "    x, y = trip_combo\n",
    "    print(x)\n",
    "    print(y)\n",
    "    print(list_tuples)\n",
    "    \n",
    "    for pair in list_tuples:\n",
    "        print(pair)\n",
    "        if x in pair:\n",
    "            return True\n",
    "        if y in pair:\n",
    "            return True\n",
    "    \n",
    "    return False\n",
    "\n",
    "\n",
    "print(add_tuple((14,23)))"
   ]
  },
  {
   "cell_type": "code",
   "execution_count": null,
   "metadata": {},
   "outputs": [],
   "source": [
    "def calcSequence(p1_lat, p1_long, p2_lat, p2_long, p3_lat, p3_long, p4_lat, p4_long, speed, trip1_pu_time, trip2_pu_time, \n",
    "trip1_do_time, trip2_do_time, delay):\n",
    "\n",
    "    ## p1 - p2 - p3 - p4 / point1 - point2 - point3 - point4\n",
    "    #within 5 minutes before -2 pickup, and withing 5minutes of after p3 and p4 dropoff\n",
    "\n",
    "    #Keeps track of the total distance everytime distance is added\n",
    "    totalDistance = 0\n",
    "\n",
    "    # distance between o1 and o2  \n",
    "    distance = get_distance(p1_lat,p1_long,p2_lat,p2_long)            \n",
    "    # time it will take to go from o1 to o2\n",
    "    time = speed/distance            \n",
    "    # time is in hours so convert to minutes to seconds\n",
    "    time_seconds = time * 60 * 60                       \n",
    "    # delay in seconds\n",
    "    delay_seconds = delay * 60            \n",
    "    # trip 2 pickupd time range edge\n",
    "\n",
    "    # [trip2_pickup_edge, trip2_pickup]  \n",
    "    # [12:55 pm, 1:00 pm]\n",
    "    # trip1_pickup + time seconds = some time that needs to fall in this range            \n",
    "    if (trip1_pu_time + time_seconds >= (trip2_pu_time - delay_seconds)) or (trip1_pu_time + time_seconds <= trip2_pu_time):\n",
    "        # Get the trip1 drop off edge\n",
    "        # p2 - p3\n",
    "        totalDistance += distance\n",
    "        distance = get_distance(p2_lat,p2_long,p3_lat,p3_long)\n",
    "\n",
    "        # time it will take to go from o1 to o2\n",
    "        time = speed/distance            \n",
    "        # time is in hours so convert to minutes to seconds\n",
    "        time_seconds = time * 60 * 60  \n",
    "        if (trip2_pickup + time_seconds >= (trip1_do_time)) or (trip2_pu_time + time_seconds <= trip1_do_time + delay_seconds):\n",
    "            totalDistance += distance\n",
    "            distance = get_distance(p3_lat,p3_long,p4_lat,p4_long)   \n",
    "            # time it will take to go from o1 to o2\n",
    "            time = speed/distance            \n",
    "            # time is in hours so convert to minutes to seconds\n",
    "            time_seconds = time * 60 * 60  \n",
    "            if (trip1_do_time + time_seconds >= (trip2_do_time)) or (trip1_do_time + time_seconds <= trip2_do_time  + delay_seconds):\n",
    "                totalDistance += distance\n",
    "                return totalDistance\n",
    "    return -1\n",
    "\n",
    "# get time range permissible for each origin and dropoff\n",
    "# start at o1 check if taxi can make it to o2 within delay\n",
    "\n",
    "# i.e. if 5 minute delay then make it within 5 min before o2\n",
    "# then have to make it within 5 min after d1 and d2 drop off\n",
    "\n",
    "# calculate savings if trip is permissible\n",
    "# savings = [distance(trip1) + distance(trip2)] - distance(combined trip1 & trip2)\n",
    "\n",
    "def prototype_algorithm(single_trips, double_trips, delay):\n",
    "    # columns- 'ride_id', 'pickup_datetime', 'dropoff_datetime', 'pickup_longitude',\n",
    "    #          'pickup_latitude', 'dropoff_longitude', 'dropoff_latitude',\n",
    "    #          'passenger_count', 'trip_distance', 'speed'\n",
    "    combined_trips = {}\n",
    "\n",
    "    for index, trip1 in single_trips.iterrows():  \n",
    "\n",
    "        for index, trip2 in double_trips.iterrows():\n",
    "            # average speed of two trips\n",
    "            speed3 = (trip1['speed'] + trip2['speed'])/2\n",
    "\n",
    "            o1_lon = trip1['pickup_longitude']\n",
    "            o1_lat = trip1['pickup_latitude']\n",
    "            o2_lon = trip2['pickup_longitude']\n",
    "            o2_lat = trip2['pickup_latitude']\n",
    "\n",
    "            d1_lon = trip1['pickup_longitude']\n",
    "            d1_lat = trip1['pickup_latitude']\n",
    "            d2_lon = trip2['pickup_longitude']\n",
    "            d2_lat = trip2['pickup_latitude']\n",
    "\n",
    "\n",
    "            pu1 = trip1['pickup_datetime'].total_seconds()  \n",
    "            pu2 = trip2['pickup_datetime'].total_seconds() \n",
    "\n",
    "\n",
    "            do1 = trip1['dropoff_datetime'].total_seconds()\n",
    "            do2 = trip2['dropoff_datetime'].total_seconds() \n",
    "\n",
    "\n",
    "            # o1 - o2 - d1 - d2\n",
    "            seq1 = calcSequence(o1_lat, o1_long, o2_lat, o2_long, d1_lat, d1_long, d2_lat, d2_long, speed3, pu1, pu2, du1, du2, delay)\n",
    "\n",
    "            # o1 - o2 - d2 - d1\n",
    "            seq2 = calcSequence(o1_lat, o1_long, o2_lat, o2_long, d2_lat, d2_long, d1_lat, d1_long, speed3, pu1, pu2, du1, du2, delay)\n",
    "\n",
    "            # o2 - o1 - d2 - d1\n",
    "            seq3 = calcSequence( o2_lat, o2_long, o1_lat, o1_long, d2_lat, d2_long, d1_lat, d1_long, speed3, pu1, pu2, du1, du2, delay)\n",
    "\n",
    "            # o2 - o1 - d1 - d2\n",
    "            seq4 = calcSequence( o2_lat, o2_long, o1_lat, o1_long, d1_lat, d1_long, d2_lat, d2_long, speed3, pu1, pu2, du1, du2, delay)\n",
    "\n",
    "            totalDistance = trip1['trip_distance'] + trip2['trip_distance']\n",
    "            \n",
    "            \n",
    "            if seq1 < seq2 and seq1 < seq3 and seq1 < seq4 and seq1 != -1:\n",
    "                combined_trips[(trip1['ride_id'], trip2['ride_id'])] = totalDistance - seq1\n",
    "            elif seq2 < seq1 and seq2 < seq3 and seq2 < seq4 and seq2 != -1:\n",
    "                combined_trips[(trip1['ride_id'], trip2['ride_id'])] = totalDistance - seq2   \n",
    "            elif seq3 < seq1 and seq3 < seq4 and seq3 < seq2 and seq3 != -1:\n",
    "                combined_trips[(trip1['ride_id'], trip2['ride_id'])] = totalDistance - seq3 \n",
    "            elif seq4 < seq1 and seq4 < seq2 and seq4 < seq3 and seq4 != -1:\n",
    "                combined_trips[(trip1['ride_id'], trip2['ride_id'])] = totalDistance - seq4     \n",
    "\n",
    "    return combined_trips\n"
   ]
  },
  {
   "cell_type": "code",
   "execution_count": null,
   "metadata": {},
   "outputs": [],
   "source": []
  }
 ],
 "metadata": {
  "kernelspec": {
   "display_name": "Python 3",
   "language": "python",
   "name": "python3"
  },
  "language_info": {
   "codemirror_mode": {
    "name": "ipython",
    "version": 3
   },
   "file_extension": ".py",
   "mimetype": "text/x-python",
   "name": "python",
   "nbconvert_exporter": "python",
   "pygments_lexer": "ipython3",
   "version": "3.8.5"
  }
 },
 "nbformat": 4,
 "nbformat_minor": 4
}
