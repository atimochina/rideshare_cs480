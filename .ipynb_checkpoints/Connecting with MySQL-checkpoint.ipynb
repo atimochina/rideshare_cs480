{
 "cells": [
  {
   "cell_type": "markdown",
   "metadata": {},
   "source": [
    "# Connecting MySQL Database to Jupyter Notebooks\n",
    "\n",
    "### Step 1. Download mysql-connector-python \n",
    "You can do this through commands such as: pip install mysql-connector-python \n",
    "\n",
    "### Step 2. Connect to your database\n",
    "Add your password and uncomment out the others"
   ]
  },
  {
   "cell_type": "code",
   "execution_count": 1,
   "metadata": {},
   "outputs": [],
   "source": [
    "import pandas as pd\n",
    "import mysql.connector\n",
    "\n",
    "db = mysql.connector.connect(\n",
    "    user=\"root\",\n",
    "    password=\"{Password}\", #angy, comment/un-comment for yours\n",
    "    # password = \"6041\", # Eldin \n",
    "    host=\"localhost\",\n",
    "    port = 3306,\n",
    "    database = 'rideshare'\n",
    ")"
   ]
  },
  {
   "cell_type": "markdown",
   "metadata": {},
   "source": [
    "#### Checking connection"
   ]
  },
  {
   "cell_type": "code",
   "execution_count": 2,
   "metadata": {
    "scrolled": true
   },
   "outputs": [
    {
     "name": "stdout",
     "output_type": "stream",
     "text": [
      "<mysql.connector.connection.MySQLConnection object at 0x000001F88E546430>\n"
     ]
    }
   ],
   "source": [
    "print(db)\n"
   ]
  },
  {
   "cell_type": "markdown",
   "metadata": {},
   "source": [
    "#### Setting cursor that will allow us to execute commands like in MySQL queries"
   ]
  },
  {
   "cell_type": "code",
   "execution_count": 3,
   "metadata": {},
   "outputs": [],
   "source": [
    "cursor = db.cursor() "
   ]
  },
  {
   "cell_type": "markdown",
   "metadata": {},
   "source": [
    "### Step 3. Import Tables "
   ]
  },
  {
   "cell_type": "markdown",
   "metadata": {},
   "source": [
    "#### Listing all tables in current database = rideshare"
   ]
  },
  {
   "cell_type": "code",
   "execution_count": 4,
   "metadata": {},
   "outputs": [
    {
     "name": "stdout",
     "output_type": "stream",
     "text": [
      "april_green\n",
      "february_green\n",
      "jan_green_one_rider\n",
      "jan_green_two_rider\n",
      "january_green\n",
      "june_green\n",
      "march_green\n",
      "may_green\n"
     ]
    }
   ],
   "source": [
    "cursor.execute(\"SHOW TABLES\")\n",
    "for table in [tables[0] for tables in cursor.fetchall()]:\n",
    "    print(table)"
   ]
  },
  {
   "cell_type": "markdown",
   "metadata": {},
   "source": [
    "#### Selecting the january green taxi data that was split with passenger count = 1"
   ]
  },
  {
   "cell_type": "code",
   "execution_count": 5,
   "metadata": {},
   "outputs": [],
   "source": [
    "jan_green_one_rider = pd.read_sql(\"select * from jan_green_one_rider\", db);"
   ]
  },
  {
   "cell_type": "code",
   "execution_count": 6,
   "metadata": {
    "scrolled": true
   },
   "outputs": [
    {
     "data": {
      "text/html": [
       "<div>\n",
       "<style scoped>\n",
       "    .dataframe tbody tr th:only-of-type {\n",
       "        vertical-align: middle;\n",
       "    }\n",
       "\n",
       "    .dataframe tbody tr th {\n",
       "        vertical-align: top;\n",
       "    }\n",
       "\n",
       "    .dataframe thead th {\n",
       "        text-align: right;\n",
       "    }\n",
       "</style>\n",
       "<table border=\"1\" class=\"dataframe\">\n",
       "  <thead>\n",
       "    <tr style=\"text-align: right;\">\n",
       "      <th></th>\n",
       "      <th>ride_id</th>\n",
       "      <th>pickup_datetime</th>\n",
       "      <th>dropoff_datetime</th>\n",
       "      <th>pickup_longitude</th>\n",
       "      <th>pickup_latitude</th>\n",
       "      <th>dropoff_longitude</th>\n",
       "      <th>dropoff_latitude</th>\n",
       "      <th>passenger_count</th>\n",
       "      <th>trip_distance</th>\n",
       "    </tr>\n",
       "  </thead>\n",
       "  <tbody>\n",
       "    <tr>\n",
       "      <th>0</th>\n",
       "      <td>14</td>\n",
       "      <td>2014-01-01 00:00:07</td>\n",
       "      <td>2014-01-01 00:08:28</td>\n",
       "      <td>-73.916992</td>\n",
       "      <td>40.771004</td>\n",
       "      <td>-73.888550</td>\n",
       "      <td>40.745453</td>\n",
       "      <td>1</td>\n",
       "      <td>2.52</td>\n",
       "    </tr>\n",
       "    <tr>\n",
       "      <th>1</th>\n",
       "      <td>16</td>\n",
       "      <td>2014-01-01 00:00:13</td>\n",
       "      <td>2014-01-01 00:07:26</td>\n",
       "      <td>-73.844109</td>\n",
       "      <td>40.721107</td>\n",
       "      <td>-73.816330</td>\n",
       "      <td>40.714375</td>\n",
       "      <td>1</td>\n",
       "      <td>1.66</td>\n",
       "    </tr>\n",
       "    <tr>\n",
       "      <th>2</th>\n",
       "      <td>17</td>\n",
       "      <td>2014-01-01 00:00:13</td>\n",
       "      <td>2014-01-01 00:18:35</td>\n",
       "      <td>-73.911644</td>\n",
       "      <td>40.767956</td>\n",
       "      <td>-73.946960</td>\n",
       "      <td>40.751373</td>\n",
       "      <td>1</td>\n",
       "      <td>2.66</td>\n",
       "    </tr>\n",
       "    <tr>\n",
       "      <th>3</th>\n",
       "      <td>18</td>\n",
       "      <td>2014-01-01 00:00:16</td>\n",
       "      <td>2014-01-01 00:04:05</td>\n",
       "      <td>-73.954727</td>\n",
       "      <td>40.800072</td>\n",
       "      <td>-73.946892</td>\n",
       "      <td>40.813335</td>\n",
       "      <td>1</td>\n",
       "      <td>1.02</td>\n",
       "    </tr>\n",
       "    <tr>\n",
       "      <th>4</th>\n",
       "      <td>19</td>\n",
       "      <td>2014-01-01 00:00:16</td>\n",
       "      <td>2014-01-01 00:08:32</td>\n",
       "      <td>-73.924431</td>\n",
       "      <td>40.743668</td>\n",
       "      <td>-73.934021</td>\n",
       "      <td>40.736256</td>\n",
       "      <td>1</td>\n",
       "      <td>1.10</td>\n",
       "    </tr>\n",
       "  </tbody>\n",
       "</table>\n",
       "</div>"
      ],
      "text/plain": [
       "   ride_id     pickup_datetime    dropoff_datetime  pickup_longitude  \\\n",
       "0       14 2014-01-01 00:00:07 2014-01-01 00:08:28        -73.916992   \n",
       "1       16 2014-01-01 00:00:13 2014-01-01 00:07:26        -73.844109   \n",
       "2       17 2014-01-01 00:00:13 2014-01-01 00:18:35        -73.911644   \n",
       "3       18 2014-01-01 00:00:16 2014-01-01 00:04:05        -73.954727   \n",
       "4       19 2014-01-01 00:00:16 2014-01-01 00:08:32        -73.924431   \n",
       "\n",
       "   pickup_latitude  dropoff_longitude  dropoff_latitude  passenger_count  \\\n",
       "0        40.771004         -73.888550         40.745453                1   \n",
       "1        40.721107         -73.816330         40.714375                1   \n",
       "2        40.767956         -73.946960         40.751373                1   \n",
       "3        40.800072         -73.946892         40.813335                1   \n",
       "4        40.743668         -73.934021         40.736256                1   \n",
       "\n",
       "   trip_distance  \n",
       "0           2.52  \n",
       "1           1.66  \n",
       "2           2.66  \n",
       "3           1.02  \n",
       "4           1.10  "
      ]
     },
     "execution_count": 6,
     "metadata": {},
     "output_type": "execute_result"
    }
   ],
   "source": [
    "jan_green_one_rider.head()"
   ]
  },
  {
   "cell_type": "code",
   "execution_count": 7,
   "metadata": {
    "scrolled": true
   },
   "outputs": [
    {
     "data": {
      "text/html": [
       "<div>\n",
       "<style scoped>\n",
       "    .dataframe tbody tr th:only-of-type {\n",
       "        vertical-align: middle;\n",
       "    }\n",
       "\n",
       "    .dataframe tbody tr th {\n",
       "        vertical-align: top;\n",
       "    }\n",
       "\n",
       "    .dataframe thead th {\n",
       "        text-align: right;\n",
       "    }\n",
       "</style>\n",
       "<table border=\"1\" class=\"dataframe\">\n",
       "  <thead>\n",
       "    <tr style=\"text-align: right;\">\n",
       "      <th></th>\n",
       "      <th>ride_id</th>\n",
       "      <th>pickup_longitude</th>\n",
       "      <th>pickup_latitude</th>\n",
       "      <th>dropoff_longitude</th>\n",
       "      <th>dropoff_latitude</th>\n",
       "      <th>passenger_count</th>\n",
       "      <th>trip_distance</th>\n",
       "    </tr>\n",
       "  </thead>\n",
       "  <tbody>\n",
       "    <tr>\n",
       "      <th>count</th>\n",
       "      <td>640968.000000</td>\n",
       "      <td>640968.000000</td>\n",
       "      <td>640968.000000</td>\n",
       "      <td>640968.000000</td>\n",
       "      <td>640968.000000</td>\n",
       "      <td>640968.0</td>\n",
       "      <td>640968.000000</td>\n",
       "    </tr>\n",
       "    <tr>\n",
       "      <th>mean</th>\n",
       "      <td>403754.461653</td>\n",
       "      <td>-73.929511</td>\n",
       "      <td>40.768245</td>\n",
       "      <td>-73.930421</td>\n",
       "      <td>40.764315</td>\n",
       "      <td>1.0</td>\n",
       "      <td>2.866495</td>\n",
       "    </tr>\n",
       "    <tr>\n",
       "      <th>std</th>\n",
       "      <td>232045.581650</td>\n",
       "      <td>0.041355</td>\n",
       "      <td>0.056710</td>\n",
       "      <td>0.049958</td>\n",
       "      <td>0.057734</td>\n",
       "      <td>0.0</td>\n",
       "      <td>2.828024</td>\n",
       "    </tr>\n",
       "    <tr>\n",
       "      <th>min</th>\n",
       "      <td>14.000000</td>\n",
       "      <td>-74.331802</td>\n",
       "      <td>40.552734</td>\n",
       "      <td>-74.478737</td>\n",
       "      <td>40.441864</td>\n",
       "      <td>1.0</td>\n",
       "      <td>0.010000</td>\n",
       "    </tr>\n",
       "    <tr>\n",
       "      <th>25%</th>\n",
       "      <td>202493.750000</td>\n",
       "      <td>-73.955269</td>\n",
       "      <td>40.721291</td>\n",
       "      <td>-73.963234</td>\n",
       "      <td>40.724201</td>\n",
       "      <td>1.0</td>\n",
       "      <td>1.090000</td>\n",
       "    </tr>\n",
       "    <tr>\n",
       "      <th>50%</th>\n",
       "      <td>403117.500000</td>\n",
       "      <td>-73.940575</td>\n",
       "      <td>40.766838</td>\n",
       "      <td>-73.941170</td>\n",
       "      <td>40.763699</td>\n",
       "      <td>1.0</td>\n",
       "      <td>1.900000</td>\n",
       "    </tr>\n",
       "    <tr>\n",
       "      <th>75%</th>\n",
       "      <td>604873.500000</td>\n",
       "      <td>-73.909355</td>\n",
       "      <td>40.810234</td>\n",
       "      <td>-73.903580</td>\n",
       "      <td>40.807499</td>\n",
       "      <td>1.0</td>\n",
       "      <td>3.660000</td>\n",
       "    </tr>\n",
       "    <tr>\n",
       "      <th>max</th>\n",
       "      <td>803852.000000</td>\n",
       "      <td>-72.633492</td>\n",
       "      <td>41.183037</td>\n",
       "      <td>-72.633492</td>\n",
       "      <td>41.367435</td>\n",
       "      <td>1.0</td>\n",
       "      <td>115.610000</td>\n",
       "    </tr>\n",
       "  </tbody>\n",
       "</table>\n",
       "</div>"
      ],
      "text/plain": [
       "             ride_id  pickup_longitude  pickup_latitude  dropoff_longitude  \\\n",
       "count  640968.000000     640968.000000    640968.000000      640968.000000   \n",
       "mean   403754.461653        -73.929511        40.768245         -73.930421   \n",
       "std    232045.581650          0.041355         0.056710           0.049958   \n",
       "min        14.000000        -74.331802        40.552734         -74.478737   \n",
       "25%    202493.750000        -73.955269        40.721291         -73.963234   \n",
       "50%    403117.500000        -73.940575        40.766838         -73.941170   \n",
       "75%    604873.500000        -73.909355        40.810234         -73.903580   \n",
       "max    803852.000000        -72.633492        41.183037         -72.633492   \n",
       "\n",
       "       dropoff_latitude  passenger_count  trip_distance  \n",
       "count     640968.000000         640968.0  640968.000000  \n",
       "mean          40.764315              1.0       2.866495  \n",
       "std            0.057734              0.0       2.828024  \n",
       "min           40.441864              1.0       0.010000  \n",
       "25%           40.724201              1.0       1.090000  \n",
       "50%           40.763699              1.0       1.900000  \n",
       "75%           40.807499              1.0       3.660000  \n",
       "max           41.367435              1.0     115.610000  "
      ]
     },
     "execution_count": 7,
     "metadata": {},
     "output_type": "execute_result"
    }
   ],
   "source": [
    "jan_green_one_rider.describe()"
   ]
  },
  {
   "cell_type": "code",
   "execution_count": 8,
   "metadata": {},
   "outputs": [
    {
     "data": {
      "text/plain": [
       "ride_id                       int64\n",
       "pickup_datetime      datetime64[ns]\n",
       "dropoff_datetime     datetime64[ns]\n",
       "pickup_longitude            float64\n",
       "pickup_latitude             float64\n",
       "dropoff_longitude           float64\n",
       "dropoff_latitude            float64\n",
       "passenger_count               int64\n",
       "trip_distance               float64\n",
       "dtype: object"
      ]
     },
     "execution_count": 8,
     "metadata": {},
     "output_type": "execute_result"
    }
   ],
   "source": [
    "jan_green_one_rider.dtypes"
   ]
  },
  {
   "cell_type": "markdown",
   "metadata": {},
   "source": [
    "##### Total distance"
   ]
  },
  {
   "cell_type": "code",
   "execution_count": 9,
   "metadata": {
    "scrolled": true
   },
   "outputs": [
    {
     "name": "stdout",
     "output_type": "stream",
     "text": [
      "1837332.0 total miles for ONE RIDER green taxi data in january 2014 from NYC\n"
     ]
    }
   ],
   "source": [
    "print(round(jan_green_one_rider['trip_distance'].sum()), \"total miles for ONE RIDER green taxi data in january 2014 from NYC\")"
   ]
  },
  {
   "cell_type": "markdown",
   "metadata": {},
   "source": [
    "#### Selecting the january green taxi data that was split with passenger count = 2"
   ]
  },
  {
   "cell_type": "code",
   "execution_count": 10,
   "metadata": {},
   "outputs": [],
   "source": [
    "jan_green_two_rider = pd.read_sql(\"select * from jan_green_two_rider\", db);"
   ]
  },
  {
   "cell_type": "code",
   "execution_count": 11,
   "metadata": {},
   "outputs": [
    {
     "data": {
      "text/html": [
       "<div>\n",
       "<style scoped>\n",
       "    .dataframe tbody tr th:only-of-type {\n",
       "        vertical-align: middle;\n",
       "    }\n",
       "\n",
       "    .dataframe tbody tr th {\n",
       "        vertical-align: top;\n",
       "    }\n",
       "\n",
       "    .dataframe thead th {\n",
       "        text-align: right;\n",
       "    }\n",
       "</style>\n",
       "<table border=\"1\" class=\"dataframe\">\n",
       "  <thead>\n",
       "    <tr style=\"text-align: right;\">\n",
       "      <th></th>\n",
       "      <th>ride_id</th>\n",
       "      <th>pickup_datetime</th>\n",
       "      <th>dropoff_datetime</th>\n",
       "      <th>pickup_longitude</th>\n",
       "      <th>pickup_latitude</th>\n",
       "      <th>dropoff_longitude</th>\n",
       "      <th>dropoff_latitude</th>\n",
       "      <th>passenger_count</th>\n",
       "      <th>trip_distance</th>\n",
       "    </tr>\n",
       "  </thead>\n",
       "  <tbody>\n",
       "    <tr>\n",
       "      <th>0</th>\n",
       "      <td>24</td>\n",
       "      <td>2014-01-01 00:00:43</td>\n",
       "      <td>2014-01-01 00:07:44</td>\n",
       "      <td>-73.924568</td>\n",
       "      <td>40.861614</td>\n",
       "      <td>-73.942627</td>\n",
       "      <td>40.821888</td>\n",
       "      <td>2</td>\n",
       "      <td>3.10</td>\n",
       "    </tr>\n",
       "    <tr>\n",
       "      <th>1</th>\n",
       "      <td>34</td>\n",
       "      <td>2014-01-01 00:01:05</td>\n",
       "      <td>2014-01-01 00:14:43</td>\n",
       "      <td>-73.929337</td>\n",
       "      <td>40.703571</td>\n",
       "      <td>-73.957573</td>\n",
       "      <td>40.729713</td>\n",
       "      <td>2</td>\n",
       "      <td>3.30</td>\n",
       "    </tr>\n",
       "    <tr>\n",
       "      <th>2</th>\n",
       "      <td>36</td>\n",
       "      <td>2014-01-01 00:01:09</td>\n",
       "      <td>2014-01-01 00:03:59</td>\n",
       "      <td>-73.981842</td>\n",
       "      <td>40.666687</td>\n",
       "      <td>-73.985321</td>\n",
       "      <td>40.662525</td>\n",
       "      <td>2</td>\n",
       "      <td>0.30</td>\n",
       "    </tr>\n",
       "    <tr>\n",
       "      <th>3</th>\n",
       "      <td>44</td>\n",
       "      <td>2014-01-01 00:01:36</td>\n",
       "      <td>2014-01-01 00:12:24</td>\n",
       "      <td>-73.953888</td>\n",
       "      <td>40.806480</td>\n",
       "      <td>-73.937546</td>\n",
       "      <td>40.797661</td>\n",
       "      <td>2</td>\n",
       "      <td>1.21</td>\n",
       "    </tr>\n",
       "    <tr>\n",
       "      <th>4</th>\n",
       "      <td>67</td>\n",
       "      <td>2014-01-01 00:02:50</td>\n",
       "      <td>2014-01-01 00:05:51</td>\n",
       "      <td>-73.925217</td>\n",
       "      <td>40.761761</td>\n",
       "      <td>-73.917320</td>\n",
       "      <td>40.758137</td>\n",
       "      <td>2</td>\n",
       "      <td>0.51</td>\n",
       "    </tr>\n",
       "  </tbody>\n",
       "</table>\n",
       "</div>"
      ],
      "text/plain": [
       "   ride_id     pickup_datetime    dropoff_datetime  pickup_longitude  \\\n",
       "0       24 2014-01-01 00:00:43 2014-01-01 00:07:44        -73.924568   \n",
       "1       34 2014-01-01 00:01:05 2014-01-01 00:14:43        -73.929337   \n",
       "2       36 2014-01-01 00:01:09 2014-01-01 00:03:59        -73.981842   \n",
       "3       44 2014-01-01 00:01:36 2014-01-01 00:12:24        -73.953888   \n",
       "4       67 2014-01-01 00:02:50 2014-01-01 00:05:51        -73.925217   \n",
       "\n",
       "   pickup_latitude  dropoff_longitude  dropoff_latitude  passenger_count  \\\n",
       "0        40.861614         -73.942627         40.821888                2   \n",
       "1        40.703571         -73.957573         40.729713                2   \n",
       "2        40.666687         -73.985321         40.662525                2   \n",
       "3        40.806480         -73.937546         40.797661                2   \n",
       "4        40.761761         -73.917320         40.758137                2   \n",
       "\n",
       "   trip_distance  \n",
       "0           3.10  \n",
       "1           3.30  \n",
       "2           0.30  \n",
       "3           1.21  \n",
       "4           0.51  "
      ]
     },
     "execution_count": 11,
     "metadata": {},
     "output_type": "execute_result"
    }
   ],
   "source": [
    "jan_green_two_rider.head()"
   ]
  },
  {
   "cell_type": "code",
   "execution_count": 12,
   "metadata": {},
   "outputs": [
    {
     "data": {
      "text/html": [
       "<div>\n",
       "<style scoped>\n",
       "    .dataframe tbody tr th:only-of-type {\n",
       "        vertical-align: middle;\n",
       "    }\n",
       "\n",
       "    .dataframe tbody tr th {\n",
       "        vertical-align: top;\n",
       "    }\n",
       "\n",
       "    .dataframe thead th {\n",
       "        text-align: right;\n",
       "    }\n",
       "</style>\n",
       "<table border=\"1\" class=\"dataframe\">\n",
       "  <thead>\n",
       "    <tr style=\"text-align: right;\">\n",
       "      <th></th>\n",
       "      <th>ride_id</th>\n",
       "      <th>pickup_longitude</th>\n",
       "      <th>pickup_latitude</th>\n",
       "      <th>dropoff_longitude</th>\n",
       "      <th>dropoff_latitude</th>\n",
       "      <th>passenger_count</th>\n",
       "      <th>trip_distance</th>\n",
       "    </tr>\n",
       "  </thead>\n",
       "  <tbody>\n",
       "    <tr>\n",
       "      <th>count</th>\n",
       "      <td>56464.000000</td>\n",
       "      <td>56464.000000</td>\n",
       "      <td>56464.000000</td>\n",
       "      <td>56464.000000</td>\n",
       "      <td>56464.000000</td>\n",
       "      <td>56464.0</td>\n",
       "      <td>56464.000000</td>\n",
       "    </tr>\n",
       "    <tr>\n",
       "      <th>mean</th>\n",
       "      <td>391011.861717</td>\n",
       "      <td>-73.930385</td>\n",
       "      <td>40.754977</td>\n",
       "      <td>-73.930964</td>\n",
       "      <td>40.752764</td>\n",
       "      <td>2.0</td>\n",
       "      <td>3.011972</td>\n",
       "    </tr>\n",
       "    <tr>\n",
       "      <th>std</th>\n",
       "      <td>232746.447478</td>\n",
       "      <td>0.043352</td>\n",
       "      <td>0.055280</td>\n",
       "      <td>0.051819</td>\n",
       "      <td>0.056788</td>\n",
       "      <td>0.0</td>\n",
       "      <td>2.908302</td>\n",
       "    </tr>\n",
       "    <tr>\n",
       "      <th>min</th>\n",
       "      <td>24.000000</td>\n",
       "      <td>-74.079437</td>\n",
       "      <td>40.573067</td>\n",
       "      <td>-74.484711</td>\n",
       "      <td>40.324463</td>\n",
       "      <td>2.0</td>\n",
       "      <td>0.010000</td>\n",
       "    </tr>\n",
       "    <tr>\n",
       "      <th>25%</th>\n",
       "      <td>189143.750000</td>\n",
       "      <td>-73.957954</td>\n",
       "      <td>40.713748</td>\n",
       "      <td>-73.966669</td>\n",
       "      <td>40.712924</td>\n",
       "      <td>2.0</td>\n",
       "      <td>1.130000</td>\n",
       "    </tr>\n",
       "    <tr>\n",
       "      <th>50%</th>\n",
       "      <td>397935.500000</td>\n",
       "      <td>-73.942066</td>\n",
       "      <td>40.747704</td>\n",
       "      <td>-73.942165</td>\n",
       "      <td>40.750050</td>\n",
       "      <td>2.0</td>\n",
       "      <td>2.050000</td>\n",
       "    </tr>\n",
       "    <tr>\n",
       "      <th>75%</th>\n",
       "      <td>592494.250000</td>\n",
       "      <td>-73.904423</td>\n",
       "      <td>40.804214</td>\n",
       "      <td>-73.900877</td>\n",
       "      <td>40.792474</td>\n",
       "      <td>2.0</td>\n",
       "      <td>3.900000</td>\n",
       "    </tr>\n",
       "    <tr>\n",
       "      <th>max</th>\n",
       "      <td>803851.000000</td>\n",
       "      <td>-73.247894</td>\n",
       "      <td>40.972569</td>\n",
       "      <td>-73.192268</td>\n",
       "      <td>41.233383</td>\n",
       "      <td>2.0</td>\n",
       "      <td>59.800000</td>\n",
       "    </tr>\n",
       "  </tbody>\n",
       "</table>\n",
       "</div>"
      ],
      "text/plain": [
       "             ride_id  pickup_longitude  pickup_latitude  dropoff_longitude  \\\n",
       "count   56464.000000      56464.000000     56464.000000       56464.000000   \n",
       "mean   391011.861717        -73.930385        40.754977         -73.930964   \n",
       "std    232746.447478          0.043352         0.055280           0.051819   \n",
       "min        24.000000        -74.079437        40.573067         -74.484711   \n",
       "25%    189143.750000        -73.957954        40.713748         -73.966669   \n",
       "50%    397935.500000        -73.942066        40.747704         -73.942165   \n",
       "75%    592494.250000        -73.904423        40.804214         -73.900877   \n",
       "max    803851.000000        -73.247894        40.972569         -73.192268   \n",
       "\n",
       "       dropoff_latitude  passenger_count  trip_distance  \n",
       "count      56464.000000          56464.0   56464.000000  \n",
       "mean          40.752764              2.0       3.011972  \n",
       "std            0.056788              0.0       2.908302  \n",
       "min           40.324463              2.0       0.010000  \n",
       "25%           40.712924              2.0       1.130000  \n",
       "50%           40.750050              2.0       2.050000  \n",
       "75%           40.792474              2.0       3.900000  \n",
       "max           41.233383              2.0      59.800000  "
      ]
     },
     "execution_count": 12,
     "metadata": {},
     "output_type": "execute_result"
    }
   ],
   "source": [
    "jan_green_two_rider.describe()"
   ]
  },
  {
   "cell_type": "code",
   "execution_count": 13,
   "metadata": {},
   "outputs": [
    {
     "data": {
      "text/plain": [
       "ride_id                       int64\n",
       "pickup_datetime      datetime64[ns]\n",
       "dropoff_datetime     datetime64[ns]\n",
       "pickup_longitude            float64\n",
       "pickup_latitude             float64\n",
       "dropoff_longitude           float64\n",
       "dropoff_latitude            float64\n",
       "passenger_count               int64\n",
       "trip_distance               float64\n",
       "dtype: object"
      ]
     },
     "execution_count": 13,
     "metadata": {},
     "output_type": "execute_result"
    }
   ],
   "source": [
    "jan_green_two_rider.dtypes"
   ]
  },
  {
   "cell_type": "markdown",
   "metadata": {},
   "source": [
    "##### Total distance"
   ]
  },
  {
   "cell_type": "code",
   "execution_count": 14,
   "metadata": {},
   "outputs": [
    {
     "name": "stdout",
     "output_type": "stream",
     "text": [
      "170068.0 total miles for TWO RIDER green taxi data in january 2014 from NYC\n"
     ]
    }
   ],
   "source": [
    "print(round(jan_green_two_rider['trip_distance'].sum()), \"total miles for TWO RIDER green taxi data in january 2014 from NYC\")"
   ]
  },
  {
   "cell_type": "markdown",
   "metadata": {},
   "source": [
    "### Algorithm?"
   ]
  },
  {
   "cell_type": "markdown",
   "metadata": {},
   "source": [
    "#### Function to get distance between coordinates"
   ]
  },
  {
   "cell_type": "code",
   "execution_count": 15,
   "metadata": {},
   "outputs": [
    {
     "data": {
      "text/plain": [
       "173.5818455248231"
      ]
     },
     "execution_count": 15,
     "metadata": {},
     "output_type": "execute_result"
    }
   ],
   "source": [
    "import geopy.distance\n",
    "\n",
    "def get_distance(lat_origin, lon_origin, lat_end, lon_end):\n",
    "    coords_1 = (lat_origin, lon_origin)\n",
    "    coords_2 = (lat_end, lon_end)\n",
    "    \n",
    "    distance = geopy.distance.distance(coords_1, coords_2).mi\n",
    "    #print(\"Distance: \", distance, \" mi\")\n",
    "    return distance\n",
    "\n",
    "get_distance(52.2296756, 21.0122287,52.406374, 16.9251681)"
   ]
  },
  {
   "cell_type": "code",
   "execution_count": 16,
   "metadata": {},
   "outputs": [
    {
     "data": {
      "text/plain": [
       "0.11694444444444445"
      ]
     },
     "execution_count": 16,
     "metadata": {},
     "output_type": "execute_result"
    }
   ],
   "source": [
    "def time_difference(time_1, time_2):\n",
    "    elapsedTime = time_2 - time_1\n",
    "    #print(\"Elapsed time: \", elapsedTime)\n",
    "    #print(\"Total seconds: \", elapsedTime.total_seconds())\n",
    "    \n",
    "    return (elapsedTime.total_seconds()/3600)\n",
    "\n",
    "time_difference(jan_green_two_rider['pickup_datetime'][0], jan_green_two_rider['dropoff_datetime'][0])\n",
    "    \n",
    "    "
   ]
  },
  {
   "cell_type": "code",
   "execution_count": 17,
   "metadata": {},
   "outputs": [],
   "source": [
    "def add_speed_to_trip(trip):\n",
    "    time_1 = trip['pickup_datetime']\n",
    "    time_2 = trip['dropoff_datetime']\n",
    "\n",
    "    distance = trip['trip_distance']\n",
    "    time = time_difference(time_1, time_2)\n",
    "    speed = distance/time\n",
    "    \n",
    "    #print(\"Speed: \", speed, \"mi/hr\")\n",
    "    return speed"
   ]
  },
  {
   "cell_type": "code",
   "execution_count": 21,
   "metadata": {
    "scrolled": true
   },
   "outputs": [],
   "source": [
    "jan_green_two_rider['speed'] = jan_green_two_rider.apply(add_speed_to_trip, axis = 1)"
   ]
  },
  {
   "cell_type": "code",
   "execution_count": 22,
   "metadata": {},
   "outputs": [
    {
     "data": {
      "text/html": [
       "<div>\n",
       "<style scoped>\n",
       "    .dataframe tbody tr th:only-of-type {\n",
       "        vertical-align: middle;\n",
       "    }\n",
       "\n",
       "    .dataframe tbody tr th {\n",
       "        vertical-align: top;\n",
       "    }\n",
       "\n",
       "    .dataframe thead th {\n",
       "        text-align: right;\n",
       "    }\n",
       "</style>\n",
       "<table border=\"1\" class=\"dataframe\">\n",
       "  <thead>\n",
       "    <tr style=\"text-align: right;\">\n",
       "      <th></th>\n",
       "      <th>ride_id</th>\n",
       "      <th>pickup_datetime</th>\n",
       "      <th>dropoff_datetime</th>\n",
       "      <th>pickup_longitude</th>\n",
       "      <th>pickup_latitude</th>\n",
       "      <th>dropoff_longitude</th>\n",
       "      <th>dropoff_latitude</th>\n",
       "      <th>passenger_count</th>\n",
       "      <th>trip_distance</th>\n",
       "      <th>speed</th>\n",
       "    </tr>\n",
       "  </thead>\n",
       "  <tbody>\n",
       "    <tr>\n",
       "      <th>0</th>\n",
       "      <td>24</td>\n",
       "      <td>2014-01-01 00:00:43</td>\n",
       "      <td>2014-01-01 00:07:44</td>\n",
       "      <td>-73.924568</td>\n",
       "      <td>40.861614</td>\n",
       "      <td>-73.942627</td>\n",
       "      <td>40.821888</td>\n",
       "      <td>2</td>\n",
       "      <td>3.10</td>\n",
       "      <td>26.508314</td>\n",
       "    </tr>\n",
       "    <tr>\n",
       "      <th>1</th>\n",
       "      <td>34</td>\n",
       "      <td>2014-01-01 00:01:05</td>\n",
       "      <td>2014-01-01 00:14:43</td>\n",
       "      <td>-73.929337</td>\n",
       "      <td>40.703571</td>\n",
       "      <td>-73.957573</td>\n",
       "      <td>40.729713</td>\n",
       "      <td>2</td>\n",
       "      <td>3.30</td>\n",
       "      <td>14.523227</td>\n",
       "    </tr>\n",
       "    <tr>\n",
       "      <th>2</th>\n",
       "      <td>36</td>\n",
       "      <td>2014-01-01 00:01:09</td>\n",
       "      <td>2014-01-01 00:03:59</td>\n",
       "      <td>-73.981842</td>\n",
       "      <td>40.666687</td>\n",
       "      <td>-73.985321</td>\n",
       "      <td>40.662525</td>\n",
       "      <td>2</td>\n",
       "      <td>0.30</td>\n",
       "      <td>6.352941</td>\n",
       "    </tr>\n",
       "    <tr>\n",
       "      <th>3</th>\n",
       "      <td>44</td>\n",
       "      <td>2014-01-01 00:01:36</td>\n",
       "      <td>2014-01-01 00:12:24</td>\n",
       "      <td>-73.953888</td>\n",
       "      <td>40.806480</td>\n",
       "      <td>-73.937546</td>\n",
       "      <td>40.797661</td>\n",
       "      <td>2</td>\n",
       "      <td>1.21</td>\n",
       "      <td>6.722222</td>\n",
       "    </tr>\n",
       "    <tr>\n",
       "      <th>4</th>\n",
       "      <td>67</td>\n",
       "      <td>2014-01-01 00:02:50</td>\n",
       "      <td>2014-01-01 00:05:51</td>\n",
       "      <td>-73.925217</td>\n",
       "      <td>40.761761</td>\n",
       "      <td>-73.917320</td>\n",
       "      <td>40.758137</td>\n",
       "      <td>2</td>\n",
       "      <td>0.51</td>\n",
       "      <td>10.143646</td>\n",
       "    </tr>\n",
       "  </tbody>\n",
       "</table>\n",
       "</div>"
      ],
      "text/plain": [
       "   ride_id     pickup_datetime    dropoff_datetime  pickup_longitude  \\\n",
       "0       24 2014-01-01 00:00:43 2014-01-01 00:07:44        -73.924568   \n",
       "1       34 2014-01-01 00:01:05 2014-01-01 00:14:43        -73.929337   \n",
       "2       36 2014-01-01 00:01:09 2014-01-01 00:03:59        -73.981842   \n",
       "3       44 2014-01-01 00:01:36 2014-01-01 00:12:24        -73.953888   \n",
       "4       67 2014-01-01 00:02:50 2014-01-01 00:05:51        -73.925217   \n",
       "\n",
       "   pickup_latitude  dropoff_longitude  dropoff_latitude  passenger_count  \\\n",
       "0        40.861614         -73.942627         40.821888                2   \n",
       "1        40.703571         -73.957573         40.729713                2   \n",
       "2        40.666687         -73.985321         40.662525                2   \n",
       "3        40.806480         -73.937546         40.797661                2   \n",
       "4        40.761761         -73.917320         40.758137                2   \n",
       "\n",
       "   trip_distance      speed  \n",
       "0           3.10  26.508314  \n",
       "1           3.30  14.523227  \n",
       "2           0.30   6.352941  \n",
       "3           1.21   6.722222  \n",
       "4           0.51  10.143646  "
      ]
     },
     "execution_count": 22,
     "metadata": {},
     "output_type": "execute_result"
    }
   ],
   "source": [
    "jan_green_two_rider.head()"
   ]
  },
  {
   "cell_type": "code",
   "execution_count": 23,
   "metadata": {},
   "outputs": [
    {
     "ename": "ZeroDivisionError",
     "evalue": "float division by zero",
     "output_type": "error",
     "traceback": [
      "\u001b[1;31m---------------------------------------------------------------------------\u001b[0m",
      "\u001b[1;31mZeroDivisionError\u001b[0m                         Traceback (most recent call last)",
      "\u001b[1;32m<ipython-input-23-95acaad55783>\u001b[0m in \u001b[0;36m<module>\u001b[1;34m\u001b[0m\n\u001b[1;32m----> 1\u001b[1;33m \u001b[0mjan_green_one_rider\u001b[0m\u001b[1;33m[\u001b[0m\u001b[1;34m'speed'\u001b[0m\u001b[1;33m]\u001b[0m \u001b[1;33m=\u001b[0m \u001b[0mjan_green_one_rider\u001b[0m\u001b[1;33m.\u001b[0m\u001b[0mapply\u001b[0m\u001b[1;33m(\u001b[0m\u001b[0madd_speed_to_trip\u001b[0m\u001b[1;33m,\u001b[0m \u001b[0maxis\u001b[0m \u001b[1;33m=\u001b[0m \u001b[1;36m1\u001b[0m\u001b[1;33m)\u001b[0m\u001b[1;33m\u001b[0m\u001b[1;33m\u001b[0m\u001b[0m\n\u001b[0m",
      "\u001b[1;32m~\\anaconda3\\lib\\site-packages\\pandas\\core\\frame.py\u001b[0m in \u001b[0;36mapply\u001b[1;34m(self, func, axis, raw, result_type, args, **kwds)\u001b[0m\n\u001b[0;32m   6876\u001b[0m             \u001b[0mkwds\u001b[0m\u001b[1;33m=\u001b[0m\u001b[0mkwds\u001b[0m\u001b[1;33m,\u001b[0m\u001b[1;33m\u001b[0m\u001b[1;33m\u001b[0m\u001b[0m\n\u001b[0;32m   6877\u001b[0m         )\n\u001b[1;32m-> 6878\u001b[1;33m         \u001b[1;32mreturn\u001b[0m \u001b[0mop\u001b[0m\u001b[1;33m.\u001b[0m\u001b[0mget_result\u001b[0m\u001b[1;33m(\u001b[0m\u001b[1;33m)\u001b[0m\u001b[1;33m\u001b[0m\u001b[1;33m\u001b[0m\u001b[0m\n\u001b[0m\u001b[0;32m   6879\u001b[0m \u001b[1;33m\u001b[0m\u001b[0m\n\u001b[0;32m   6880\u001b[0m     \u001b[1;32mdef\u001b[0m \u001b[0mapplymap\u001b[0m\u001b[1;33m(\u001b[0m\u001b[0mself\u001b[0m\u001b[1;33m,\u001b[0m \u001b[0mfunc\u001b[0m\u001b[1;33m)\u001b[0m \u001b[1;33m->\u001b[0m \u001b[1;34m\"DataFrame\"\u001b[0m\u001b[1;33m:\u001b[0m\u001b[1;33m\u001b[0m\u001b[1;33m\u001b[0m\u001b[0m\n",
      "\u001b[1;32m~\\anaconda3\\lib\\site-packages\\pandas\\core\\apply.py\u001b[0m in \u001b[0;36mget_result\u001b[1;34m(self)\u001b[0m\n\u001b[0;32m    184\u001b[0m             \u001b[1;32mreturn\u001b[0m \u001b[0mself\u001b[0m\u001b[1;33m.\u001b[0m\u001b[0mapply_raw\u001b[0m\u001b[1;33m(\u001b[0m\u001b[1;33m)\u001b[0m\u001b[1;33m\u001b[0m\u001b[1;33m\u001b[0m\u001b[0m\n\u001b[0;32m    185\u001b[0m \u001b[1;33m\u001b[0m\u001b[0m\n\u001b[1;32m--> 186\u001b[1;33m         \u001b[1;32mreturn\u001b[0m \u001b[0mself\u001b[0m\u001b[1;33m.\u001b[0m\u001b[0mapply_standard\u001b[0m\u001b[1;33m(\u001b[0m\u001b[1;33m)\u001b[0m\u001b[1;33m\u001b[0m\u001b[1;33m\u001b[0m\u001b[0m\n\u001b[0m\u001b[0;32m    187\u001b[0m \u001b[1;33m\u001b[0m\u001b[0m\n\u001b[0;32m    188\u001b[0m     \u001b[1;32mdef\u001b[0m \u001b[0mapply_empty_result\u001b[0m\u001b[1;33m(\u001b[0m\u001b[0mself\u001b[0m\u001b[1;33m)\u001b[0m\u001b[1;33m:\u001b[0m\u001b[1;33m\u001b[0m\u001b[1;33m\u001b[0m\u001b[0m\n",
      "\u001b[1;32m~\\anaconda3\\lib\\site-packages\\pandas\\core\\apply.py\u001b[0m in \u001b[0;36mapply_standard\u001b[1;34m(self)\u001b[0m\n\u001b[0;32m    311\u001b[0m \u001b[1;33m\u001b[0m\u001b[0m\n\u001b[0;32m    312\u001b[0m         \u001b[1;31m# compute the result using the series generator\u001b[0m\u001b[1;33m\u001b[0m\u001b[1;33m\u001b[0m\u001b[1;33m\u001b[0m\u001b[0m\n\u001b[1;32m--> 313\u001b[1;33m         \u001b[0mresults\u001b[0m\u001b[1;33m,\u001b[0m \u001b[0mres_index\u001b[0m \u001b[1;33m=\u001b[0m \u001b[0mself\u001b[0m\u001b[1;33m.\u001b[0m\u001b[0mapply_series_generator\u001b[0m\u001b[1;33m(\u001b[0m\u001b[1;33m)\u001b[0m\u001b[1;33m\u001b[0m\u001b[1;33m\u001b[0m\u001b[0m\n\u001b[0m\u001b[0;32m    314\u001b[0m \u001b[1;33m\u001b[0m\u001b[0m\n\u001b[0;32m    315\u001b[0m         \u001b[1;31m# wrap results\u001b[0m\u001b[1;33m\u001b[0m\u001b[1;33m\u001b[0m\u001b[1;33m\u001b[0m\u001b[0m\n",
      "\u001b[1;32m~\\anaconda3\\lib\\site-packages\\pandas\\core\\apply.py\u001b[0m in \u001b[0;36mapply_series_generator\u001b[1;34m(self)\u001b[0m\n\u001b[0;32m    339\u001b[0m         \u001b[1;32melse\u001b[0m\u001b[1;33m:\u001b[0m\u001b[1;33m\u001b[0m\u001b[1;33m\u001b[0m\u001b[0m\n\u001b[0;32m    340\u001b[0m             \u001b[1;32mfor\u001b[0m \u001b[0mi\u001b[0m\u001b[1;33m,\u001b[0m \u001b[0mv\u001b[0m \u001b[1;32min\u001b[0m \u001b[0menumerate\u001b[0m\u001b[1;33m(\u001b[0m\u001b[0mseries_gen\u001b[0m\u001b[1;33m)\u001b[0m\u001b[1;33m:\u001b[0m\u001b[1;33m\u001b[0m\u001b[1;33m\u001b[0m\u001b[0m\n\u001b[1;32m--> 341\u001b[1;33m                 \u001b[0mresults\u001b[0m\u001b[1;33m[\u001b[0m\u001b[0mi\u001b[0m\u001b[1;33m]\u001b[0m \u001b[1;33m=\u001b[0m \u001b[0mself\u001b[0m\u001b[1;33m.\u001b[0m\u001b[0mf\u001b[0m\u001b[1;33m(\u001b[0m\u001b[0mv\u001b[0m\u001b[1;33m)\u001b[0m\u001b[1;33m\u001b[0m\u001b[1;33m\u001b[0m\u001b[0m\n\u001b[0m\u001b[0;32m    342\u001b[0m                 \u001b[0mkeys\u001b[0m\u001b[1;33m.\u001b[0m\u001b[0mappend\u001b[0m\u001b[1;33m(\u001b[0m\u001b[0mv\u001b[0m\u001b[1;33m.\u001b[0m\u001b[0mname\u001b[0m\u001b[1;33m)\u001b[0m\u001b[1;33m\u001b[0m\u001b[1;33m\u001b[0m\u001b[0m\n\u001b[0;32m    343\u001b[0m \u001b[1;33m\u001b[0m\u001b[0m\n",
      "\u001b[1;32m<ipython-input-17-9676048b08d9>\u001b[0m in \u001b[0;36madd_speed_to_trip\u001b[1;34m(trip)\u001b[0m\n\u001b[0;32m      5\u001b[0m     \u001b[0mdistance\u001b[0m \u001b[1;33m=\u001b[0m \u001b[0mtrip\u001b[0m\u001b[1;33m[\u001b[0m\u001b[1;34m'trip_distance'\u001b[0m\u001b[1;33m]\u001b[0m\u001b[1;33m\u001b[0m\u001b[1;33m\u001b[0m\u001b[0m\n\u001b[0;32m      6\u001b[0m     \u001b[0mtime\u001b[0m \u001b[1;33m=\u001b[0m \u001b[0mtime_difference\u001b[0m\u001b[1;33m(\u001b[0m\u001b[0mtime_1\u001b[0m\u001b[1;33m,\u001b[0m \u001b[0mtime_2\u001b[0m\u001b[1;33m)\u001b[0m\u001b[1;33m\u001b[0m\u001b[1;33m\u001b[0m\u001b[0m\n\u001b[1;32m----> 7\u001b[1;33m     \u001b[0mspeed\u001b[0m \u001b[1;33m=\u001b[0m \u001b[0mdistance\u001b[0m\u001b[1;33m/\u001b[0m\u001b[0mtime\u001b[0m\u001b[1;33m\u001b[0m\u001b[1;33m\u001b[0m\u001b[0m\n\u001b[0m\u001b[0;32m      8\u001b[0m \u001b[1;33m\u001b[0m\u001b[0m\n\u001b[0;32m      9\u001b[0m     \u001b[1;31m#print(\"Speed: \", speed, \"mi/hr\")\u001b[0m\u001b[1;33m\u001b[0m\u001b[1;33m\u001b[0m\u001b[1;33m\u001b[0m\u001b[0m\n",
      "\u001b[1;31mZeroDivisionError\u001b[0m: float division by zero"
     ]
    }
   ],
   "source": [
    "jan_green_one_rider['speed'] = jan_green_one_rider.apply(add_speed_to_trip, axis = 1)"
   ]
  },
  {
   "cell_type": "code",
   "execution_count": null,
   "metadata": {},
   "outputs": [],
   "source": [
    "jan_green_one_rider.head()"
   ]
  },
  {
   "cell_type": "code",
   "execution_count": null,
   "metadata": {},
   "outputs": [],
   "source": []
  }
 ],
 "metadata": {
  "kernelspec": {
   "display_name": "Python 3",
   "language": "python",
   "name": "python3"
  },
  "language_info": {
   "codemirror_mode": {
    "name": "ipython",
    "version": 3
   },
   "file_extension": ".py",
   "mimetype": "text/x-python",
   "name": "python",
   "nbconvert_exporter": "python",
   "pygments_lexer": "ipython3",
   "version": "3.8.5"
  }
 },
 "nbformat": 4,
 "nbformat_minor": 4
}
