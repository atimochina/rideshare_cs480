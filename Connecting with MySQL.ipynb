{
 "cells": [
  {
   "cell_type": "markdown",
   "metadata": {},
   "source": [
    "# Connecting MySQL Database to Jupyter Notebooks\n",
    "\n",
    "### Step 1. Download mysql-connector-python \n",
    "You can do this through commands such as: pip install mysql-connector-python \n",
    "\n",
    "### Step 2. Connect to your database\n",
    "Add your password and uncomment out the others"
   ]
  },
  {
   "cell_type": "code",
   "execution_count": 2,
   "metadata": {},
   "outputs": [],
   "source": [
    "import pandas as pd\n",
    "import mysql.connector\n",
    "\n",
    "db = mysql.connector.connect(\n",
    "    user=\"root\",\n",
    "    password=\"{Password}\", #angy, comment/un-comment for yours\n",
    "    # password = \"\",\n",
    "    host=\"localhost\",\n",
    "    port = 3306,\n",
    "    database = 'rideshare'\n",
    ")"
   ]
  },
  {
   "cell_type": "markdown",
   "metadata": {},
   "source": [
    "#### Checking connection"
   ]
  },
  {
   "cell_type": "code",
   "execution_count": 3,
   "metadata": {
    "scrolled": true
   },
   "outputs": [
    {
     "name": "stdout",
     "output_type": "stream",
     "text": [
      "<mysql.connector.connection_cext.CMySQLConnection object at 0x000002BE75629E80>\n"
     ]
    }
   ],
   "source": [
    "print(db)\n"
   ]
  },
  {
   "cell_type": "markdown",
   "metadata": {},
   "source": [
    "#### Setting cursor that will allow us to execute commands like in MySQL queries"
   ]
  },
  {
   "cell_type": "code",
   "execution_count": 4,
   "metadata": {},
   "outputs": [],
   "source": [
    "cursor = db.cursor() "
   ]
  },
  {
   "cell_type": "markdown",
   "metadata": {},
   "source": [
    "#### Listing all tables in current database = rideshare"
   ]
  },
  {
   "cell_type": "code",
   "execution_count": 5,
   "metadata": {},
   "outputs": [
    {
     "name": "stdout",
     "output_type": "stream",
     "text": [
      "april_green\n",
      "april_yellow\n",
      "february_green\n",
      "february_yellow\n",
      "jan_green_one_rider\n",
      "jan_green_two_rider\n",
      "january_green\n",
      "january_yellow\n",
      "june_green\n",
      "june_yellow\n",
      "march_green\n",
      "march_yellow\n",
      "may_green\n",
      "may_yellow\n",
      "testing_table\n"
     ]
    }
   ],
   "source": [
    "cursor.execute(\"SHOW TABLES\")\n",
    "for table in [tables[0] for tables in cursor.fetchall()]:\n",
    "    print(table)"
   ]
  },
  {
   "cell_type": "markdown",
   "metadata": {},
   "source": [
    "#### Selecting the january green taxi data that was split with passenger count = 1"
   ]
  },
  {
   "cell_type": "code",
   "execution_count": 6,
   "metadata": {},
   "outputs": [],
   "source": [
    "jan_green_one_rider = pd.read_sql(\"select * from jan_green_one_rider\", db);"
   ]
  },
  {
   "cell_type": "code",
   "execution_count": 7,
   "metadata": {},
   "outputs": [
    {
     "data": {
      "text/html": [
       "<div>\n",
       "<style scoped>\n",
       "    .dataframe tbody tr th:only-of-type {\n",
       "        vertical-align: middle;\n",
       "    }\n",
       "\n",
       "    .dataframe tbody tr th {\n",
       "        vertical-align: top;\n",
       "    }\n",
       "\n",
       "    .dataframe thead th {\n",
       "        text-align: right;\n",
       "    }\n",
       "</style>\n",
       "<table border=\"1\" class=\"dataframe\">\n",
       "  <thead>\n",
       "    <tr style=\"text-align: right;\">\n",
       "      <th></th>\n",
       "      <th>ride_id</th>\n",
       "      <th>pickup_datetime</th>\n",
       "      <th>dropoff_datetime</th>\n",
       "      <th>pickup_longitude</th>\n",
       "      <th>pickup_latitude</th>\n",
       "      <th>dropoff_longitude</th>\n",
       "      <th>dropoff_latitude</th>\n",
       "      <th>passenger_count</th>\n",
       "      <th>trip_distance</th>\n",
       "    </tr>\n",
       "  </thead>\n",
       "  <tbody>\n",
       "    <tr>\n",
       "      <th>0</th>\n",
       "      <td>14</td>\n",
       "      <td>2014-01-01 00:00:07</td>\n",
       "      <td>2014-01-01 00:08:28</td>\n",
       "      <td>-73.916992</td>\n",
       "      <td>40.771004</td>\n",
       "      <td>-73.888550</td>\n",
       "      <td>40.745453</td>\n",
       "      <td>1</td>\n",
       "      <td>2.52</td>\n",
       "    </tr>\n",
       "    <tr>\n",
       "      <th>1</th>\n",
       "      <td>16</td>\n",
       "      <td>2014-01-01 00:00:13</td>\n",
       "      <td>2014-01-01 00:07:26</td>\n",
       "      <td>-73.844109</td>\n",
       "      <td>40.721107</td>\n",
       "      <td>-73.816330</td>\n",
       "      <td>40.714375</td>\n",
       "      <td>1</td>\n",
       "      <td>1.66</td>\n",
       "    </tr>\n",
       "    <tr>\n",
       "      <th>2</th>\n",
       "      <td>17</td>\n",
       "      <td>2014-01-01 00:00:13</td>\n",
       "      <td>2014-01-01 00:18:35</td>\n",
       "      <td>-73.911644</td>\n",
       "      <td>40.767956</td>\n",
       "      <td>-73.946960</td>\n",
       "      <td>40.751373</td>\n",
       "      <td>1</td>\n",
       "      <td>2.66</td>\n",
       "    </tr>\n",
       "    <tr>\n",
       "      <th>3</th>\n",
       "      <td>18</td>\n",
       "      <td>2014-01-01 00:00:16</td>\n",
       "      <td>2014-01-01 00:04:05</td>\n",
       "      <td>-73.954727</td>\n",
       "      <td>40.800072</td>\n",
       "      <td>-73.946892</td>\n",
       "      <td>40.813335</td>\n",
       "      <td>1</td>\n",
       "      <td>1.02</td>\n",
       "    </tr>\n",
       "    <tr>\n",
       "      <th>4</th>\n",
       "      <td>19</td>\n",
       "      <td>2014-01-01 00:00:16</td>\n",
       "      <td>2014-01-01 00:08:32</td>\n",
       "      <td>-73.924431</td>\n",
       "      <td>40.743668</td>\n",
       "      <td>-73.934021</td>\n",
       "      <td>40.736256</td>\n",
       "      <td>1</td>\n",
       "      <td>1.10</td>\n",
       "    </tr>\n",
       "  </tbody>\n",
       "</table>\n",
       "</div>"
      ],
      "text/plain": [
       "   ride_id     pickup_datetime    dropoff_datetime  pickup_longitude  \\\n",
       "0       14 2014-01-01 00:00:07 2014-01-01 00:08:28        -73.916992   \n",
       "1       16 2014-01-01 00:00:13 2014-01-01 00:07:26        -73.844109   \n",
       "2       17 2014-01-01 00:00:13 2014-01-01 00:18:35        -73.911644   \n",
       "3       18 2014-01-01 00:00:16 2014-01-01 00:04:05        -73.954727   \n",
       "4       19 2014-01-01 00:00:16 2014-01-01 00:08:32        -73.924431   \n",
       "\n",
       "   pickup_latitude  dropoff_longitude  dropoff_latitude  passenger_count  \\\n",
       "0        40.771004         -73.888550         40.745453                1   \n",
       "1        40.721107         -73.816330         40.714375                1   \n",
       "2        40.767956         -73.946960         40.751373                1   \n",
       "3        40.800072         -73.946892         40.813335                1   \n",
       "4        40.743668         -73.934021         40.736256                1   \n",
       "\n",
       "   trip_distance  \n",
       "0           2.52  \n",
       "1           1.66  \n",
       "2           2.66  \n",
       "3           1.02  \n",
       "4           1.10  "
      ]
     },
     "execution_count": 7,
     "metadata": {},
     "output_type": "execute_result"
    }
   ],
   "source": [
    "jan_green_one_rider.head()"
   ]
  },
  {
   "cell_type": "code",
   "execution_count": 8,
   "metadata": {},
   "outputs": [
    {
     "data": {
      "text/html": [
       "<div>\n",
       "<style scoped>\n",
       "    .dataframe tbody tr th:only-of-type {\n",
       "        vertical-align: middle;\n",
       "    }\n",
       "\n",
       "    .dataframe tbody tr th {\n",
       "        vertical-align: top;\n",
       "    }\n",
       "\n",
       "    .dataframe thead th {\n",
       "        text-align: right;\n",
       "    }\n",
       "</style>\n",
       "<table border=\"1\" class=\"dataframe\">\n",
       "  <thead>\n",
       "    <tr style=\"text-align: right;\">\n",
       "      <th></th>\n",
       "      <th>ride_id</th>\n",
       "      <th>pickup_longitude</th>\n",
       "      <th>pickup_latitude</th>\n",
       "      <th>dropoff_longitude</th>\n",
       "      <th>dropoff_latitude</th>\n",
       "      <th>passenger_count</th>\n",
       "      <th>trip_distance</th>\n",
       "    </tr>\n",
       "  </thead>\n",
       "  <tbody>\n",
       "    <tr>\n",
       "      <th>count</th>\n",
       "      <td>655733.000000</td>\n",
       "      <td>655733.000000</td>\n",
       "      <td>655733.000000</td>\n",
       "      <td>655733.000000</td>\n",
       "      <td>655733.000000</td>\n",
       "      <td>655733.0</td>\n",
       "      <td>655733.000000</td>\n",
       "    </tr>\n",
       "    <tr>\n",
       "      <th>mean</th>\n",
       "      <td>403964.444509</td>\n",
       "      <td>-73.929338</td>\n",
       "      <td>40.768330</td>\n",
       "      <td>-73.930191</td>\n",
       "      <td>40.764482</td>\n",
       "      <td>1.0</td>\n",
       "      <td>2.801951</td>\n",
       "    </tr>\n",
       "    <tr>\n",
       "      <th>std</th>\n",
       "      <td>231990.649738</td>\n",
       "      <td>0.041573</td>\n",
       "      <td>0.056830</td>\n",
       "      <td>0.050029</td>\n",
       "      <td>0.057865</td>\n",
       "      <td>0.0</td>\n",
       "      <td>2.828160</td>\n",
       "    </tr>\n",
       "    <tr>\n",
       "      <th>min</th>\n",
       "      <td>14.000000</td>\n",
       "      <td>-75.090698</td>\n",
       "      <td>39.938019</td>\n",
       "      <td>-75.090698</td>\n",
       "      <td>39.938019</td>\n",
       "      <td>1.0</td>\n",
       "      <td>0.000000</td>\n",
       "    </tr>\n",
       "    <tr>\n",
       "      <th>25%</th>\n",
       "      <td>202612.000000</td>\n",
       "      <td>-73.955147</td>\n",
       "      <td>40.721317</td>\n",
       "      <td>-73.962837</td>\n",
       "      <td>40.724487</td>\n",
       "      <td>1.0</td>\n",
       "      <td>1.030000</td>\n",
       "    </tr>\n",
       "    <tr>\n",
       "      <th>50%</th>\n",
       "      <td>403106.000000</td>\n",
       "      <td>-73.940376</td>\n",
       "      <td>40.766766</td>\n",
       "      <td>-73.940834</td>\n",
       "      <td>40.763718</td>\n",
       "      <td>1.0</td>\n",
       "      <td>1.860000</td>\n",
       "    </tr>\n",
       "    <tr>\n",
       "      <th>75%</th>\n",
       "      <td>605076.000000</td>\n",
       "      <td>-73.908745</td>\n",
       "      <td>40.810314</td>\n",
       "      <td>-73.903275</td>\n",
       "      <td>40.807701</td>\n",
       "      <td>1.0</td>\n",
       "      <td>3.600000</td>\n",
       "    </tr>\n",
       "    <tr>\n",
       "      <th>max</th>\n",
       "      <td>803852.000000</td>\n",
       "      <td>-72.633492</td>\n",
       "      <td>41.620792</td>\n",
       "      <td>-72.633492</td>\n",
       "      <td>41.620815</td>\n",
       "      <td>1.0</td>\n",
       "      <td>115.610000</td>\n",
       "    </tr>\n",
       "  </tbody>\n",
       "</table>\n",
       "</div>"
      ],
      "text/plain": [
       "             ride_id  pickup_longitude  pickup_latitude  dropoff_longitude  \\\n",
       "count  655733.000000     655733.000000    655733.000000      655733.000000   \n",
       "mean   403964.444509        -73.929338        40.768330         -73.930191   \n",
       "std    231990.649738          0.041573         0.056830           0.050029   \n",
       "min        14.000000        -75.090698        39.938019         -75.090698   \n",
       "25%    202612.000000        -73.955147        40.721317         -73.962837   \n",
       "50%    403106.000000        -73.940376        40.766766         -73.940834   \n",
       "75%    605076.000000        -73.908745        40.810314         -73.903275   \n",
       "max    803852.000000        -72.633492        41.620792         -72.633492   \n",
       "\n",
       "       dropoff_latitude  passenger_count  trip_distance  \n",
       "count     655733.000000         655733.0  655733.000000  \n",
       "mean          40.764482              1.0       2.801951  \n",
       "std            0.057865              0.0       2.828160  \n",
       "min           39.938019              1.0       0.000000  \n",
       "25%           40.724487              1.0       1.030000  \n",
       "50%           40.763718              1.0       1.860000  \n",
       "75%           40.807701              1.0       3.600000  \n",
       "max           41.620815              1.0     115.610000  "
      ]
     },
     "execution_count": 8,
     "metadata": {},
     "output_type": "execute_result"
    }
   ],
   "source": [
    "jan_green_one_rider.describe()"
   ]
  },
  {
   "cell_type": "code",
   "execution_count": null,
   "metadata": {},
   "outputs": [],
   "source": []
  }
 ],
 "metadata": {
  "kernelspec": {
   "display_name": "Python 3",
   "language": "python",
   "name": "python3"
  },
  "language_info": {
   "codemirror_mode": {
    "name": "ipython",
    "version": 3
   },
   "file_extension": ".py",
   "mimetype": "text/x-python",
   "name": "python",
   "nbconvert_exporter": "python",
   "pygments_lexer": "ipython3",
   "version": "3.8.5"
  }
 },
 "nbformat": 4,
 "nbformat_minor": 4
}
